{
 "cells": [
  {
   "attachments": {},
   "cell_type": "markdown",
   "id": "90347b3b",
   "metadata": {},
   "source": [
    "## Importing libraries"
   ]
  },
  {
   "cell_type": "code",
   "execution_count": 96,
   "id": "65255310",
   "metadata": {},
   "outputs": [],
   "source": [
    "import cobra\n",
    "# from cobra.core import Metabolite, Reaction, Model\n",
    "import matplotlib.pyplot as plt\n",
    "import numpy as np\n",
    "import seaborn as sns\n",
    "import pandas as pd\n",
    "import importlib\n",
    "import matplotlib.lines as mlines\n",
    "import matplotlib\n",
    "# import d3flux"
   ]
  },
  {
   "cell_type": "code",
   "execution_count": 97,
   "id": "73924d4c",
   "metadata": {},
   "outputs": [],
   "source": [
    "from cobra.flux_analysis import flux_variability_analysis\n",
    "import plotly.io as pio\n",
    "import plotly.express as px\n",
    "from escher import Builder"
   ]
  },
  {
   "cell_type": "code",
   "execution_count": 98,
   "id": "b4bff9f3",
   "metadata": {},
   "outputs": [
    {
     "data": {
      "text/plain": [
       "<module 'metabolic_analysis_library' from '/home/csiharath/Documents/mitocore_calpainopathy/metabolic_analysis_library.py'>"
      ]
     },
     "execution_count": 98,
     "metadata": {},
     "output_type": "execute_result"
    }
   ],
   "source": [
    "import metabolic_analysis_library as mal\n",
    "importlib.reload(mal)"
   ]
  },
  {
   "attachments": {},
   "cell_type": "markdown",
   "id": "f28e3d94",
   "metadata": {},
   "source": [
    "## Loading sbml model"
   ]
  },
  {
   "cell_type": "code",
   "execution_count": 99,
   "id": "5e62ac3b",
   "metadata": {},
   "outputs": [],
   "source": [
    "# Loading one model for each condition\n",
    "\n",
    "mitocore_mouse25=cobra.io.read_sbml_model(\"Models/Mitocore_mouse.xml\")\n",
    "mitocore_mouse65=cobra.io.read_sbml_model(\"Models/Mitocore_mouse.xml\")\n",
    "mitocore_mouse85=cobra.io.read_sbml_model(\"Models/Mitocore_mouse.xml\")\n",
    "mitocore_mouse100=cobra.io.read_sbml_model(\"Models/Mitocore_mouse.xml\")\n",
    "mitocore_mouse85_bis=cobra.io.read_sbml_model(\"Models/Mitocore_mouse.xml\")\n",
    "mitocore_mouse100_calpain=cobra.io.read_sbml_model(\"Models/Mitocore_mouse.xml\")\n",
    "mitocore_mouse_to_update=cobra.io.read_sbml_model(\"Models/Mitocore_mouse.xml\")"
   ]
  },
  {
   "attachments": {},
   "cell_type": "markdown",
   "id": "b0deb2e4",
   "metadata": {},
   "source": [
    "### Choosing the solver"
   ]
  },
  {
   "cell_type": "code",
   "execution_count": 100,
   "id": "d0f0fce0",
   "metadata": {},
   "outputs": [],
   "source": [
    "models_to_use = [mitocore_mouse25, mitocore_mouse65, mitocore_mouse85, mitocore_mouse100, mitocore_mouse100_calpain, mitocore_mouse_to_update, mitocore_mouse85_bis]\n",
    "\n",
    "for model in models_to_use:\n",
    "    model.solver = 'glpk'"
   ]
  },
  {
   "cell_type": "code",
   "execution_count": 101,
   "id": "6bd77b56",
   "metadata": {},
   "outputs": [
    {
     "data": {
      "text/html": [
       "\n",
       "        <table>\n",
       "            <tr>\n",
       "                <td><strong>Name</strong></td>\n",
       "                <td>S1SBMLmodel</td>\n",
       "            </tr><tr>\n",
       "                <td><strong>Memory address</strong></td>\n",
       "                <td>0x07f4ee055b310</td>\n",
       "            </tr><tr>\n",
       "                <td><strong>Number of metabolites</strong></td>\n",
       "                <td>441</td>\n",
       "            </tr><tr>\n",
       "                <td><strong>Number of reactions</strong></td>\n",
       "                <td>554</td>\n",
       "            </tr><tr>\n",
       "                <td><strong>Number of groups</strong></td>\n",
       "                <td>96</td>\n",
       "            </tr><tr>\n",
       "                <td><strong>Objective expression</strong></td>\n",
       "                <td>1.0*OF_ATP_MitoCore - 1.0*OF_ATP_MitoCore_reverse_653d9</td>\n",
       "            </tr><tr>\n",
       "                <td><strong>Compartments</strong></td>\n",
       "                <td>Cytosol, Mitochondrion, External</td>\n",
       "            </tr>\n",
       "          </table>"
      ],
      "text/plain": [
       "<Model S1SBMLmodel at 0x7f4ee055b310>"
      ]
     },
     "execution_count": 101,
     "metadata": {},
     "output_type": "execute_result"
    }
   ],
   "source": [
    "mitocore_mouse25"
   ]
  },
  {
   "attachments": {},
   "cell_type": "markdown",
   "id": "a7fb6b29",
   "metadata": {},
   "source": [
    "## Variables"
   ]
  },
  {
   "cell_type": "code",
   "execution_count": 102,
   "id": "1eacebba",
   "metadata": {},
   "outputs": [],
   "source": [
    "dict_results_voie_metabolique=dict()\n",
    "dict_results_accoa=dict()\n",
    "dict_results_atp=dict()"
   ]
  },
  {
   "attachments": {},
   "cell_type": "markdown",
   "id": "f4d17219",
   "metadata": {},
   "source": [
    "## Options"
   ]
  },
  {
   "cell_type": "code",
   "execution_count": 103,
   "id": "721c7328",
   "metadata": {},
   "outputs": [],
   "source": [
    "VO2max_25 = True\n",
    "VO2max_65 = True\n",
    "VO2max_85 = True\n",
    "VO2max_100 = True\n",
    "\n",
    "mouse_WT = True\n",
    "mouse_calpain = True\n",
    "\n",
    "treemaps = False"
   ]
  },
  {
   "attachments": {},
   "cell_type": "markdown",
   "id": "b2e3003e",
   "metadata": {},
   "source": [
    "## Mice model WT"
   ]
  },
  {
   "cell_type": "code",
   "execution_count": 104,
   "id": "43f5f492",
   "metadata": {},
   "outputs": [],
   "source": [
    "if VO2max_25 and mouse_WT:\n",
    "    output25=mal.define_boundary_and_run_model(model=mitocore_mouse25,O2_upper_bound=3.7,glucose_upper_bound=0.03,\n",
    "        FA_upper_bound=0.1,hydroxybutyrate_upper_bound=0.048,Acetoacetate_upper_bound=0.114, atp_value=14.6, FVA=True)\n",
    "    \n",
    "    solution25 = output25[3]\n",
    "    solution25_dt = solution25.to_frame()"
   ]
  },
  {
   "cell_type": "code",
   "execution_count": 105,
   "id": "e21f29ce",
   "metadata": {},
   "outputs": [],
   "source": [
    "if VO2max_65 and mouse_WT:\n",
    "    output65=mal.define_boundary_and_run_model(model=mitocore_mouse65,O2_upper_bound=7.9,glucose_upper_bound=0.13,\n",
    "        FA_upper_bound=0.27,hydroxybutyrate_upper_bound=0.048,Acetoacetate_upper_bound=0.114, atp_value=36.52, FVA=True)\n",
    "    \n",
    "    solution65 = output65[3]\n",
    "    solution65_dt = solution65.to_frame()"
   ]
  },
  {
   "cell_type": "code",
   "execution_count": 106,
   "id": "2a1bed0a",
   "metadata": {},
   "outputs": [],
   "source": [
    "if VO2max_85 and mouse_WT:\n",
    "    output85=mal.define_boundary_and_run_model(model=mitocore_mouse85,O2_upper_bound=11.1,glucose_upper_bound=0.6,\n",
    "        FA_upper_bound=0.3,hydroxybutyrate_upper_bound=0.048,Acetoacetate_upper_bound=0.114, atp_value=54.8, FVA=True)\n",
    "    \n",
    "    solution85 = output85[3]\n",
    "    solution85_dt = solution85.to_frame()"
   ]
  },
  {
   "cell_type": "code",
   "execution_count": 107,
   "id": "063ae699",
   "metadata": {},
   "outputs": [],
   "source": [
    "if VO2max_100 and mouse_WT:\n",
    "    output100=mal.define_boundary_and_run_model(model=mitocore_mouse100,O2_upper_bound=14,glucose_upper_bound=2,\n",
    "        FA_upper_bound=0.08,hydroxybutyrate_upper_bound=0.048,Acetoacetate_upper_bound=0.114, atp_value=75, FVA=True)\n",
    "    \n",
    "    solution100 = output100[3]\n",
    "    solution100_dt = solution100.to_frame()"
   ]
  },
  {
   "attachments": {},
   "cell_type": "markdown",
   "id": "a503ff11",
   "metadata": {},
   "source": [
    "### Key fluxes"
   ]
  },
  {
   "cell_type": "code",
   "execution_count": 108,
   "id": "a00b7afb",
   "metadata": {},
   "outputs": [
    {
     "data": {
      "text/html": [
       "<div>\n",
       "<style scoped>\n",
       "    .dataframe tbody tr th:only-of-type {\n",
       "        vertical-align: middle;\n",
       "    }\n",
       "\n",
       "    .dataframe tbody tr th {\n",
       "        vertical-align: top;\n",
       "    }\n",
       "\n",
       "    .dataframe thead th {\n",
       "        text-align: right;\n",
       "    }\n",
       "</style>\n",
       "<table border=\"1\" class=\"dataframe\">\n",
       "  <thead>\n",
       "    <tr style=\"text-align: right;\">\n",
       "      <th></th>\n",
       "      <th>wt_25</th>\n",
       "      <th>wt_65</th>\n",
       "      <th>wt_85</th>\n",
       "      <th>wt_100</th>\n",
       "    </tr>\n",
       "  </thead>\n",
       "  <tbody>\n",
       "    <tr>\n",
       "      <th>FBA</th>\n",
       "      <td>0.030000</td>\n",
       "      <td>0.130000</td>\n",
       "      <td>0.600000</td>\n",
       "      <td>2.000000</td>\n",
       "    </tr>\n",
       "    <tr>\n",
       "      <th>PDHm</th>\n",
       "      <td>0.110500</td>\n",
       "      <td>0.201000</td>\n",
       "      <td>1.304833</td>\n",
       "      <td>3.846167</td>\n",
       "    </tr>\n",
       "    <tr>\n",
       "      <th>LDH_L</th>\n",
       "      <td>-0.075000</td>\n",
       "      <td>-0.104000</td>\n",
       "      <td>-0.141167</td>\n",
       "      <td>-0.399833</td>\n",
       "    </tr>\n",
       "    <tr>\n",
       "      <th>CSm</th>\n",
       "      <td>1.104578</td>\n",
       "      <td>2.801400</td>\n",
       "      <td>3.768833</td>\n",
       "      <td>4.694167</td>\n",
       "    </tr>\n",
       "    <tr>\n",
       "      <th>CI_MitoCore</th>\n",
       "      <td>3.188657</td>\n",
       "      <td>8.542738</td>\n",
       "      <td>14.333087</td>\n",
       "      <td>21.446837</td>\n",
       "    </tr>\n",
       "    <tr>\n",
       "      <th>r0722</th>\n",
       "      <td>0.100000</td>\n",
       "      <td>0.270000</td>\n",
       "      <td>0.300000</td>\n",
       "      <td>0.080000</td>\n",
       "    </tr>\n",
       "    <tr>\n",
       "      <th>r0732</th>\n",
       "      <td>0.100000</td>\n",
       "      <td>0.270000</td>\n",
       "      <td>0.300000</td>\n",
       "      <td>0.080000</td>\n",
       "    </tr>\n",
       "    <tr>\n",
       "      <th>OF_ATP_MitoCore</th>\n",
       "      <td>14.600000</td>\n",
       "      <td>36.520000</td>\n",
       "      <td>54.800000</td>\n",
       "      <td>75.000000</td>\n",
       "    </tr>\n",
       "    <tr>\n",
       "      <th>O2t</th>\n",
       "      <td>3.311407</td>\n",
       "      <td>7.900000</td>\n",
       "      <td>11.100000</td>\n",
       "      <td>14.000000</td>\n",
       "    </tr>\n",
       "  </tbody>\n",
       "</table>\n",
       "</div>"
      ],
      "text/plain": [
       "                     wt_25      wt_65      wt_85     wt_100\n",
       "FBA               0.030000   0.130000   0.600000   2.000000\n",
       "PDHm              0.110500   0.201000   1.304833   3.846167\n",
       "LDH_L            -0.075000  -0.104000  -0.141167  -0.399833\n",
       "CSm               1.104578   2.801400   3.768833   4.694167\n",
       "CI_MitoCore       3.188657   8.542738  14.333087  21.446837\n",
       "r0722             0.100000   0.270000   0.300000   0.080000\n",
       "r0732             0.100000   0.270000   0.300000   0.080000\n",
       "OF_ATP_MitoCore  14.600000  36.520000  54.800000  75.000000\n",
       "O2t               3.311407   7.900000  11.100000  14.000000"
      ]
     },
     "execution_count": 108,
     "metadata": {},
     "output_type": "execute_result"
    }
   ],
   "source": [
    "key_reactions = mal.create_df_key_fluxes({'wt_25': solution25, 'wt_65': solution65, 'wt_85': solution85, 'wt_100': solution100}, list_enzyme=[\"FBA\", \"PDHm\", \"LDH_L\", \"CSm\", \"CI_MitoCore\", \"r0722\", \"r0732\", \"OF_ATP_MitoCore\", \"O2t\"])\n",
    "key_reactions"
   ]
  },
  {
   "attachments": {},
   "cell_type": "markdown",
   "id": "e6bfe0e0",
   "metadata": {},
   "source": [
    "### Building dataframes"
   ]
  },
  {
   "attachments": {},
   "cell_type": "markdown",
   "id": "6b3184fa",
   "metadata": {},
   "source": [
    "#### Dataframes for treemaps"
   ]
  },
  {
   "cell_type": "code",
   "execution_count": 109,
   "id": "926f515a",
   "metadata": {},
   "outputs": [],
   "source": [
    "dt25 = mal.build_dataframe(mitocore_mouse25, solution25, 0, 18)\n",
    "dt65 = mal.build_dataframe(mitocore_mouse65, solution65, 0, 18)\n",
    "dt85 = mal.build_dataframe(mitocore_mouse85, solution85, 0, 18)\n",
    "dt100 = mal.build_dataframe(mitocore_mouse100, solution100, 0, 18)"
   ]
  },
  {
   "attachments": {},
   "cell_type": "markdown",
   "id": "09001bf6",
   "metadata": {},
   "source": [
    "#### Dataframes of all fluxes"
   ]
  },
  {
   "cell_type": "code",
   "execution_count": 110,
   "id": "edc0df10",
   "metadata": {},
   "outputs": [],
   "source": [
    "all_fluxes_25 = mal.build_dataframe_visual(mitocore_mouse25, solution25)"
   ]
  },
  {
   "cell_type": "code",
   "execution_count": 111,
   "id": "d98db346",
   "metadata": {},
   "outputs": [],
   "source": [
    "all_fluxes_65 = mal.build_dataframe_visual(mitocore_mouse65, solution65)\n",
    "# print(all_fluxes_65.to_markdown())"
   ]
  },
  {
   "cell_type": "code",
   "execution_count": 112,
   "id": "dce3f3b1",
   "metadata": {},
   "outputs": [],
   "source": [
    "all_fluxes_85 = mal.build_dataframe_visual(mitocore_mouse85, solution85)\n",
    "# print(all_fluxes_85.to_markdown())"
   ]
  },
  {
   "cell_type": "code",
   "execution_count": 113,
   "id": "b4d7c043",
   "metadata": {},
   "outputs": [],
   "source": [
    "all_fluxes_100 = mal.build_dataframe_visual(mitocore_mouse100, solution100)\n",
    "# print(all_fluxes_100.to_markdown())"
   ]
  },
  {
   "attachments": {},
   "cell_type": "markdown",
   "id": "65013cf2",
   "metadata": {},
   "source": [
    "### Flux Variability Analysis"
   ]
  },
  {
   "cell_type": "code",
   "execution_count": 114,
   "id": "4f499efa",
   "metadata": {},
   "outputs": [],
   "source": [
    "fva25 = output25[4]\n",
    "fva65 = output65[4]\n",
    "fva85 = output85[4]\n",
    "fva100 = output100[4]"
   ]
  },
  {
   "cell_type": "code",
   "execution_count": 115,
   "id": "e120dd9b",
   "metadata": {},
   "outputs": [],
   "source": [
    "df = mal.build_dataframe_visual(mitocore_mouse100, fva100, True)\n",
    "# print(df.to_markdown())"
   ]
  },
  {
   "attachments": {},
   "cell_type": "markdown",
   "id": "eeb927fe",
   "metadata": {},
   "source": [
    "### Building treemaps"
   ]
  },
  {
   "cell_type": "code",
   "execution_count": 116,
   "id": "39f62532",
   "metadata": {},
   "outputs": [],
   "source": [
    "if mouse_WT and treemaps:\n",
    "    mal.display_treemap(dt25, '25')\n",
    "    mal.display_treemap(dt65, '65')\n",
    "    mal.display_treemap(dt85, '85')\n",
    "    mal.display_treemap(dt100, '100')"
   ]
  },
  {
   "attachments": {},
   "cell_type": "markdown",
   "id": "70cb3be5",
   "metadata": {},
   "source": [
    "### Relative contributions of pathways during exercise"
   ]
  },
  {
   "cell_type": "code",
   "execution_count": 117,
   "id": "f418e469",
   "metadata": {},
   "outputs": [
    {
     "name": "stdout",
     "output_type": "stream",
     "text": [
      "['glycolysis', 'beta oxidation', 'Ketone bodies', 'Leucine degradation', 'Isoleucine degradation']\n"
     ]
    },
    {
     "data": {
      "image/png": "[encoded data removed]",
      "text/plain": [
       "<Figure size 400x500 with 1 Axes>"
      ]
     },
     "metadata": {},
     "output_type": "display_data"
    },
    {
     "data": {
      "text/plain": [
       "<module 'matplotlib.pyplot' from '/home/csiharath/.conda/envs/mitoenv/lib/python3.8/site-packages/matplotlib/pyplot.py'>"
      ]
     },
     "execution_count": 117,
     "metadata": {},
     "output_type": "execute_result"
    }
   ],
   "source": [
    "dict_path = {'glycolysis': 'PGM', \"beta oxidation\":'r0732', \"Ketone bodies\":'BDHm', \"Leucine degradation\":'LEUTAm', 'Isoleucine degradation': \"ILETAm\"}\n",
    "df_metabolic_pathways=mal.get_dict_pathways([solution25, solution65, solution85, solution100], dict_path)\n",
    "mal.barplot_pathways(df_metabolic_pathways, \"plot_pathways_control.png\", keys=['glycolysis', 'beta oxidation', 'Ketone bodies', 'Leucine degradation', 'Isoleucine degradation'])"
   ]
  },
  {
   "cell_type": "code",
   "execution_count": 118,
   "id": "3500a6d1",
   "metadata": {},
   "outputs": [],
   "source": [
    "df_metabolic_pathways_prop = mal.build_df_proportion(df_metabolic_pathways)"
   ]
  },
  {
   "cell_type": "code",
   "execution_count": 119,
   "id": "5f018820",
   "metadata": {},
   "outputs": [
    {
     "data": {
      "image/png": "[encoded data removed]",
      "text/plain": [
       "<Figure size 400x500 with 1 Axes>"
      ]
     },
     "metadata": {},
     "output_type": "display_data"
    },
    {
     "data": {
      "text/plain": [
       "<module 'matplotlib.pyplot' from '/home/csiharath/.conda/envs/mitoenv/lib/python3.8/site-packages/matplotlib/pyplot.py'>"
      ]
     },
     "execution_count": 119,
     "metadata": {},
     "output_type": "execute_result"
    }
   ],
   "source": [
    "mal.barplot_pathways(df_metabolic_pathways_prop,\"plot_pathways_proportions_control.png\", keys=['glycolysis', 'beta oxidation', 'Ketone bodies', 'Leucine degradation', 'Isoleucine degradation'], prop=True, add_legend=True)"
   ]
  },
  {
   "cell_type": "code",
   "execution_count": 120,
   "id": "ebd67032",
   "metadata": {},
   "outputs": [],
   "source": [
    "df_wt_plot = mal.create_df_flux_plot({'wt_25': [solution25, fva25], 'wt_65': [solution65, fva65], 'wt_85': [solution85, fva85], 'wt_100': [solution100, fva100]}, list_enzyme = [\"FBA\", \"PDHm\", \"LDH_L\", \"CSm\", \"CI_MitoCore\", \"r0722\", \"r0732\", \"O2t\"])"
   ]
  },
  {
   "cell_type": "code",
   "execution_count": 121,
   "id": "7eb5a87e",
   "metadata": {},
   "outputs": [],
   "source": [
    "# cmap = matplotlib.cm.get_cmap('Set2')\n",
    "# count = 0\n",
    "\n",
    "# for enzyme in list(set(df_wt_plot['enzymes'].to_list())):\n",
    "#     df_enz = df_wt_plot.loc[df_wt_plot['enzymes'] == enzyme]\n",
    "#     fig, ax = plt.subplots(1, 1, figsize=(5, 1.5), sharey=True)\n",
    "#     ax.scatter(df_enz['intensity'], df_enz['fluxes'], color=cmap(count))\n",
    "#     ax.plot(df_enz['intensity'], df_enz['fluxes'], color=cmap(count))\n",
    "#     ax.fill_between(df_enz['intensity'], df_enz['fva_min'], df_enz['fva_max'], alpha=0.2, color=cmap(count), linewidth=0)\n",
    "#     leg = mlines.Line2D([], [], color=cmap(count), marker='.', markersize=10, label=enzyme, ls='-')\n",
    "#     fig.legend(handles=[leg])\n",
    "#     count += 1"
   ]
  },
  {
   "attachments": {},
   "cell_type": "markdown",
   "id": "e971dc9a",
   "metadata": {},
   "source": [
    "## Mice model Calpainopathy"
   ]
  },
  {
   "cell_type": "code",
   "execution_count": 122,
   "id": "bed308ec",
   "metadata": {},
   "outputs": [],
   "source": [
    "mitocore_mouse25_calpain=cobra.io.read_sbml_model(\"Models/Mitocore_mouse_calpain.xml\")\n",
    "mitocore_mouse65_calpain=cobra.io.read_sbml_model(\"Models/Mitocore_mouse_calpain.xml\")\n",
    "mitocore_mouse85_calpain=cobra.io.read_sbml_model(\"Models/Mitocore_mouse_calpain.xml\")\n",
    "mitocore_mouse100bis_calpain=cobra.io.read_sbml_model(\"Models/Mitocore_mouse_calpain.xml\")"
   ]
  },
  {
   "cell_type": "code",
   "execution_count": 123,
   "id": "0665ea4c",
   "metadata": {},
   "outputs": [],
   "source": [
    "models_to_use = [mitocore_mouse25_calpain, mitocore_mouse65_calpain, mitocore_mouse85_calpain, mitocore_mouse100bis_calpain]\n",
    "\n",
    "for model in models_to_use:\n",
    "    model.solver = 'glpk'\n",
    "    # for reaction, row in df_bounds_negative.iterrows():\n",
    "    #     model.reactions.get_by_id(reaction).lower_bound = row['lowerbounds_calpain']"
   ]
  },
  {
   "cell_type": "code",
   "execution_count": 124,
   "id": "f23bbcfa",
   "metadata": {},
   "outputs": [],
   "source": [
    "O2_ub_25 = min(mitocore_mouse25_calpain.reactions.O2t.upper_bound, 3.7)\n",
    "GLC_ub_25 = min(mitocore_mouse25_calpain.reactions.GLCt1r.upper_bound, 0.03)\n",
    "FA_ub_25 = min(mitocore_mouse25_calpain.reactions.HDCAtr.upper_bound, 0.1)\n",
    "ATP_ub_25 = min(mitocore_mouse25_calpain.reactions.OF_ATP_MitoCore.upper_bound, 14.6)\n",
    "\n",
    "O2_ub_65 = min(mitocore_mouse65_calpain.reactions.O2t.upper_bound, 7.9)\n",
    "GLC_ub_65 = min(mitocore_mouse65_calpain.reactions.GLCt1r.upper_bound, 0.13)\n",
    "FA_ub_65 = min(mitocore_mouse65_calpain.reactions.HDCAtr.upper_bound, 0.27)\n",
    "ATP_ub_65 = min(mitocore_mouse65_calpain.reactions.OF_ATP_MitoCore.upper_bound, 36.52)\n",
    "\n",
    "O2_ub_85 = min(mitocore_mouse85_calpain.reactions.O2t.upper_bound, 11.1)\n",
    "GLC_ub_85 = min(mitocore_mouse85_calpain.reactions.GLCt1r.upper_bound, 0.6)\n",
    "FA_ub_85 = min(mitocore_mouse85_calpain.reactions.HDCAtr.upper_bound, 0.3)\n",
    "ATP_ub_85 = min(mitocore_mouse85_calpain.reactions.OF_ATP_MitoCore.upper_bound, 54.8)\n",
    "\n",
    "O2_ub_100 = min(mitocore_mouse100bis_calpain.reactions.O2t.upper_bound, 14)\n",
    "GLC_ub_100 = 2\n",
    "FA_ub_100 = min(mitocore_mouse100bis_calpain.reactions.HDCAtr.upper_bound, 0.08)\n",
    "ATP_ub_100 = min(mitocore_mouse100bis_calpain.reactions.OF_ATP_MitoCore.upper_bound, 75)"
   ]
  },
  {
   "cell_type": "code",
   "execution_count": 125,
   "id": "34cb7128",
   "metadata": {},
   "outputs": [],
   "source": [
    "mitocore_mouse25_calpain.reactions.LDH_L.upper_bound = solution25.to_frame().loc['LDH_L']['fluxes']\n",
    "mitocore_mouse65_calpain.reactions.LDH_L.upper_bound = solution65.to_frame().loc['LDH_L']['fluxes']\n",
    "mitocore_mouse85_calpain.reactions.LDH_L.upper_bound = solution85.to_frame().loc['LDH_L']['fluxes']\n",
    "mitocore_mouse100bis_calpain.reactions.LDH_L.upper_bound = solution100.to_frame().loc['LDH_L']['fluxes'] * 2.83\n",
    "# mitocore_mouse100bis_calpain.reactions.FBA.lower_bound = solution100.to_frame().loc['FBA']['fluxes'] * 1.33"
   ]
  },
  {
   "cell_type": "code",
   "execution_count": 126,
   "id": "36fd29b4",
   "metadata": {},
   "outputs": [],
   "source": [
    "if VO2max_25 and mouse_calpain:\n",
    "    output25_calpain=mal.define_boundary_and_run_model(model=mitocore_mouse25_calpain,O2_upper_bound=O2_ub_25,glucose_upper_bound=GLC_ub_25,\n",
    "        FA_upper_bound=FA_ub_25,hydroxybutyrate_upper_bound=0.048,Acetoacetate_upper_bound=0.114, atp_value=ATP_ub_25, FVA=True)\n",
    "    \n",
    "    solution25_calpain = output25_calpain[3]\n",
    "\n",
    "\n",
    "if VO2max_65 and mouse_calpain:\n",
    "    # mitocore_mouse.reactions.r0732.bounds = (0.75,1000)\n",
    "    output65_calpain=mal.define_boundary_and_run_model(model=mitocore_mouse65_calpain,O2_upper_bound=O2_ub_65,glucose_upper_bound=GLC_ub_65,\n",
    "        FA_upper_bound=FA_ub_65,hydroxybutyrate_upper_bound=0.048,Acetoacetate_upper_bound=0.114, atp_value=ATP_ub_65, FVA=True)\n",
    "    \n",
    "    solution65_calpain = output65_calpain[3]\n",
    "\n",
    "\n",
    "if VO2max_85 and mouse_calpain:\n",
    "    # mitocore_mouse.reactions.r0732.bounds = (1,1000)\n",
    "    output85_calpain=mal.define_boundary_and_run_model(model=mitocore_mouse85_calpain,O2_upper_bound=O2_ub_85,glucose_upper_bound=GLC_ub_85,\n",
    "        FA_upper_bound=FA_ub_85,hydroxybutyrate_upper_bound=0.048,Acetoacetate_upper_bound=0.114, atp_value=ATP_ub_85, FVA=True)\n",
    "    \n",
    "    solution85_calpain = output85_calpain[3]\n",
    "\n",
    "\n",
    "if VO2max_100 and mouse_calpain:\n",
    "    output100_calpain=mal.define_boundary_and_run_model(model=mitocore_mouse100bis_calpain,O2_upper_bound=O2_ub_100,glucose_upper_bound=GLC_ub_100,\n",
    "        FA_upper_bound=FA_ub_100,hydroxybutyrate_upper_bound=0.048,Acetoacetate_upper_bound=0.114, atp_value=ATP_ub_100, FVA=True)\n",
    "    \n",
    "    solution100_calpain = output100_calpain[3]"
   ]
  },
  {
   "cell_type": "code",
   "execution_count": 127,
   "id": "c50e0866",
   "metadata": {},
   "outputs": [
    {
     "data": {
      "text/plain": [
       "Text(0, 0.5, 'ATP production flux')"
      ]
     },
     "execution_count": 127,
     "metadata": {},
     "output_type": "execute_result"
    },
    {
     "data": {
      "image/png": "[encoded data removed]",
      "text/plain": [
       "<Figure size 1200x500 with 4 Axes>"
      ]
     },
     "metadata": {},
     "output_type": "display_data"
    }
   ],
   "source": [
    "# cmap = matplotlib.cm.get_cmap('tab10')\n",
    "cmap = [\"#b2b2b2\", \"#e67d7e\"]\n",
    "fig, axes = plt.subplots(1, 4, figsize=(12, 5), sharey=True)\n",
    "label = ['25%', '65%', '85%', '100%']\n",
    "\n",
    "# plt.subplots_adjust(right=0.8)\n",
    "\n",
    "axes[0].bar([\"Control\", \"Calpainopathy\"], [14.6, 14.6], color=cmap)\n",
    "axes[1].bar([\"Control\", \"Calpainopathy\"], [36.52, 33.52], color=cmap)\n",
    "axes[2].bar([\"Control\", \"Calpainopathy\"], [54.8, 38.14], color=cmap)\n",
    "axes[3].bar([\"Control\", \"Calpainopathy\"], [75, 41.56], color=cmap)\n",
    "\n",
    "for i, ax in enumerate(axes):\n",
    "    ax.set_title(label[i], fontsize=13)\n",
    "    ax.tick_params(labelsize=12)\n",
    "    ax.set_ylim(0, 75)\n",
    "# fig.legend(handles=leg)\n",
    "# ax.set_xlabel(\"Modèle\", fontsize=13)\n",
    "# ax.tick_params(labelsize=15)\n",
    "# ax.set_ylim(0, 75)\n",
    "axes[0].set_ylabel(\"ATP production flux\", fontsize=15)\n",
    "# plt.title(\"100% de VO2max\", fontsize=15)"
   ]
  },
  {
   "attachments": {},
   "cell_type": "markdown",
   "id": "2acc17d7",
   "metadata": {},
   "source": [
    "### Key fluxes"
   ]
  },
  {
   "cell_type": "code",
   "execution_count": 128,
   "id": "8bbc526d",
   "metadata": {},
   "outputs": [
    {
     "data": {
      "text/html": [
       "<div>\n",
       "<style scoped>\n",
       "    .dataframe tbody tr th:only-of-type {\n",
       "        vertical-align: middle;\n",
       "    }\n",
       "\n",
       "    .dataframe tbody tr th {\n",
       "        vertical-align: top;\n",
       "    }\n",
       "\n",
       "    .dataframe thead th {\n",
       "        text-align: right;\n",
       "    }\n",
       "</style>\n",
       "<table border=\"1\" class=\"dataframe\">\n",
       "  <thead>\n",
       "    <tr style=\"text-align: right;\">\n",
       "      <th></th>\n",
       "      <th>calpain_25</th>\n",
       "      <th>calpain_65</th>\n",
       "      <th>calpain_85</th>\n",
       "      <th>calpain_100</th>\n",
       "    </tr>\n",
       "  </thead>\n",
       "  <tbody>\n",
       "    <tr>\n",
       "      <th>FBA</th>\n",
       "      <td>0.030000</td>\n",
       "      <td>0.130000</td>\n",
       "      <td>0.600000</td>\n",
       "      <td>2.000000</td>\n",
       "    </tr>\n",
       "    <tr>\n",
       "      <th>PDHm</th>\n",
       "      <td>0.033000</td>\n",
       "      <td>0.428000</td>\n",
       "      <td>1.347333</td>\n",
       "      <td>2.535742</td>\n",
       "    </tr>\n",
       "    <tr>\n",
       "      <th>LDH_L</th>\n",
       "      <td>-0.075000</td>\n",
       "      <td>-0.104000</td>\n",
       "      <td>-0.141167</td>\n",
       "      <td>-1.538258</td>\n",
       "    </tr>\n",
       "    <tr>\n",
       "      <th>CSm</th>\n",
       "      <td>1.101338</td>\n",
       "      <td>2.305781</td>\n",
       "      <td>2.651143</td>\n",
       "      <td>2.588742</td>\n",
       "    </tr>\n",
       "    <tr>\n",
       "      <th>CI_MitoCore</th>\n",
       "      <td>3.168676</td>\n",
       "      <td>9.582430</td>\n",
       "      <td>11.792249</td>\n",
       "      <td>12.953757</td>\n",
       "    </tr>\n",
       "    <tr>\n",
       "      <th>r0722</th>\n",
       "      <td>0.100000</td>\n",
       "      <td>0.188810</td>\n",
       "      <td>0.120564</td>\n",
       "      <td>0.000000</td>\n",
       "    </tr>\n",
       "    <tr>\n",
       "      <th>r0732</th>\n",
       "      <td>0.100000</td>\n",
       "      <td>0.188810</td>\n",
       "      <td>0.120564</td>\n",
       "      <td>0.000000</td>\n",
       "    </tr>\n",
       "    <tr>\n",
       "      <th>OF_ATP_MitoCore</th>\n",
       "      <td>14.600000</td>\n",
       "      <td>33.607131</td>\n",
       "      <td>40.884614</td>\n",
       "      <td>46.147306</td>\n",
       "    </tr>\n",
       "    <tr>\n",
       "      <th>O2t</th>\n",
       "      <td>3.256176</td>\n",
       "      <td>6.755732</td>\n",
       "      <td>7.782065</td>\n",
       "      <td>7.812226</td>\n",
       "    </tr>\n",
       "  </tbody>\n",
       "</table>\n",
       "</div>"
      ],
      "text/plain": [
       "                 calpain_25  calpain_65  calpain_85  calpain_100\n",
       "FBA                0.030000    0.130000    0.600000     2.000000\n",
       "PDHm               0.033000    0.428000    1.347333     2.535742\n",
       "LDH_L             -0.075000   -0.104000   -0.141167    -1.538258\n",
       "CSm                1.101338    2.305781    2.651143     2.588742\n",
       "CI_MitoCore        3.168676    9.582430   11.792249    12.953757\n",
       "r0722              0.100000    0.188810    0.120564     0.000000\n",
       "r0732              0.100000    0.188810    0.120564     0.000000\n",
       "OF_ATP_MitoCore   14.600000   33.607131   40.884614    46.147306\n",
       "O2t                3.256176    6.755732    7.782065     7.812226"
      ]
     },
     "execution_count": 128,
     "metadata": {},
     "output_type": "execute_result"
    }
   ],
   "source": [
    "key_reactions_calpain = mal.create_df_key_fluxes({'calpain_25': solution25_calpain, 'calpain_65': solution65_calpain, 'calpain_85': solution85_calpain, 'calpain_100': solution100_calpain}, list_enzyme=[\"FBA\", \"PDHm\", \"LDH_L\", \"CSm\", \"CI_MitoCore\", \"r0722\", \"r0732\", \"OF_ATP_MitoCore\", \"O2t\"])\n",
    "key_reactions_calpain"
   ]
  },
  {
   "cell_type": "code",
   "execution_count": 129,
   "id": "34c7787f",
   "metadata": {},
   "outputs": [],
   "source": [
    "dict_results_calpain_voie_metabolique=dict()\n",
    "dict_results_calpain_accoa=dict()"
   ]
  },
  {
   "attachments": {},
   "cell_type": "markdown",
   "id": "e102065f",
   "metadata": {},
   "source": [
    "### Building dataframes"
   ]
  },
  {
   "attachments": {},
   "cell_type": "markdown",
   "id": "80127b70",
   "metadata": {},
   "source": [
    "#### Dataframes for treemaps"
   ]
  },
  {
   "cell_type": "code",
   "execution_count": 130,
   "id": "a8e34924",
   "metadata": {},
   "outputs": [],
   "source": [
    "dt25_calpain = mal.build_dataframe(mitocore_mouse25_calpain, solution25_calpain, 0, 18)\n",
    "dt65_calpain = mal.build_dataframe(mitocore_mouse65_calpain, solution65_calpain, 0, 18)\n",
    "dt85_calpain = mal.build_dataframe(mitocore_mouse85_calpain, solution85_calpain, 0, 18)"
   ]
  },
  {
   "attachments": {},
   "cell_type": "markdown",
   "id": "d98d05ae",
   "metadata": {},
   "source": [
    "#### Dataframes of all fluxes"
   ]
  },
  {
   "cell_type": "code",
   "execution_count": 131,
   "id": "bb914655",
   "metadata": {},
   "outputs": [],
   "source": [
    "all_fluxes_100_calpain = mal.build_dataframe_visual(mitocore_mouse100_calpain, solution100_calpain)\n",
    "# print(all_fluxes_100_calpain.to_markdown())"
   ]
  },
  {
   "cell_type": "code",
   "execution_count": 132,
   "id": "39b193c7",
   "metadata": {},
   "outputs": [],
   "source": [
    "all_fluxes_25_calpain = mal.build_dataframe_visual(mitocore_mouse25_calpain, solution25_calpain)\n",
    "# print(all_fluxes_25_calpain.to_markdown())"
   ]
  },
  {
   "cell_type": "code",
   "execution_count": 133,
   "id": "6d1c3679",
   "metadata": {},
   "outputs": [],
   "source": [
    "all_fluxes_65_calpain = mal.build_dataframe_visual(mitocore_mouse65_calpain, solution65_calpain)"
   ]
  },
  {
   "cell_type": "code",
   "execution_count": 134,
   "id": "0cb119d6",
   "metadata": {},
   "outputs": [],
   "source": [
    "all_fluxes_85_calpain = mal.build_dataframe_visual(mitocore_mouse85_calpain, solution85_calpain)\n",
    "# print(all_fluxes_85_calpain.to_markdown())"
   ]
  },
  {
   "attachments": {},
   "cell_type": "markdown",
   "id": "fab1c6cb",
   "metadata": {},
   "source": [
    "### Flux Variability Analysis"
   ]
  },
  {
   "cell_type": "code",
   "execution_count": 135,
   "id": "5030bfba",
   "metadata": {},
   "outputs": [],
   "source": [
    "fva25_calpain = output25_calpain[4]\n",
    "fva65_calpain = output65_calpain[4]\n",
    "fva85_calpain = output85_calpain[4]\n",
    "fva100_calpain = output100_calpain[4]"
   ]
  },
  {
   "attachments": {},
   "cell_type": "markdown",
   "id": "c9868a8c",
   "metadata": {},
   "source": [
    "### Building treemaps"
   ]
  },
  {
   "cell_type": "code",
   "execution_count": 136,
   "id": "569c05f6",
   "metadata": {},
   "outputs": [],
   "source": [
    "if treemaps:\n",
    "    mal.display_treemap(dt25_calpain, 'calpain 25')\n",
    "    mal.display_treemap(dt65_calpain, 'calpain 65')\n",
    "    mal.display_treemap(dt85_calpain, 'calpain 85')"
   ]
  },
  {
   "attachments": {},
   "cell_type": "markdown",
   "id": "07536841",
   "metadata": {},
   "source": [
    "### Relative contributions of pathways during exercise"
   ]
  },
  {
   "cell_type": "code",
   "execution_count": 137,
   "id": "c600de0b",
   "metadata": {},
   "outputs": [
    {
     "name": "stdout",
     "output_type": "stream",
     "text": [
      "['glycolysis', 'beta oxidation', 'Ketone bodies', 'Leucine degradation', 'Isoleucine degradation']\n"
     ]
    },
    {
     "data": {
      "image/png": "[encoded data removed]",
      "text/plain": [
       "<Figure size 400x500 with 1 Axes>"
      ]
     },
     "metadata": {},
     "output_type": "display_data"
    },
    {
     "data": {
      "text/plain": [
       "<module 'matplotlib.pyplot' from '/home/csiharath/.conda/envs/mitoenv/lib/python3.8/site-packages/matplotlib/pyplot.py'>"
      ]
     },
     "execution_count": 137,
     "metadata": {},
     "output_type": "execute_result"
    }
   ],
   "source": [
    "dict_path = {'glycolysis': 'PGM', \"beta oxidation\":'r0732', \"Ketone bodies\":'BDHm', \"Leucine degradation\":'LEUTAm', 'Isoleucine degradation': \"ILETAm\"}\n",
    "df_metabolic_pathways_calpain=mal.get_dict_pathways([solution25_calpain, solution65_calpain, solution85_calpain, solution100_calpain], dict_path)\n",
    "mal.barplot_pathways(df_metabolic_pathways_calpain, \"plot_pathways_calpain.png\", keys=['glycolysis', 'beta oxidation', 'Ketone bodies', 'Leucine degradation', 'Isoleucine degradation'])"
   ]
  },
  {
   "cell_type": "code",
   "execution_count": 138,
   "id": "b7205249",
   "metadata": {},
   "outputs": [],
   "source": [
    "df_metabolic_pathways_calpain_prop = mal.build_df_proportion(df_metabolic_pathways_calpain)"
   ]
  },
  {
   "cell_type": "code",
   "execution_count": 139,
   "id": "21a584a9",
   "metadata": {},
   "outputs": [
    {
     "data": {
      "image/png": "[encoded data removed]",
      "text/plain": [
       "<Figure size 400x500 with 1 Axes>"
      ]
     },
     "metadata": {},
     "output_type": "display_data"
    },
    {
     "data": {
      "text/plain": [
       "<module 'matplotlib.pyplot' from '/home/csiharath/.conda/envs/mitoenv/lib/python3.8/site-packages/matplotlib/pyplot.py'>"
      ]
     },
     "execution_count": 139,
     "metadata": {},
     "output_type": "execute_result"
    }
   ],
   "source": [
    "mal.barplot_pathways(df_metabolic_pathways_calpain_prop, \"plot_pathways_proportions_calpain.png\", keys=['glycolysis', 'beta oxidation', 'Ketone bodies', 'Leucine degradation', 'Isoleucine degradation'], prop=True, add_legend=True )"
   ]
  },
  {
   "cell_type": "code",
   "execution_count": 140,
   "id": "b1726ace",
   "metadata": {},
   "outputs": [],
   "source": [
    "df_calpain_plot = mal.create_df_flux_plot({'calpain_25': [solution25_calpain, fva25_calpain], 'calpain_65': [solution65_calpain, fva65_calpain], 'calpain_85': [solution85_calpain, fva85_calpain], 'calpain_100': [solution100_calpain, fva100_calpain]}, list_enzyme = [\"FBA\", \"PDHm\", \"LDH_L\", \"CSm\", \"CI_MitoCore\", \"r0722\", \"r0732\", \"O2t\"])"
   ]
  },
  {
   "cell_type": "code",
   "execution_count": 141,
   "id": "d73e4b9a",
   "metadata": {},
   "outputs": [],
   "source": [
    "# df_calpain_plot.to_csv('df_calpain_plot.csv')\n",
    "# df_wt_plot.to_csv('df_wt_plot.csv')"
   ]
  },
  {
   "cell_type": "code",
   "execution_count": 142,
   "id": "6e338674",
   "metadata": {},
   "outputs": [],
   "source": [
    "df_calpain_plot['fluxes'] = df_calpain_plot['fluxes'].abs()\n",
    "df_calpain_plot['fva_min'] = df_calpain_plot['fva_min'].abs()\n",
    "df_calpain_plot['fva_max'] = df_calpain_plot['fva_max'].abs()\n",
    "df_wt_plot['fluxes'] = df_wt_plot['fluxes'].abs()\n",
    "df_wt_plot['fva_min'] = df_wt_plot['fva_min'].abs()\n",
    "df_wt_plot['fva_max'] = df_wt_plot['fva_max'].abs()"
   ]
  },
  {
   "cell_type": "code",
   "execution_count": 143,
   "id": "9640f0f9",
   "metadata": {},
   "outputs": [
    {
     "data": {
      "image/png": "[encoded data removed]",
      "text/plain": [
       "<Figure size 1200x1200 with 17 Axes>"
      ]
     },
     "metadata": {},
     "output_type": "display_data"
    }
   ],
   "source": [
    "enzyme_name = {\"FBA\": \"Fructose biphosphat\\naldolase\", \"PDHm\": \"Pyruvate\\ndehydrogenase\", \"LDH_L\": \"Lactate\\ndehydrogenase\", \"r0722\": \"3-hydroaxyacyl-CoA\\ndehydrogenase\", \"r0732\": \"Acetyl-CoA\\nacyltransferase 2\", \"CSm\": \"Citrate synthase\", \"CI_MitoCore\": \"Complex I\", \"O2t\": \"Oxygen\"}\n",
    "\n",
    "mal.fva_plot(df_calpain_plot, df_wt_plot, enzyme_name)"
   ]
  },
  {
   "attachments": {},
   "cell_type": "markdown",
   "id": "d9311a89",
   "metadata": {},
   "source": [
    "# Comparaison"
   ]
  },
  {
   "cell_type": "code",
   "execution_count": 144,
   "id": "d72a30d3",
   "metadata": {},
   "outputs": [],
   "source": [
    "dict_comparaison_voies_25=dict()\n",
    "dict_comparaison_voies_65=dict()\n",
    "dict_comparaison_voies_85=dict()\n",
    "dict_comparaison_voies_100=dict()"
   ]
  },
  {
   "cell_type": "code",
   "execution_count": 145,
   "id": "9858723c",
   "metadata": {},
   "outputs": [],
   "source": [
    "pathways = [\"Objective Function - ATP\", \"FA metabolism\", 'Glycolysis', \"Glycolysis/gluconeogenesis\", \"TCA cycle\", \"Boundary conditions - core\", \"Isoleucine degradation\", \"Leucine degradation\"]\n",
    "pathways2 = [\"FA metabolism\", 'Glycolysis', \"Glycolysis/gluconeogenesis\", \"TCA cycle\", \"Boundary conditions - core\", \"Isoleucine degradation\", \"Leucine degradation\"]"
   ]
  },
  {
   "cell_type": "code",
   "execution_count": 146,
   "id": "d97825f3",
   "metadata": {},
   "outputs": [],
   "source": [
    "dt25 = mal.build_dataframe(mitocore_mouse25, solution25, 0, 180, hide_transport=False, from_list=True, pathways_list=pathways2)\n",
    "dt65 = mal.build_dataframe(mitocore_mouse65, solution65, 0, 180, hide_transport=False, from_list=True, pathways_list=pathways2)\n",
    "dt85 = mal.build_dataframe(mitocore_mouse85, solution85, 0, 180, hide_transport=False, from_list=True, pathways_list=pathways2)\n",
    "dt100 = mal.build_dataframe(mitocore_mouse100, solution100, 0, 180, hide_transport=False, from_list=True, pathways_list=pathways2)\n",
    "dt25_calpain = mal.build_dataframe(mitocore_mouse25_calpain, solution25_calpain, 0, 180, hide_transport=False, from_list=True, pathways_list=pathways2)\n",
    "dt65_calpain = mal.build_dataframe(mitocore_mouse65_calpain, solution65_calpain, 0, 180, hide_transport=False, from_list=True, pathways_list=pathways2)\n",
    "dt85_calpain = mal.build_dataframe(mitocore_mouse85_calpain, solution85_calpain, 0, 180, hide_transport=False, from_list=True, pathways_list=pathways2)\n",
    "dt100_calpain = mal.build_dataframe(mitocore_mouse100_calpain, solution100_calpain, 0, 180, hide_transport=False, from_list=True, pathways_list=pathways2)"
   ]
  },
  {
   "attachments": {},
   "cell_type": "markdown",
   "id": "0024f996",
   "metadata": {},
   "source": [
    "## 25% d'intensité"
   ]
  },
  {
   "cell_type": "code",
   "execution_count": 147,
   "id": "4445349e",
   "metadata": {},
   "outputs": [],
   "source": [
    "df_pathways_comparison_25 = pd.DataFrame(columns=['CAPN3+', 'CAPN3-KO'])\n",
    "df_pathways_comparison_25['CAPN3+'] = df_metabolic_pathways['25%']\n",
    "df_pathways_comparison_25['CAPN3-KO'] = df_metabolic_pathways_calpain['25%']"
   ]
  },
  {
   "cell_type": "code",
   "execution_count": 148,
   "id": "7131ad94",
   "metadata": {},
   "outputs": [
    {
     "data": {
      "image/png": "[encoded data removed]",
      "text/plain": [
       "<Figure size 250x500 with 1 Axes>"
      ]
     },
     "metadata": {},
     "output_type": "display_data"
    },
    {
     "data": {
      "text/plain": [
       "<module 'matplotlib.pyplot' from '/home/csiharath/.conda/envs/mitoenv/lib/python3.8/site-packages/matplotlib/pyplot.py'>"
      ]
     },
     "execution_count": 148,
     "metadata": {},
     "output_type": "execute_result"
    }
   ],
   "source": [
    "mal.barplot_pathways(df_pathways_comparison_25, \"plot_comparaison_wt_vs_calpain_25.png\", keys=['glycolysis', 'beta oxidation', 'Ketone bodies', 'Leucine degradation', 'Isoleucine degradation'], prop=True, figsize=(2.5,5))"
   ]
  },
  {
   "cell_type": "code",
   "execution_count": 149,
   "id": "77bbb236",
   "metadata": {},
   "outputs": [
    {
     "data": {
      "image/png": "[encoded data removed]",
      "text/plain": [
       "<Figure size 250x500 with 1 Axes>"
      ]
     },
     "metadata": {},
     "output_type": "display_data"
    },
    {
     "data": {
      "text/plain": [
       "<module 'matplotlib.pyplot' from '/home/csiharath/.conda/envs/mitoenv/lib/python3.8/site-packages/matplotlib/pyplot.py'>"
      ]
     },
     "execution_count": 149,
     "metadata": {},
     "output_type": "execute_result"
    }
   ],
   "source": [
    "proportion_wt_calpain_25 = mal.build_df_proportion(df_pathways_comparison_25)\n",
    "mal.barplot_pathways(proportion_wt_calpain_25, \"plot_proportion_wt_calpain_25.png\", keys=['glycolysis', 'beta oxidation', 'Ketone bodies', 'Leucine degradation', 'Isoleucine degradation'], prop=True, figsize=(2.5,5))"
   ]
  },
  {
   "cell_type": "code",
   "execution_count": 150,
   "id": "62ba9d95",
   "metadata": {},
   "outputs": [
    {
     "data": {
      "application/vnd.plotly.v1+json": {
       "config": {
        "plotlyServerURL": "https://plot.ly"
       },
       "data": [
        {
         "branchvalues": "total",
         "customdata": [
          [
           0.004
          ],
          [
           0.03403915229885011
          ],
          [
           0.10000000000000002
          ],
          [
           1.4843896479885055
          ],
          [
           1.104578304597701
          ],
          [
           1.1255783045977008
          ],
          [
           14.6
          ],
          [
           2.561156609195404
          ],
          [
           1.104578304597701
          ],
          [
           0.13799999999999985
          ],
          [
           0.004
          ],
          [
           0.06999999999999972
          ],
          [
           0.03
          ],
          [
           1.1255783045977008
          ],
          [
           0.06999999999999972
          ],
          [
           0.03
          ],
          [
           0.13799999999999985
          ],
          [
           0.004
          ],
          [
           0.10000000000000002
          ],
          [
           0.03
          ],
          [
           1.0785783045977009
          ],
          [
           0.004
          ],
          [
           0.07499999999999972
          ],
          [
           0.07499999999999972
          ],
          [
           1.104578304597701
          ],
          [
           0.10000000000000002
          ],
          [
           0.10000000000000002
          ],
          [
           3.311406609195402
          ],
          [
           0.004
          ],
          [
           0.11050000000000096
          ],
          [
           0.03
          ],
          [
           0.03
          ],
          [
           0.06999999999999972
          ],
          [
           0.06999999999999972
          ],
          [
           0.06999999999999972
          ],
          [
           1.0685391522988508
          ],
          [
           0.04
          ],
          [
           0.09750000000000097
          ],
          [
           0.10000000000000002
          ],
          [
           0.004
          ],
          [
           0.10000000000000002
          ],
          [
           0.10000000000000002
          ],
          [
           0.10000000000000002
          ],
          [
           0.10000000000000002
          ],
          [
           0.10000000000000002
          ],
          [
           0.10000000000000002
          ],
          [
           0.10000000000000002
          ],
          [
           0.10000000000000002
          ],
          [
           0.10000000000000002
          ],
          [
           0.10000000000000002
          ],
          [
           0.10000000000000002
          ],
          [
           0.10000000000000002
          ],
          [
           0.10000000000000002
          ],
          [
           0.10000000000000002
          ],
          [
           0.10000000000000002
          ],
          [
           0.10000000000000002
          ],
          [
           11.138810819322211
          ],
          [
           0.6492679896514014
          ],
          [
           0.07178571428571504
          ],
          [
           0.06385714285714261
          ],
          [
           0.003999999999999999
          ],
          [
           1.0880716255560408
          ],
          [
           7.3240353685449175
          ]
         ],
         "domain": {
          "x": [
           0,
           1
          ],
          "y": [
           0,
           1
          ]
         },
         "hovertemplate": "Pathway or enzyme=%{label}<br>Flux=%{value}<br>Percentage=.%{percent entry}<extra></extra>",
         "ids": [
          "Cell/Isoleucine degradation/ACACT10m",
          "Cell/Boundary conditions - core/ACACt2",
          "Cell/FA metabolism/ACADLC14_MitoCore",
          "Cell/FA metabolism/ACADLC16_MitoCore",
          "Cell/TCA cycle/ACONTm",
          "Cell/TCA cycle/AKGDm",
          "Cell/Boundary conditions - core/Biomass_MitoCore",
          "Cell/Boundary conditions - core/CO2t",
          "Cell/TCA cycle/CSm",
          "Cell/FA metabolism/ECOAH1m",
          "Cell/Isoleucine degradation/ECOAH9m",
          "Cell/Glycolysis/gluconeogenesis/ENO",
          "Cell/Glycolysis/gluconeogenesis/FBA",
          "Cell/TCA cycle/FUMm",
          "Cell/Glycolysis/gluconeogenesis/GAPD",
          "Cell/Boundary conditions - core/GLCt1r",
          "Cell/FA metabolism/HACD1m",
          "Cell/Isoleucine degradation/HACD9m",
          "Cell/Boundary conditions - core/HDCAtr",
          "Cell/Glycolysis/HEX1",
          "Cell/TCA cycle/ICDHyrm",
          "Cell/Isoleucine degradation/ILETAm",
          "Cell/Glycolysis/gluconeogenesis/LDH_L",
          "Cell/Boundary conditions - core/L_LACt2r",
          "Cell/TCA cycle/MDHm",
          "Cell/FA metabolism/MTPC14_MitoCore",
          "Cell/FA metabolism/MTPC16_MitoCore",
          "Cell/Boundary conditions - core/O2t",
          "Cell/Isoleucine degradation/OIVD3m",
          "Cell/TCA cycle/PDHm",
          "Cell/Glycolysis/PFK",
          "Cell/Glycolysis/gluconeogenesis/PGI",
          "Cell/Glycolysis/gluconeogenesis/PGK",
          "Cell/Glycolysis/gluconeogenesis/PGM",
          "Cell/Glycolysis/gluconeogenesis/PYK",
          "Cell/TCA cycle/SUCOASm",
          "Cell/Glycolysis/gluconeogenesis/TPI",
          "Cell/Glycolysis/r0122",
          "Cell/FA metabolism/r0287",
          "Cell/Isoleucine degradation/r0603",
          "Cell/FA metabolism/r0634",
          "Cell/FA metabolism/r0660",
          "Cell/FA metabolism/r0722",
          "Cell/FA metabolism/r0724",
          "Cell/FA metabolism/r0726",
          "Cell/FA metabolism/r0728",
          "Cell/FA metabolism/r0730",
          "Cell/FA metabolism/r0731",
          "Cell/FA metabolism/r0732",
          "Cell/FA metabolism/r0733",
          "Cell/FA metabolism/r0734",
          "Cell/FA metabolism/r1446",
          "Cell/FA metabolism/r1447",
          "Cell/FA metabolism/r1448",
          "Cell/FA metabolism/r1450",
          "Cell/FA metabolism/r1451",
          "Cell/Boundary conditions - core",
          "Cell/FA metabolism",
          "Cell/Glycolysis",
          "Cell/Glycolysis/gluconeogenesis",
          "Cell/Isoleucine degradation",
          "Cell/TCA cycle",
          "Cell"
         ],
         "labels": [
          "ACACT10m",
          "ACACt2",
          "ACADLC14_MitoCore",
          "ACADLC16_MitoCore",
          "ACONTm",
          "AKGDm",
          "Biomass_MitoCore",
          "CO2t",
          "CSm",
          "ECOAH1m",
          "ECOAH9m",
          "ENO",
          "FBA",
          "FUMm",
          "GAPD",
          "GLCt1r",
          "HACD1m",
          "HACD9m",
          "HDCAtr",
          "HEX1",
          "ICDHyrm",
          "ILETAm",
          "LDH_L",
          "L_LACt2r",
          "MDHm",
          "MTPC14_MitoCore",
          "MTPC16_MitoCore",
          "O2t",
          "OIVD3m",
          "PDHm",
          "PFK",
          "PGI",
          "PGK",
          "PGM",
          "PYK",
          "SUCOASm",
          "TPI",
          "r0122",
          "r0287",
          "r0603",
          "r0634",
          "r0660",
          "r0722",
          "r0724",
          "r0726",
          "r0728",
          "r0730",
          "r0731",
          "r0732",
          "r0733",
          "r0734",
          "r1446",
          "r1447",
          "r1448",
          "r1450",
          "r1451",
          "Boundary conditions - core",
          "FA metabolism",
          "Glycolysis",
          "Glycolysis/gluconeogenesis",
          "Isoleucine degradation",
          "TCA cycle",
          "Cell"
         ],
         "marker": {
          "coloraxis": "coloraxis",
          "colors": [
           0.004,
           0.03403915229885011,
           0.10000000000000002,
           1.4843896479885055,
           1.104578304597701,
           1.1255783045977008,
           14.6,
           2.561156609195404,
           1.104578304597701,
           0.13799999999999985,
           0.004,
           0.06999999999999972,
           0.03,
           1.1255783045977008,
           0.06999999999999972,
           0.03,
           0.13799999999999985,
           0.004,
           0.10000000000000002,
           0.03,
           1.0785783045977009,
           0.004,
           0.07499999999999972,
           0.07499999999999972,
           1.104578304597701,
           0.10000000000000002,
           0.10000000000000002,
           3.311406609195402,
           0.004,
           0.11050000000000096,
           0.03,
           0.03,
           0.06999999999999972,
           0.06999999999999972,
           0.06999999999999972,
           1.0685391522988508,
           0.04,
           0.09750000000000097,
           0.10000000000000002,
           0.004,
           0.10000000000000002,
           0.10000000000000002,
           0.10000000000000002,
           0.10000000000000002,
           0.10000000000000002,
           0.10000000000000002,
           0.10000000000000002,
           0.10000000000000002,
           0.10000000000000002,
           0.10000000000000002,
           0.10000000000000002,
           0.10000000000000002,
           0.10000000000000002,
           0.10000000000000002,
           0.10000000000000002,
           0.10000000000000002,
           11.138810819322211,
           0.6492679896514014,
           0.07178571428571504,
           0.06385714285714261,
           0.003999999999999999,
           1.0880716255560408,
           7.3240353685449175
          ]
         },
         "name": "",
         "parents": [
          "Cell/Isoleucine degradation",
          "Cell/Boundary conditions - core",
          "Cell/FA metabolism",
          "Cell/FA metabolism",
          "Cell/TCA cycle",
          "Cell/TCA cycle",
          "Cell/Boundary conditions - core",
          "Cell/Boundary conditions - core",
          "Cell/TCA cycle",
          "Cell/FA metabolism",
          "Cell/Isoleucine degradation",
          "Cell/Glycolysis/gluconeogenesis",
          "Cell/Glycolysis/gluconeogenesis",
          "Cell/TCA cycle",
          "Cell/Glycolysis/gluconeogenesis",
          "Cell/Boundary conditions - core",
          "Cell/FA metabolism",
          "Cell/Isoleucine degradation",
          "Cell/Boundary conditions - core",
          "Cell/Glycolysis",
          "Cell/TCA cycle",
          "Cell/Isoleucine degradation",
          "Cell/Glycolysis/gluconeogenesis",
          "Cell/Boundary conditions - core",
          "Cell/TCA cycle",
          "Cell/FA metabolism",
          "Cell/FA metabolism",
          "Cell/Boundary conditions - core",
          "Cell/Isoleucine degradation",
          "Cell/TCA cycle",
          "Cell/Glycolysis",
          "Cell/Glycolysis/gluconeogenesis",
          "Cell/Glycolysis/gluconeogenesis",
          "Cell/Glycolysis/gluconeogenesis",
          "Cell/Glycolysis/gluconeogenesis",
          "Cell/TCA cycle",
          "Cell/Glycolysis/gluconeogenesis",
          "Cell/Glycolysis",
          "Cell/FA metabolism",
          "Cell/Isoleucine degradation",
          "Cell/FA metabolism",
          "Cell/FA metabolism",
          "Cell/FA metabolism",
          "Cell/FA metabolism",
          "Cell/FA metabolism",
          "Cell/FA metabolism",
          "Cell/FA metabolism",
          "Cell/FA metabolism",
          "Cell/FA metabolism",
          "Cell/FA metabolism",
          "Cell/FA metabolism",
          "Cell/FA metabolism",
          "Cell/FA metabolism",
          "Cell/FA metabolism",
          "Cell/FA metabolism",
          "Cell/FA metabolism",
          "Cell",
          "Cell",
          "Cell",
          "Cell",
          "Cell",
          "Cell",
          ""
         ],
         "textinfo": "label+value",
         "textposition": "middle center",
         "type": "treemap",
         "values": [
          0.004,
          0.03403915229885011,
          0.1,
          1.4843896479885055,
          1.104578304597701,
          1.1255783045977008,
          14.6,
          2.561156609195404,
          1.104578304597701,
          0.13799999999999985,
          0.004,
          0.06999999999999972,
          0.03,
          1.1255783045977008,
          0.06999999999999972,
          0.03,
          0.13799999999999985,
          0.004,
          0.1,
          0.03,
          1.0785783045977009,
          0.004,
          0.07499999999999972,
          0.07499999999999972,
          1.104578304597701,
          0.1,
          0.1,
          3.311406609195402,
          0.004,
          0.11050000000000096,
          0.03,
          0.03,
          0.06999999999999972,
          0.06999999999999972,
          0.06999999999999972,
          1.0685391522988508,
          0.04,
          0.09750000000000096,
          0.1,
          0.004,
          0.1,
          0.1,
          0.1,
          0.1,
          0.1,
          0.1,
          0.1,
          0.1,
          0.1,
          0.1,
          0.1,
          0.1,
          0.1,
          0.1,
          0.1,
          0.1,
          20.711602370689654,
          3.7603896479885055,
          0.15750000000000097,
          0.5249999999999982,
          0.024,
          7.822508979885057,
          33.001000998563214
         ]
        }
       ],
       "layout": {
        "coloraxis": {
         "colorbar": {
          "title": {
           "text": "fluxes"
          }
         },
         "colorscale": [
          [
           0,
           "rgb(5,48,97)"
          ],
          [
           0.1,
           "rgb(33,102,172)"
          ],
          [
           0.2,
           "rgb(67,147,195)"
          ],
          [
           0.3,
           "rgb(146,197,222)"
          ],
          [
           0.4,
           "rgb(209,229,240)"
          ],
          [
           0.5,
           "rgb(247,247,247)"
          ],
          [
           0.6,
           "rgb(253,219,199)"
          ],
          [
           0.7,
           "rgb(244,165,130)"
          ],
          [
           0.8,
           "rgb(214,96,77)"
          ],
          [
           0.9,
           "rgb(178,24,43)"
          ],
          [
           1,
           "rgb(103,0,31)"
          ]
         ]
        },
        "font": {
         "color": "white"
        },
        "height": 900,
        "legend": {
         "tracegroupgap": 0
        },
        "margin": {
         "t": 60
        },
        "paper_bgcolor": "#2e2d2d",
        "plot_bgcolor": "rgba(0, 0, 0, 100)",
        "template": {
         "data": {
          "bar": [
           {
            "error_x": {
             "color": "#2a3f5f"
            },
            "error_y": {
             "color": "#2a3f5f"
            },
            "marker": {
             "line": {
              "color": "#E5ECF6",
              "width": 0.5
             },
             "pattern": {
              "fillmode": "overlay",
              "size": 10,
              "solidity": 0.2
             }
            },
            "type": "bar"
           }
          ],
          "barpolar": [
           {
            "marker": {
             "line": {
              "color": "#E5ECF6",
              "width": 0.5
             },
             "pattern": {
              "fillmode": "overlay",
              "size": 10,
              "solidity": 0.2
             }
            },
            "type": "barpolar"
           }
          ],
          "carpet": [
           {
            "aaxis": {
             "endlinecolor": "#2a3f5f",
             "gridcolor": "white",
             "linecolor": "white",
             "minorgridcolor": "white",
             "startlinecolor": "#2a3f5f"
            },
            "baxis": {
             "endlinecolor": "#2a3f5f",
             "gridcolor": "white",
             "linecolor": "white",
             "minorgridcolor": "white",
             "startlinecolor": "#2a3f5f"
            },
            "type": "carpet"
           }
          ],
          "choropleth": [
           {
            "colorbar": {
             "outlinewidth": 0,
             "ticks": ""
            },
            "type": "choropleth"
           }
          ],
          "contour": [
           {
            "colorbar": {
             "outlinewidth": 0,
             "ticks": ""
            },
            "colorscale": [
             [
              0,
              "#0d0887"
             ],
             [
              0.1111111111111111,
              "#46039f"
             ],
             [
              0.2222222222222222,
              "#7201a8"
             ],
             [
              0.3333333333333333,
              "#9c179e"
             ],
             [
              0.4444444444444444,
              "#bd3786"
             ],
             [
              0.5555555555555556,
              "#d8576b"
             ],
             [
              0.6666666666666666,
              "#ed7953"
             ],
             [
              0.7777777777777778,
              "#fb9f3a"
             ],
             [
              0.8888888888888888,
              "#fdca26"
             ],
             [
              1,
              "#f0f921"
             ]
            ],
            "type": "contour"
           }
          ],
          "contourcarpet": [
           {
            "colorbar": {
             "outlinewidth": 0,
             "ticks": ""
            },
            "type": "contourcarpet"
           }
          ],
          "heatmap": [
           {
            "colorbar": {
             "outlinewidth": 0,
             "ticks": ""
            },
            "colorscale": [
             [
              0,
              "#0d0887"
             ],
             [
              0.1111111111111111,
              "#46039f"
             ],
             [
              0.2222222222222222,
              "#7201a8"
             ],
             [
              0.3333333333333333,
              "#9c179e"
             ],
             [
              0.4444444444444444,
              "#bd3786"
             ],
             [
              0.5555555555555556,
              "#d8576b"
             ],
             [
              0.6666666666666666,
              "#ed7953"
             ],
             [
              0.7777777777777778,
              "#fb9f3a"
             ],
             [
              0.8888888888888888,
              "#fdca26"
             ],
             [
              1,
              "#f0f921"
             ]
            ],
            "type": "heatmap"
           }
          ],
          "heatmapgl": [
           {
            "colorbar": {
             "outlinewidth": 0,
             "ticks": ""
            },
            "colorscale": [
             [
              0,
              "#0d0887"
             ],
             [
              0.1111111111111111,
              "#46039f"
             ],
             [
              0.2222222222222222,
              "#7201a8"
             ],
             [
              0.3333333333333333,
              "#9c179e"
             ],
             [
              0.4444444444444444,
              "#bd3786"
             ],
             [
              0.5555555555555556,
              "#d8576b"
             ],
             [
              0.6666666666666666,
              "#ed7953"
             ],
             [
              0.7777777777777778,
              "#fb9f3a"
             ],
             [
              0.8888888888888888,
              "#fdca26"
             ],
             [
              1,
              "#f0f921"
             ]
            ],
            "type": "heatmapgl"
           }
          ],
          "histogram": [
           {
            "marker": {
             "pattern": {
              "fillmode": "overlay",
              "size": 10,
              "solidity": 0.2
             }
            },
            "type": "histogram"
           }
          ],
          "histogram2d": [
           {
            "colorbar": {
             "outlinewidth": 0,
             "ticks": ""
            },
            "colorscale": [
             [
              0,
              "#0d0887"
             ],
             [
              0.1111111111111111,
              "#46039f"
             ],
             [
              0.2222222222222222,
              "#7201a8"
             ],
             [
              0.3333333333333333,
              "#9c179e"
             ],
             [
              0.4444444444444444,
              "#bd3786"
             ],
             [
              0.5555555555555556,
              "#d8576b"
             ],
             [
              0.6666666666666666,
              "#ed7953"
             ],
             [
              0.7777777777777778,
              "#fb9f3a"
             ],
             [
              0.8888888888888888,
              "#fdca26"
             ],
             [
              1,
              "#f0f921"
             ]
            ],
            "type": "histogram2d"
           }
          ],
          "histogram2dcontour": [
           {
            "colorbar": {
             "outlinewidth": 0,
             "ticks": ""
            },
            "colorscale": [
             [
              0,
              "#0d0887"
             ],
             [
              0.1111111111111111,
              "#46039f"
             ],
             [
              0.2222222222222222,
              "#7201a8"
             ],
             [
              0.3333333333333333,
              "#9c179e"
             ],
             [
              0.4444444444444444,
              "#bd3786"
             ],
             [
              0.5555555555555556,
              "#d8576b"
             ],
             [
              0.6666666666666666,
              "#ed7953"
             ],
             [
              0.7777777777777778,
              "#fb9f3a"
             ],
             [
              0.8888888888888888,
              "#fdca26"
             ],
             [
              1,
              "#f0f921"
             ]
            ],
            "type": "histogram2dcontour"
           }
          ],
          "mesh3d": [
           {
            "colorbar": {
             "outlinewidth": 0,
             "ticks": ""
            },
            "type": "mesh3d"
           }
          ],
          "parcoords": [
           {
            "line": {
             "colorbar": {
              "outlinewidth": 0,
              "ticks": ""
             }
            },
            "type": "parcoords"
           }
          ],
          "pie": [
           {
            "automargin": true,
            "type": "pie"
           }
          ],
          "scatter": [
           {
            "fillpattern": {
             "fillmode": "overlay",
             "size": 10,
             "solidity": 0.2
            },
            "type": "scatter"
           }
          ],
          "scatter3d": [
           {
            "line": {
             "colorbar": {
              "outlinewidth": 0,
              "ticks": ""
             }
            },
            "marker": {
             "colorbar": {
              "outlinewidth": 0,
              "ticks": ""
             }
            },
            "type": "scatter3d"
           }
          ],
          "scattercarpet": [
           {
            "marker": {
             "colorbar": {
              "outlinewidth": 0,
              "ticks": ""
             }
            },
            "type": "scattercarpet"
           }
          ],
          "scattergeo": [
           {
            "marker": {
             "colorbar": {
              "outlinewidth": 0,
              "ticks": ""
             }
            },
            "type": "scattergeo"
           }
          ],
          "scattergl": [
           {
            "marker": {
             "colorbar": {
              "outlinewidth": 0,
              "ticks": ""
             }
            },
            "type": "scattergl"
           }
          ],
          "scattermapbox": [
           {
            "marker": {
             "colorbar": {
              "outlinewidth": 0,
              "ticks": ""
             }
            },
            "type": "scattermapbox"
           }
          ],
          "scatterpolar": [
           {
            "marker": {
             "colorbar": {
              "outlinewidth": 0,
              "ticks": ""
             }
            },
            "type": "scatterpolar"
           }
          ],
          "scatterpolargl": [
           {
            "marker": {
             "colorbar": {
              "outlinewidth": 0,
              "ticks": ""
             }
            },
            "type": "scatterpolargl"
           }
          ],
          "scatterternary": [
           {
            "marker": {
             "colorbar": {
              "outlinewidth": 0,
              "ticks": ""
             }
            },
            "type": "scatterternary"
           }
          ],
          "surface": [
           {
            "colorbar": {
             "outlinewidth": 0,
             "ticks": ""
            },
            "colorscale": [
             [
              0,
              "#0d0887"
             ],
             [
              0.1111111111111111,
              "#46039f"
             ],
             [
              0.2222222222222222,
              "#7201a8"
             ],
             [
              0.3333333333333333,
              "#9c179e"
             ],
             [
              0.4444444444444444,
              "#bd3786"
             ],
             [
              0.5555555555555556,
              "#d8576b"
             ],
             [
              0.6666666666666666,
              "#ed7953"
             ],
             [
              0.7777777777777778,
              "#fb9f3a"
             ],
             [
              0.8888888888888888,
              "#fdca26"
             ],
             [
              1,
              "#f0f921"
             ]
            ],
            "type": "surface"
           }
          ],
          "table": [
           {
            "cells": {
             "fill": {
              "color": "#EBF0F8"
             },
             "line": {
              "color": "white"
             }
            },
            "header": {
             "fill": {
              "color": "#C8D4E3"
             },
             "line": {
              "color": "white"
             }
            },
            "type": "table"
           }
          ]
         },
         "layout": {
          "annotationdefaults": {
           "arrowcolor": "#2a3f5f",
           "arrowhead": 0,
           "arrowwidth": 1
          },
          "autotypenumbers": "strict",
          "coloraxis": {
           "colorbar": {
            "outlinewidth": 0,
            "ticks": ""
           }
          },
          "colorscale": {
           "diverging": [
            [
             0,
             "#8e0152"
            ],
            [
             0.1,
             "#c51b7d"
            ],
            [
             0.2,
             "#de77ae"
            ],
            [
             0.3,
             "#f1b6da"
            ],
            [
             0.4,
             "#fde0ef"
            ],
            [
             0.5,
             "#f7f7f7"
            ],
            [
             0.6,
             "#e6f5d0"
            ],
            [
             0.7,
             "#b8e186"
            ],
            [
             0.8,
             "#7fbc41"
            ],
            [
             0.9,
             "#4d9221"
            ],
            [
             1,
             "#276419"
            ]
           ],
           "sequential": [
            [
             0,
             "#0d0887"
            ],
            [
             0.1111111111111111,
             "#46039f"
            ],
            [
             0.2222222222222222,
             "#7201a8"
            ],
            [
             0.3333333333333333,
             "#9c179e"
            ],
            [
             0.4444444444444444,
             "#bd3786"
            ],
            [
             0.5555555555555556,
             "#d8576b"
            ],
            [
             0.6666666666666666,
             "#ed7953"
            ],
            [
             0.7777777777777778,
             "#fb9f3a"
            ],
            [
             0.8888888888888888,
             "#fdca26"
            ],
            [
             1,
             "#f0f921"
            ]
           ],
           "sequentialminus": [
            [
             0,
             "#0d0887"
            ],
            [
             0.1111111111111111,
             "#46039f"
            ],
            [
             0.2222222222222222,
             "#7201a8"
            ],
            [
             0.3333333333333333,
             "#9c179e"
            ],
            [
             0.4444444444444444,
             "#bd3786"
            ],
            [
             0.5555555555555556,
             "#d8576b"
            ],
            [
             0.6666666666666666,
             "#ed7953"
            ],
            [
             0.7777777777777778,
             "#fb9f3a"
            ],
            [
             0.8888888888888888,
             "#fdca26"
            ],
            [
             1,
             "#f0f921"
            ]
           ]
          },
          "colorway": [
           "#636efa",
           "#EF553B",
           "#00cc96",
           "#ab63fa",
           "#FFA15A",
           "#19d3f3",
           "#FF6692",
           "#B6E880",
           "#FF97FF",
           "#FECB52"
          ],
          "font": {
           "color": "#2a3f5f"
          },
          "geo": {
           "bgcolor": "white",
           "lakecolor": "white",
           "landcolor": "#E5ECF6",
           "showlakes": true,
           "showland": true,
           "subunitcolor": "white"
          },
          "hoverlabel": {
           "align": "left"
          },
          "hovermode": "closest",
          "mapbox": {
           "style": "light"
          },
          "paper_bgcolor": "white",
          "plot_bgcolor": "#E5ECF6",
          "polar": {
           "angularaxis": {
            "gridcolor": "white",
            "linecolor": "white",
            "ticks": ""
           },
           "bgcolor": "#E5ECF6",
           "radialaxis": {
            "gridcolor": "white",
            "linecolor": "white",
            "ticks": ""
           }
          },
          "scene": {
           "xaxis": {
            "backgroundcolor": "#E5ECF6",
            "gridcolor": "white",
            "gridwidth": 2,
            "linecolor": "white",
            "showbackground": true,
            "ticks": "",
            "zerolinecolor": "white"
           },
           "yaxis": {
            "backgroundcolor": "#E5ECF6",
            "gridcolor": "white",
            "gridwidth": 2,
            "linecolor": "white",
            "showbackground": true,
            "ticks": "",
            "zerolinecolor": "white"
           },
           "zaxis": {
            "backgroundcolor": "#E5ECF6",
            "gridcolor": "white",
            "gridwidth": 2,
            "linecolor": "white",
            "showbackground": true,
            "ticks": "",
            "zerolinecolor": "white"
           }
          },
          "shapedefaults": {
           "line": {
            "color": "#2a3f5f"
           }
          },
          "ternary": {
           "aaxis": {
            "gridcolor": "white",
            "linecolor": "white",
            "ticks": ""
           },
           "baxis": {
            "gridcolor": "white",
            "linecolor": "white",
            "ticks": ""
           },
           "bgcolor": "#E5ECF6",
           "caxis": {
            "gridcolor": "white",
            "linecolor": "white",
            "ticks": ""
           }
          },
          "title": {
           "x": 0.05
          },
          "xaxis": {
           "automargin": true,
           "gridcolor": "white",
           "linecolor": "white",
           "ticks": "",
           "title": {
            "standoff": 15
           },
           "zerolinecolor": "white",
           "zerolinewidth": 2
          },
          "yaxis": {
           "automargin": true,
           "gridcolor": "white",
           "linecolor": "white",
           "ticks": "",
           "title": {
            "standoff": 15
           },
           "zerolinecolor": "white",
           "zerolinewidth": 2
          }
         }
        },
        "title": {
         "text": "Treemaps of metabolic pathways for wt 25% physical intensity",
         "x": 0.5,
         "y": 0.97
        },
        "width": 1000
       }
      }
     },
     "metadata": {},
     "output_type": "display_data"
    },
    {
     "data": {
      "application/vnd.plotly.v1+json": {
       "config": {
        "plotlyServerURL": "https://plot.ly"
       },
       "data": [
        {
         "branchvalues": "total",
         "customdata": [
          [
           0.002
          ],
          [
           0.020168952396003813
          ],
          [
           0.10000000000000002
          ],
          [
           1.5111692289824248
          ],
          [
           1.111337904792009
          ],
          [
           1.1223379047920088
          ],
          [
           0.048
          ],
          [
           14.6
          ],
          [
           2.3876758095840174
          ],
          [
           1.1013379047920089
          ],
          [
           0.1300000000000002
          ],
          [
           0.002
          ],
          [
           0.06999999999999999
          ],
          [
           0.03
          ],
          [
           1.1223379047920088
          ],
          [
           0.06999999999999999
          ],
          [
           0.03
          ],
          [
           0.1300000000000002
          ],
          [
           0.002
          ],
          [
           0.016
          ],
          [
           0.10000000000000002
          ],
          [
           0.03
          ],
          [
           1.111337904792009
          ],
          [
           0.002
          ],
          [
           0.07499999999999972
          ],
          [
           0.016
          ],
          [
           0.07499999999999972
          ],
          [
           0.016
          ],
          [
           1.111337904792009
          ],
          [
           0.016
          ],
          [
           0.10000000000000002
          ],
          [
           0.10000000000000002
          ],
          [
           3.256175809584018
          ],
          [
           0.016
          ],
          [
           0.002
          ],
          [
           0.03300000000000027
          ],
          [
           0.03
          ],
          [
           0.06999999999999999
          ],
          [
           0.06999999999999999
          ],
          [
           0.07999999999999999
          ],
          [
           0.01
          ],
          [
           1.017168952396005
          ],
          [
           0.04
          ],
          [
           0.1000000000000002
          ],
          [
           0.002
          ],
          [
           0.10000000000000002
          ],
          [
           0.016
          ],
          [
           0.10000000000000002
          ],
          [
           0.10000000000000002
          ],
          [
           0.10000000000000002
          ],
          [
           0.10000000000000002
          ],
          [
           0.10000000000000002
          ],
          [
           0.1000000000000002
          ],
          [
           0.1000000000000002
          ],
          [
           0.1000000000000002
          ],
          [
           0.1000000000000002
          ],
          [
           0.1000000000000002
          ],
          [
           0.1000000000000002
          ],
          [
           0.10000000000000002
          ],
          [
           0.10000000000000002
          ],
          [
           0.1000000000000002
          ],
          [
           0.10000000000000002
          ],
          [
           11.176298570461785
          ],
          [
           0.6675469292855403
          ],
          [
           0.03
          ],
          [
           0.06546728971962613
          ],
          [
           0.0019999999999999996
          ],
          [
           0.015999999999999997
          ],
          [
           1.0947096174246622
          ],
          [
           7.354767653662577
          ]
         ],
         "domain": {
          "x": [
           0,
           1
          ],
          "y": [
           0,
           1
          ]
         },
         "hovertemplate": "Pathway or enzyme=%{label}<br>Flux=%{value}<br>Percentage=.%{percent entry}<extra></extra>",
         "ids": [
          "Cell/Isoleucine degradation/ACACT10m",
          "Cell/Boundary conditions - core/ACACt2",
          "Cell/FA metabolism/ACADLC14_MitoCore",
          "Cell/FA metabolism/ACADLC16_MitoCore",
          "Cell/TCA cycle/ACONTm",
          "Cell/TCA cycle/AKGDm",
          "Cell/Boundary conditions - core/BHBt",
          "Cell/Boundary conditions - core/Biomass_MitoCore",
          "Cell/Boundary conditions - core/CO2t",
          "Cell/TCA cycle/CSm",
          "Cell/FA metabolism/ECOAH1m",
          "Cell/Isoleucine degradation/ECOAH9m",
          "Cell/Glycolysis/gluconeogenesis/ENO",
          "Cell/Glycolysis/gluconeogenesis/FBA",
          "Cell/TCA cycle/FUMm",
          "Cell/Glycolysis/gluconeogenesis/GAPD",
          "Cell/Boundary conditions - core/GLCt1r",
          "Cell/FA metabolism/HACD1m",
          "Cell/Isoleucine degradation/HACD9m",
          "Cell/Boundary conditions - core/HCO3t_MitoCore",
          "Cell/Boundary conditions - core/HDCAtr",
          "Cell/Glycolysis/HEX1",
          "Cell/TCA cycle/ICDHyrm",
          "Cell/Isoleucine degradation/ILETAm",
          "Cell/Glycolysis/gluconeogenesis/LDH_L",
          "Cell/Leucine degradation/LEUTAm",
          "Cell/Boundary conditions - core/L_LACt2r",
          "Cell/Leucine degradation/MCCCrm",
          "Cell/TCA cycle/MDHm",
          "Cell/Leucine degradation/MGCHrm",
          "Cell/FA metabolism/MTPC14_MitoCore",
          "Cell/FA metabolism/MTPC16_MitoCore",
          "Cell/Boundary conditions - core/O2t",
          "Cell/Leucine degradation/OIVD1m",
          "Cell/Isoleucine degradation/OIVD3m",
          "Cell/TCA cycle/PDHm",
          "Cell/Glycolysis/gluconeogenesis/PGI",
          "Cell/Glycolysis/gluconeogenesis/PGK",
          "Cell/Glycolysis/gluconeogenesis/PGM",
          "Cell/Glycolysis/gluconeogenesis/PYK",
          "Cell/TCA cycle/SUCOAS1m",
          "Cell/TCA cycle/SUCOASm",
          "Cell/Glycolysis/gluconeogenesis/TPI",
          "Cell/FA metabolism/r0287",
          "Cell/Isoleucine degradation/r0603",
          "Cell/FA metabolism/r0634",
          "Cell/Leucine degradation/r0655",
          "Cell/FA metabolism/r0660",
          "Cell/FA metabolism/r0722",
          "Cell/FA metabolism/r0724",
          "Cell/FA metabolism/r0726",
          "Cell/FA metabolism/r0728",
          "Cell/FA metabolism/r0730",
          "Cell/FA metabolism/r0731",
          "Cell/FA metabolism/r0732",
          "Cell/FA metabolism/r0733",
          "Cell/FA metabolism/r0734",
          "Cell/FA metabolism/r1446",
          "Cell/FA metabolism/r1447",
          "Cell/FA metabolism/r1448",
          "Cell/FA metabolism/r1450",
          "Cell/FA metabolism/r1451",
          "Cell/Boundary conditions - core",
          "Cell/FA metabolism",
          "Cell/Glycolysis",
          "Cell/Glycolysis/gluconeogenesis",
          "Cell/Isoleucine degradation",
          "Cell/Leucine degradation",
          "Cell/TCA cycle",
          "Cell"
         ],
         "labels": [
          "ACACT10m",
          "ACACt2",
          "ACADLC14_MitoCore",
          "ACADLC16_MitoCore",
          "ACONTm",
          "AKGDm",
          "BHBt",
          "Biomass_MitoCore",
          "CO2t",
          "CSm",
          "ECOAH1m",
          "ECOAH9m",
          "ENO",
          "FBA",
          "FUMm",
          "GAPD",
          "GLCt1r",
          "HACD1m",
          "HACD9m",
          "HCO3t_MitoCore",
          "HDCAtr",
          "HEX1",
          "ICDHyrm",
          "ILETAm",
          "LDH_L",
          "LEUTAm",
          "L_LACt2r",
          "MCCCrm",
          "MDHm",
          "MGCHrm",
          "MTPC14_MitoCore",
          "MTPC16_MitoCore",
          "O2t",
          "OIVD1m",
          "OIVD3m",
          "PDHm",
          "PGI",
          "PGK",
          "PGM",
          "PYK",
          "SUCOAS1m",
          "SUCOASm",
          "TPI",
          "r0287",
          "r0603",
          "r0634",
          "r0655",
          "r0660",
          "r0722",
          "r0724",
          "r0726",
          "r0728",
          "r0730",
          "r0731",
          "r0732",
          "r0733",
          "r0734",
          "r1446",
          "r1447",
          "r1448",
          "r1450",
          "r1451",
          "Boundary conditions - core",
          "FA metabolism",
          "Glycolysis",
          "Glycolysis/gluconeogenesis",
          "Isoleucine degradation",
          "Leucine degradation",
          "TCA cycle",
          "Cell"
         ],
         "marker": {
          "coloraxis": "coloraxis",
          "colors": [
           0.002,
           0.020168952396003813,
           0.10000000000000002,
           1.5111692289824248,
           1.111337904792009,
           1.1223379047920088,
           0.048,
           14.6,
           2.3876758095840174,
           1.1013379047920089,
           0.1300000000000002,
           0.002,
           0.06999999999999999,
           0.03,
           1.1223379047920088,
           0.06999999999999999,
           0.03,
           0.1300000000000002,
           0.002,
           0.016,
           0.10000000000000002,
           0.03,
           1.111337904792009,
           0.002,
           0.07499999999999972,
           0.016,
           0.07499999999999972,
           0.016,
           1.111337904792009,
           0.016,
           0.10000000000000002,
           0.10000000000000002,
           3.256175809584018,
           0.016,
           0.002,
           0.03300000000000027,
           0.03,
           0.06999999999999999,
           0.06999999999999999,
           0.07999999999999999,
           0.01,
           1.017168952396005,
           0.04,
           0.1000000000000002,
           0.002,
           0.10000000000000002,
           0.016,
           0.10000000000000002,
           0.10000000000000002,
           0.10000000000000002,
           0.10000000000000002,
           0.10000000000000002,
           0.1000000000000002,
           0.1000000000000002,
           0.1000000000000002,
           0.1000000000000002,
           0.1000000000000002,
           0.1000000000000002,
           0.10000000000000002,
           0.10000000000000002,
           0.1000000000000002,
           0.10000000000000002,
           11.176298570461785,
           0.6675469292855403,
           0.03,
           0.06546728971962613,
           0.0019999999999999996,
           0.015999999999999997,
           1.0947096174246622,
           7.354767653662577
          ]
         },
         "name": "",
         "parents": [
          "Cell/Isoleucine degradation",
          "Cell/Boundary conditions - core",
          "Cell/FA metabolism",
          "Cell/FA metabolism",
          "Cell/TCA cycle",
          "Cell/TCA cycle",
          "Cell/Boundary conditions - core",
          "Cell/Boundary conditions - core",
          "Cell/Boundary conditions - core",
          "Cell/TCA cycle",
          "Cell/FA metabolism",
          "Cell/Isoleucine degradation",
          "Cell/Glycolysis/gluconeogenesis",
          "Cell/Glycolysis/gluconeogenesis",
          "Cell/TCA cycle",
          "Cell/Glycolysis/gluconeogenesis",
          "Cell/Boundary conditions - core",
          "Cell/FA metabolism",
          "Cell/Isoleucine degradation",
          "Cell/Boundary conditions - core",
          "Cell/Boundary conditions - core",
          "Cell/Glycolysis",
          "Cell/TCA cycle",
          "Cell/Isoleucine degradation",
          "Cell/Glycolysis/gluconeogenesis",
          "Cell/Leucine degradation",
          "Cell/Boundary conditions - core",
          "Cell/Leucine degradation",
          "Cell/TCA cycle",
          "Cell/Leucine degradation",
          "Cell/FA metabolism",
          "Cell/FA metabolism",
          "Cell/Boundary conditions - core",
          "Cell/Leucine degradation",
          "Cell/Isoleucine degradation",
          "Cell/TCA cycle",
          "Cell/Glycolysis/gluconeogenesis",
          "Cell/Glycolysis/gluconeogenesis",
          "Cell/Glycolysis/gluconeogenesis",
          "Cell/Glycolysis/gluconeogenesis",
          "Cell/TCA cycle",
          "Cell/TCA cycle",
          "Cell/Glycolysis/gluconeogenesis",
          "Cell/FA metabolism",
          "Cell/Isoleucine degradation",
          "Cell/FA metabolism",
          "Cell/Leucine degradation",
          "Cell/FA metabolism",
          "Cell/FA metabolism",
          "Cell/FA metabolism",
          "Cell/FA metabolism",
          "Cell/FA metabolism",
          "Cell/FA metabolism",
          "Cell/FA metabolism",
          "Cell/FA metabolism",
          "Cell/FA metabolism",
          "Cell/FA metabolism",
          "Cell/FA metabolism",
          "Cell/FA metabolism",
          "Cell/FA metabolism",
          "Cell/FA metabolism",
          "Cell/FA metabolism",
          "Cell",
          "Cell",
          "Cell",
          "Cell",
          "Cell",
          "Cell",
          "Cell",
          ""
         ],
         "textinfo": "label+value",
         "textposition": "middle center",
         "type": "treemap",
         "values": [
          0.002,
          0.020168952396003813,
          0.1,
          1.5111692289824248,
          1.111337904792009,
          1.1223379047920088,
          0.048,
          14.6,
          2.3876758095840174,
          1.1013379047920089,
          0.1300000000000002,
          0.002,
          0.06999999999999999,
          0.03,
          1.1223379047920088,
          0.06999999999999999,
          0.03,
          0.1300000000000002,
          0.002,
          0.016,
          0.1,
          0.03,
          1.111337904792009,
          0.002,
          0.07499999999999972,
          0.016,
          0.07499999999999972,
          0.016,
          1.111337904792009,
          0.016,
          0.1,
          0.1,
          3.2561758095840183,
          0.016,
          0.002,
          0.03300000000000027,
          0.03,
          0.06999999999999999,
          0.06999999999999999,
          0.07999999999999999,
          0.01,
          1.017168952396005,
          0.04,
          0.1000000000000002,
          0.002,
          0.1,
          0.016,
          0.1,
          0.1,
          0.1,
          0.1,
          0.1,
          0.1000000000000002,
          0.1000000000000002,
          0.1000000000000002,
          0.1000000000000002,
          0.1000000000000002,
          0.1000000000000002,
          0.1,
          0.1,
          0.1000000000000002,
          0.1,
          20.533020571564037,
          3.771169228982427,
          0.03,
          0.5349999999999997,
          0.012,
          0.08,
          7.740196381148058,
          32.701386181694524
         ]
        }
       ],
       "layout": {
        "coloraxis": {
         "colorbar": {
          "title": {
           "text": "fluxes"
          }
         },
         "colorscale": [
          [
           0,
           "rgb(5,48,97)"
          ],
          [
           0.1,
           "rgb(33,102,172)"
          ],
          [
           0.2,
           "rgb(67,147,195)"
          ],
          [
           0.3,
           "rgb(146,197,222)"
          ],
          [
           0.4,
           "rgb(209,229,240)"
          ],
          [
           0.5,
           "rgb(247,247,247)"
          ],
          [
           0.6,
           "rgb(253,219,199)"
          ],
          [
           0.7,
           "rgb(244,165,130)"
          ],
          [
           0.8,
           "rgb(214,96,77)"
          ],
          [
           0.9,
           "rgb(178,24,43)"
          ],
          [
           1,
           "rgb(103,0,31)"
          ]
         ]
        },
        "font": {
         "color": "white"
        },
        "height": 900,
        "legend": {
         "tracegroupgap": 0
        },
        "margin": {
         "t": 60
        },
        "paper_bgcolor": "#2e2d2d",
        "plot_bgcolor": "rgba(0, 0, 0, 100)",
        "template": {
         "data": {
          "bar": [
           {
            "error_x": {
             "color": "#2a3f5f"
            },
            "error_y": {
             "color": "#2a3f5f"
            },
            "marker": {
             "line": {
              "color": "#E5ECF6",
              "width": 0.5
             },
             "pattern": {
              "fillmode": "overlay",
              "size": 10,
              "solidity": 0.2
             }
            },
            "type": "bar"
           }
          ],
          "barpolar": [
           {
            "marker": {
             "line": {
              "color": "#E5ECF6",
              "width": 0.5
             },
             "pattern": {
              "fillmode": "overlay",
              "size": 10,
              "solidity": 0.2
             }
            },
            "type": "barpolar"
           }
          ],
          "carpet": [
           {
            "aaxis": {
             "endlinecolor": "#2a3f5f",
             "gridcolor": "white",
             "linecolor": "white",
             "minorgridcolor": "white",
             "startlinecolor": "#2a3f5f"
            },
            "baxis": {
             "endlinecolor": "#2a3f5f",
             "gridcolor": "white",
             "linecolor": "white",
             "minorgridcolor": "white",
             "startlinecolor": "#2a3f5f"
            },
            "type": "carpet"
           }
          ],
          "choropleth": [
           {
            "colorbar": {
             "outlinewidth": 0,
             "ticks": ""
            },
            "type": "choropleth"
           }
          ],
          "contour": [
           {
            "colorbar": {
             "outlinewidth": 0,
             "ticks": ""
            },
            "colorscale": [
             [
              0,
              "#0d0887"
             ],
             [
              0.1111111111111111,
              "#46039f"
             ],
             [
              0.2222222222222222,
              "#7201a8"
             ],
             [
              0.3333333333333333,
              "#9c179e"
             ],
             [
              0.4444444444444444,
              "#bd3786"
             ],
             [
              0.5555555555555556,
              "#d8576b"
             ],
             [
              0.6666666666666666,
              "#ed7953"
             ],
             [
              0.7777777777777778,
              "#fb9f3a"
             ],
             [
              0.8888888888888888,
              "#fdca26"
             ],
             [
              1,
              "#f0f921"
             ]
            ],
            "type": "contour"
           }
          ],
          "contourcarpet": [
           {
            "colorbar": {
             "outlinewidth": 0,
             "ticks": ""
            },
            "type": "contourcarpet"
           }
          ],
          "heatmap": [
           {
            "colorbar": {
             "outlinewidth": 0,
             "ticks": ""
            },
            "colorscale": [
             [
              0,
              "#0d0887"
             ],
             [
              0.1111111111111111,
              "#46039f"
             ],
             [
              0.2222222222222222,
              "#7201a8"
             ],
             [
              0.3333333333333333,
              "#9c179e"
             ],
             [
              0.4444444444444444,
              "#bd3786"
             ],
             [
              0.5555555555555556,
              "#d8576b"
             ],
             [
              0.6666666666666666,
              "#ed7953"
             ],
             [
              0.7777777777777778,
              "#fb9f3a"
             ],
             [
              0.8888888888888888,
              "#fdca26"
             ],
             [
              1,
              "#f0f921"
             ]
            ],
            "type": "heatmap"
           }
          ],
          "heatmapgl": [
           {
            "colorbar": {
             "outlinewidth": 0,
             "ticks": ""
            },
            "colorscale": [
             [
              0,
              "#0d0887"
             ],
             [
              0.1111111111111111,
              "#46039f"
             ],
             [
              0.2222222222222222,
              "#7201a8"
             ],
             [
              0.3333333333333333,
              "#9c179e"
             ],
             [
              0.4444444444444444,
              "#bd3786"
             ],
             [
              0.5555555555555556,
              "#d8576b"
             ],
             [
              0.6666666666666666,
              "#ed7953"
             ],
             [
              0.7777777777777778,
              "#fb9f3a"
             ],
             [
              0.8888888888888888,
              "#fdca26"
             ],
             [
              1,
              "#f0f921"
             ]
            ],
            "type": "heatmapgl"
           }
          ],
          "histogram": [
           {
            "marker": {
             "pattern": {
              "fillmode": "overlay",
              "size": 10,
              "solidity": 0.2
             }
            },
            "type": "histogram"
           }
          ],
          "histogram2d": [
           {
            "colorbar": {
             "outlinewidth": 0,
             "ticks": ""
            },
            "colorscale": [
             [
              0,
              "#0d0887"
             ],
             [
              0.1111111111111111,
              "#46039f"
             ],
             [
              0.2222222222222222,
              "#7201a8"
             ],
             [
              0.3333333333333333,
              "#9c179e"
             ],
             [
              0.4444444444444444,
              "#bd3786"
             ],
             [
              0.5555555555555556,
              "#d8576b"
             ],
             [
              0.6666666666666666,
              "#ed7953"
             ],
             [
              0.7777777777777778,
              "#fb9f3a"
             ],
             [
              0.8888888888888888,
              "#fdca26"
             ],
             [
              1,
              "#f0f921"
             ]
            ],
            "type": "histogram2d"
           }
          ],
          "histogram2dcontour": [
           {
            "colorbar": {
             "outlinewidth": 0,
             "ticks": ""
            },
            "colorscale": [
             [
              0,
              "#0d0887"
             ],
             [
              0.1111111111111111,
              "#46039f"
             ],
             [
              0.2222222222222222,
              "#7201a8"
             ],
             [
              0.3333333333333333,
              "#9c179e"
             ],
             [
              0.4444444444444444,
              "#bd3786"
             ],
             [
              0.5555555555555556,
              "#d8576b"
             ],
             [
              0.6666666666666666,
              "#ed7953"
             ],
             [
              0.7777777777777778,
              "#fb9f3a"
             ],
             [
              0.8888888888888888,
              "#fdca26"
             ],
             [
              1,
              "#f0f921"
             ]
            ],
            "type": "histogram2dcontour"
           }
          ],
          "mesh3d": [
           {
            "colorbar": {
             "outlinewidth": 0,
             "ticks": ""
            },
            "type": "mesh3d"
           }
          ],
          "parcoords": [
           {
            "line": {
             "colorbar": {
              "outlinewidth": 0,
              "ticks": ""
             }
            },
            "type": "parcoords"
           }
          ],
          "pie": [
           {
            "automargin": true,
            "type": "pie"
           }
          ],
          "scatter": [
           {
            "fillpattern": {
             "fillmode": "overlay",
             "size": 10,
             "solidity": 0.2
            },
            "type": "scatter"
           }
          ],
          "scatter3d": [
           {
            "line": {
             "colorbar": {
              "outlinewidth": 0,
              "ticks": ""
             }
            },
            "marker": {
             "colorbar": {
              "outlinewidth": 0,
              "ticks": ""
             }
            },
            "type": "scatter3d"
           }
          ],
          "scattercarpet": [
           {
            "marker": {
             "colorbar": {
              "outlinewidth": 0,
              "ticks": ""
             }
            },
            "type": "scattercarpet"
           }
          ],
          "scattergeo": [
           {
            "marker": {
             "colorbar": {
              "outlinewidth": 0,
              "ticks": ""
             }
            },
            "type": "scattergeo"
           }
          ],
          "scattergl": [
           {
            "marker": {
             "colorbar": {
              "outlinewidth": 0,
              "ticks": ""
             }
            },
            "type": "scattergl"
           }
          ],
          "scattermapbox": [
           {
            "marker": {
             "colorbar": {
              "outlinewidth": 0,
              "ticks": ""
             }
            },
            "type": "scattermapbox"
           }
          ],
          "scatterpolar": [
           {
            "marker": {
             "colorbar": {
              "outlinewidth": 0,
              "ticks": ""
             }
            },
            "type": "scatterpolar"
           }
          ],
          "scatterpolargl": [
           {
            "marker": {
             "colorbar": {
              "outlinewidth": 0,
              "ticks": ""
             }
            },
            "type": "scatterpolargl"
           }
          ],
          "scatterternary": [
           {
            "marker": {
             "colorbar": {
              "outlinewidth": 0,
              "ticks": ""
             }
            },
            "type": "scatterternary"
           }
          ],
          "surface": [
           {
            "colorbar": {
             "outlinewidth": 0,
             "ticks": ""
            },
            "colorscale": [
             [
              0,
              "#0d0887"
             ],
             [
              0.1111111111111111,
              "#46039f"
             ],
             [
              0.2222222222222222,
              "#7201a8"
             ],
             [
              0.3333333333333333,
              "#9c179e"
             ],
             [
              0.4444444444444444,
              "#bd3786"
             ],
             [
              0.5555555555555556,
              "#d8576b"
             ],
             [
              0.6666666666666666,
              "#ed7953"
             ],
             [
              0.7777777777777778,
              "#fb9f3a"
             ],
             [
              0.8888888888888888,
              "#fdca26"
             ],
             [
              1,
              "#f0f921"
             ]
            ],
            "type": "surface"
           }
          ],
          "table": [
           {
            "cells": {
             "fill": {
              "color": "#EBF0F8"
             },
             "line": {
              "color": "white"
             }
            },
            "header": {
             "fill": {
              "color": "#C8D4E3"
             },
             "line": {
              "color": "white"
             }
            },
            "type": "table"
           }
          ]
         },
         "layout": {
          "annotationdefaults": {
           "arrowcolor": "#2a3f5f",
           "arrowhead": 0,
           "arrowwidth": 1
          },
          "autotypenumbers": "strict",
          "coloraxis": {
           "colorbar": {
            "outlinewidth": 0,
            "ticks": ""
           }
          },
          "colorscale": {
           "diverging": [
            [
             0,
             "#8e0152"
            ],
            [
             0.1,
             "#c51b7d"
            ],
            [
             0.2,
             "#de77ae"
            ],
            [
             0.3,
             "#f1b6da"
            ],
            [
             0.4,
             "#fde0ef"
            ],
            [
             0.5,
             "#f7f7f7"
            ],
            [
             0.6,
             "#e6f5d0"
            ],
            [
             0.7,
             "#b8e186"
            ],
            [
             0.8,
             "#7fbc41"
            ],
            [
             0.9,
             "#4d9221"
            ],
            [
             1,
             "#276419"
            ]
           ],
           "sequential": [
            [
             0,
             "#0d0887"
            ],
            [
             0.1111111111111111,
             "#46039f"
            ],
            [
             0.2222222222222222,
             "#7201a8"
            ],
            [
             0.3333333333333333,
             "#9c179e"
            ],
            [
             0.4444444444444444,
             "#bd3786"
            ],
            [
             0.5555555555555556,
             "#d8576b"
            ],
            [
             0.6666666666666666,
             "#ed7953"
            ],
            [
             0.7777777777777778,
             "#fb9f3a"
            ],
            [
             0.8888888888888888,
             "#fdca26"
            ],
            [
             1,
             "#f0f921"
            ]
           ],
           "sequentialminus": [
            [
             0,
             "#0d0887"
            ],
            [
             0.1111111111111111,
             "#46039f"
            ],
            [
             0.2222222222222222,
             "#7201a8"
            ],
            [
             0.3333333333333333,
             "#9c179e"
            ],
            [
             0.4444444444444444,
             "#bd3786"
            ],
            [
             0.5555555555555556,
             "#d8576b"
            ],
            [
             0.6666666666666666,
             "#ed7953"
            ],
            [
             0.7777777777777778,
             "#fb9f3a"
            ],
            [
             0.8888888888888888,
             "#fdca26"
            ],
            [
             1,
             "#f0f921"
            ]
           ]
          },
          "colorway": [
           "#636efa",
           "#EF553B",
           "#00cc96",
           "#ab63fa",
           "#FFA15A",
           "#19d3f3",
           "#FF6692",
           "#B6E880",
           "#FF97FF",
           "#FECB52"
          ],
          "font": {
           "color": "#2a3f5f"
          },
          "geo": {
           "bgcolor": "white",
           "lakecolor": "white",
           "landcolor": "#E5ECF6",
           "showlakes": true,
           "showland": true,
           "subunitcolor": "white"
          },
          "hoverlabel": {
           "align": "left"
          },
          "hovermode": "closest",
          "mapbox": {
           "style": "light"
          },
          "paper_bgcolor": "white",
          "plot_bgcolor": "#E5ECF6",
          "polar": {
           "angularaxis": {
            "gridcolor": "white",
            "linecolor": "white",
            "ticks": ""
           },
           "bgcolor": "#E5ECF6",
           "radialaxis": {
            "gridcolor": "white",
            "linecolor": "white",
            "ticks": ""
           }
          },
          "scene": {
           "xaxis": {
            "backgroundcolor": "#E5ECF6",
            "gridcolor": "white",
            "gridwidth": 2,
            "linecolor": "white",
            "showbackground": true,
            "ticks": "",
            "zerolinecolor": "white"
           },
           "yaxis": {
            "backgroundcolor": "#E5ECF6",
            "gridcolor": "white",
            "gridwidth": 2,
            "linecolor": "white",
            "showbackground": true,
            "ticks": "",
            "zerolinecolor": "white"
           },
           "zaxis": {
            "backgroundcolor": "#E5ECF6",
            "gridcolor": "white",
            "gridwidth": 2,
            "linecolor": "white",
            "showbackground": true,
            "ticks": "",
            "zerolinecolor": "white"
           }
          },
          "shapedefaults": {
           "line": {
            "color": "#2a3f5f"
           }
          },
          "ternary": {
           "aaxis": {
            "gridcolor": "white",
            "linecolor": "white",
            "ticks": ""
           },
           "baxis": {
            "gridcolor": "white",
            "linecolor": "white",
            "ticks": ""
           },
           "bgcolor": "#E5ECF6",
           "caxis": {
            "gridcolor": "white",
            "linecolor": "white",
            "ticks": ""
           }
          },
          "title": {
           "x": 0.05
          },
          "xaxis": {
           "automargin": true,
           "gridcolor": "white",
           "linecolor": "white",
           "ticks": "",
           "title": {
            "standoff": 15
           },
           "zerolinecolor": "white",
           "zerolinewidth": 2
          },
          "yaxis": {
           "automargin": true,
           "gridcolor": "white",
           "linecolor": "white",
           "ticks": "",
           "title": {
            "standoff": 15
           },
           "zerolinecolor": "white",
           "zerolinewidth": 2
          }
         }
        },
        "title": {
         "text": "Treemaps of metabolic pathways for calpain 25% physical intensity",
         "x": 0.5,
         "y": 0.97
        },
        "width": 1000
       }
      }
     },
     "metadata": {},
     "output_type": "display_data"
    }
   ],
   "source": [
    "mal.display_treemap(dt25, 'wt 25')\n",
    "mal.display_treemap(dt25_calpain, 'calpain 25')"
   ]
  },
  {
   "attachments": {},
   "cell_type": "markdown",
   "id": "8151eca7",
   "metadata": {},
   "source": [
    "## 65% d'intensité"
   ]
  },
  {
   "cell_type": "code",
   "execution_count": 151,
   "id": "ecc758c1",
   "metadata": {},
   "outputs": [],
   "source": [
    "df_pathways_comparison_65 = pd.DataFrame(columns=['CAPN3+', 'CAPN3-KO'])\n",
    "df_pathways_comparison_65['CAPN3+'] = df_metabolic_pathways['65%']\n",
    "df_pathways_comparison_65['CAPN3-KO'] = df_metabolic_pathways_calpain['65%']"
   ]
  },
  {
   "cell_type": "code",
   "execution_count": 152,
   "id": "54da2a85",
   "metadata": {},
   "outputs": [
    {
     "data": {
      "image/png": "[encoded data removed]",
      "text/plain": [
       "<Figure size 250x500 with 1 Axes>"
      ]
     },
     "metadata": {},
     "output_type": "display_data"
    },
    {
     "data": {
      "text/plain": [
       "<module 'matplotlib.pyplot' from '/home/csiharath/.conda/envs/mitoenv/lib/python3.8/site-packages/matplotlib/pyplot.py'>"
      ]
     },
     "execution_count": 152,
     "metadata": {},
     "output_type": "execute_result"
    }
   ],
   "source": [
    "mal.barplot_pathways(df_pathways_comparison_65, \"plot_comparaison_wt_vs_calpain_65.png\", keys=['glycolysis', 'beta oxidation', 'Ketone bodies', 'Leucine degradation', 'Isoleucine degradation'], prop=True, figsize=(2.5,5))"
   ]
  },
  {
   "cell_type": "code",
   "execution_count": 153,
   "id": "f63dcaec",
   "metadata": {},
   "outputs": [
    {
     "data": {
      "image/png": "[encoded data removed]",
      "text/plain": [
       "<Figure size 250x500 with 1 Axes>"
      ]
     },
     "metadata": {},
     "output_type": "display_data"
    },
    {
     "data": {
      "text/plain": [
       "<module 'matplotlib.pyplot' from '/home/csiharath/.conda/envs/mitoenv/lib/python3.8/site-packages/matplotlib/pyplot.py'>"
      ]
     },
     "execution_count": 153,
     "metadata": {},
     "output_type": "execute_result"
    }
   ],
   "source": [
    "proportion_wt_calpain_65 = mal.build_df_proportion(df_pathways_comparison_65)\n",
    "mal.barplot_pathways(proportion_wt_calpain_65, \"plot_proportion_wt_calpain_65.png\", keys=['glycolysis', 'beta oxidation', 'Ketone bodies', 'Leucine degradation', 'Isoleucine degradation'], prop=True, figsize=(2.5,5))"
   ]
  },
  {
   "cell_type": "code",
   "execution_count": 154,
   "id": "987a68c4",
   "metadata": {},
   "outputs": [
    {
     "data": {
      "text/plain": [
       "0.9999999999999999"
      ]
     },
     "execution_count": 154,
     "metadata": {},
     "output_type": "execute_result"
    }
   ],
   "source": [
    "0.444078947368421+0.444078947368421+0.07894736842105263+0.026315789473684206+0.006578947368421051"
   ]
  },
  {
   "cell_type": "code",
   "execution_count": 155,
   "id": "63d35a4e",
   "metadata": {},
   "outputs": [
    {
     "data": {
      "application/vnd.plotly.v1+json": {
       "config": {
        "plotlyServerURL": "https://plot.ly"
       },
       "data": [
        {
         "branchvalues": "total",
         "customdata": [
          [
           0.004
          ],
          [
           0.114
          ],
          [
           0.27
          ],
          [
           2.7391194646102566
          ],
          [
           2.8014
          ],
          [
           2.8224
          ],
          [
           0.048
          ],
          [
           36.52
          ],
          [
           5.9338
          ],
          [
           2.8014
          ],
          [
           0.3021999999999998
          ],
          [
           0.004
          ],
          [
           0.27
          ],
          [
           0.13
          ],
          [
           2.8224
          ],
          [
           0.27
          ],
          [
           0.13
          ],
          [
           0.3021999999999998
          ],
          [
           0.004
          ],
          [
           0.016000000000000014
          ],
          [
           0.27
          ],
          [
           0.13
          ],
          [
           0.2937377975921516
          ],
          [
           2.5076622024078485
          ],
          [
           0.004
          ],
          [
           0.10400000000000002
          ],
          [
           0.016
          ],
          [
           0.10400000000000002
          ],
          [
           0.016000000000000014
          ],
          [
           2.8014
          ],
          [
           0.016000000000000014
          ],
          [
           0.27
          ],
          [
           0.27
          ],
          [
           7.9
          ],
          [
           0.016
          ],
          [
           0.004
          ],
          [
           0.201
          ],
          [
           0.13
          ],
          [
           0.13
          ],
          [
           0.27
          ],
          [
           0.27
          ],
          [
           0.27
          ],
          [
           2.6444
          ],
          [
           0.14
          ],
          [
           0.27
          ],
          [
           0.004
          ],
          [
           0.27
          ],
          [
           0.016000000000000014
          ],
          [
           0.27
          ],
          [
           0.27
          ],
          [
           0.27
          ],
          [
           0.27
          ],
          [
           0.27
          ],
          [
           0.27
          ],
          [
           0.27
          ],
          [
           0.27
          ],
          [
           0.27
          ],
          [
           0.27
          ],
          [
           0.2721999999999998
          ],
          [
           0.27
          ],
          [
           0.27
          ],
          [
           0.27
          ],
          [
           0.27
          ],
          [
           28.047890979273376
          ],
          [
           1.045610712578957
          ],
          [
           0.13
          ],
          [
           0.2312384034519957
          ],
          [
           0.003999999999999999
          ],
          [
           0.01600000000000001
          ],
          [
           2.6850045885477756
          ],
          [
           18.28670709126351
          ]
         ],
         "domain": {
          "x": [
           0,
           1
          ],
          "y": [
           0,
           1
          ]
         },
         "hovertemplate": "Pathway or enzyme=%{label}<br>Flux=%{value}<br>Percentage=.%{percent entry}<extra></extra>",
         "ids": [
          "Cell/Isoleucine degradation/ACACT10m",
          "Cell/Boundary conditions - core/ACACt2",
          "Cell/FA metabolism/ACADLC14_MitoCore",
          "Cell/FA metabolism/ACADLC16_MitoCore",
          "Cell/TCA cycle/ACONTm",
          "Cell/TCA cycle/AKGDm",
          "Cell/Boundary conditions - core/BHBt",
          "Cell/Boundary conditions - core/Biomass_MitoCore",
          "Cell/Boundary conditions - core/CO2t",
          "Cell/TCA cycle/CSm",
          "Cell/FA metabolism/ECOAH1m",
          "Cell/Isoleucine degradation/ECOAH9m",
          "Cell/Glycolysis/gluconeogenesis/ENO",
          "Cell/Glycolysis/gluconeogenesis/FBA",
          "Cell/TCA cycle/FUMm",
          "Cell/Glycolysis/gluconeogenesis/GAPD",
          "Cell/Boundary conditions - core/GLCt1r",
          "Cell/FA metabolism/HACD1m",
          "Cell/Isoleucine degradation/HACD9m",
          "Cell/Boundary conditions - core/HCO3t_MitoCore",
          "Cell/Boundary conditions - core/HDCAtr",
          "Cell/Glycolysis/HEX1",
          "Cell/TCA cycle/ICDHxm",
          "Cell/TCA cycle/ICDHyrm",
          "Cell/Isoleucine degradation/ILETAm",
          "Cell/Glycolysis/gluconeogenesis/LDH_L",
          "Cell/Leucine degradation/LEUTAm",
          "Cell/Boundary conditions - core/L_LACt2r",
          "Cell/Leucine degradation/MCCCrm",
          "Cell/TCA cycle/MDHm",
          "Cell/Leucine degradation/MGCHrm",
          "Cell/FA metabolism/MTPC14_MitoCore",
          "Cell/FA metabolism/MTPC16_MitoCore",
          "Cell/Boundary conditions - core/O2t",
          "Cell/Leucine degradation/OIVD1m",
          "Cell/Isoleucine degradation/OIVD3m",
          "Cell/TCA cycle/PDHm",
          "Cell/Glycolysis/PFK",
          "Cell/Glycolysis/gluconeogenesis/PGI",
          "Cell/Glycolysis/gluconeogenesis/PGK",
          "Cell/Glycolysis/gluconeogenesis/PGM",
          "Cell/Glycolysis/gluconeogenesis/PYK",
          "Cell/TCA cycle/SUCOASm",
          "Cell/Glycolysis/gluconeogenesis/TPI",
          "Cell/FA metabolism/r0287",
          "Cell/Isoleucine degradation/r0603",
          "Cell/FA metabolism/r0634",
          "Cell/Leucine degradation/r0655",
          "Cell/FA metabolism/r0660",
          "Cell/FA metabolism/r0722",
          "Cell/FA metabolism/r0724",
          "Cell/FA metabolism/r0726",
          "Cell/FA metabolism/r0728",
          "Cell/FA metabolism/r0730",
          "Cell/FA metabolism/r0731",
          "Cell/FA metabolism/r0732",
          "Cell/FA metabolism/r0733",
          "Cell/FA metabolism/r0734",
          "Cell/FA metabolism/r1446",
          "Cell/FA metabolism/r1447",
          "Cell/FA metabolism/r1448",
          "Cell/FA metabolism/r1450",
          "Cell/FA metabolism/r1451",
          "Cell/Boundary conditions - core",
          "Cell/FA metabolism",
          "Cell/Glycolysis",
          "Cell/Glycolysis/gluconeogenesis",
          "Cell/Isoleucine degradation",
          "Cell/Leucine degradation",
          "Cell/TCA cycle",
          "Cell"
         ],
         "labels": [
          "ACACT10m",
          "ACACt2",
          "ACADLC14_MitoCore",
          "ACADLC16_MitoCore",
          "ACONTm",
          "AKGDm",
          "BHBt",
          "Biomass_MitoCore",
          "CO2t",
          "CSm",
          "ECOAH1m",
          "ECOAH9m",
          "ENO",
          "FBA",
          "FUMm",
          "GAPD",
          "GLCt1r",
          "HACD1m",
          "HACD9m",
          "HCO3t_MitoCore",
          "HDCAtr",
          "HEX1",
          "ICDHxm",
          "ICDHyrm",
          "ILETAm",
          "LDH_L",
          "LEUTAm",
          "L_LACt2r",
          "MCCCrm",
          "MDHm",
          "MGCHrm",
          "MTPC14_MitoCore",
          "MTPC16_MitoCore",
          "O2t",
          "OIVD1m",
          "OIVD3m",
          "PDHm",
          "PFK",
          "PGI",
          "PGK",
          "PGM",
          "PYK",
          "SUCOASm",
          "TPI",
          "r0287",
          "r0603",
          "r0634",
          "r0655",
          "r0660",
          "r0722",
          "r0724",
          "r0726",
          "r0728",
          "r0730",
          "r0731",
          "r0732",
          "r0733",
          "r0734",
          "r1446",
          "r1447",
          "r1448",
          "r1450",
          "r1451",
          "Boundary conditions - core",
          "FA metabolism",
          "Glycolysis",
          "Glycolysis/gluconeogenesis",
          "Isoleucine degradation",
          "Leucine degradation",
          "TCA cycle",
          "Cell"
         ],
         "marker": {
          "coloraxis": "coloraxis",
          "colors": [
           0.004,
           0.114,
           0.27,
           2.7391194646102566,
           2.8014,
           2.8224,
           0.048,
           36.52,
           5.9338,
           2.8014,
           0.3021999999999998,
           0.004,
           0.27,
           0.13,
           2.8224,
           0.27,
           0.13,
           0.3021999999999998,
           0.004,
           0.016000000000000014,
           0.27,
           0.13,
           0.2937377975921516,
           2.5076622024078485,
           0.004,
           0.10400000000000002,
           0.016,
           0.10400000000000002,
           0.016000000000000014,
           2.8014,
           0.016000000000000014,
           0.27,
           0.27,
           7.9,
           0.016,
           0.004,
           0.201,
           0.13,
           0.13,
           0.27,
           0.27,
           0.27,
           2.6444,
           0.14,
           0.27,
           0.004,
           0.27,
           0.016000000000000014,
           0.27,
           0.27,
           0.27,
           0.27,
           0.27,
           0.27,
           0.27,
           0.27,
           0.27,
           0.27,
           0.2721999999999998,
           0.27,
           0.27,
           0.27,
           0.27,
           28.047890979273376,
           1.045610712578957,
           0.13,
           0.2312384034519957,
           0.003999999999999999,
           0.01600000000000001,
           2.6850045885477756,
           18.28670709126351
          ]
         },
         "name": "",
         "parents": [
          "Cell/Isoleucine degradation",
          "Cell/Boundary conditions - core",
          "Cell/FA metabolism",
          "Cell/FA metabolism",
          "Cell/TCA cycle",
          "Cell/TCA cycle",
          "Cell/Boundary conditions - core",
          "Cell/Boundary conditions - core",
          "Cell/Boundary conditions - core",
          "Cell/TCA cycle",
          "Cell/FA metabolism",
          "Cell/Isoleucine degradation",
          "Cell/Glycolysis/gluconeogenesis",
          "Cell/Glycolysis/gluconeogenesis",
          "Cell/TCA cycle",
          "Cell/Glycolysis/gluconeogenesis",
          "Cell/Boundary conditions - core",
          "Cell/FA metabolism",
          "Cell/Isoleucine degradation",
          "Cell/Boundary conditions - core",
          "Cell/Boundary conditions - core",
          "Cell/Glycolysis",
          "Cell/TCA cycle",
          "Cell/TCA cycle",
          "Cell/Isoleucine degradation",
          "Cell/Glycolysis/gluconeogenesis",
          "Cell/Leucine degradation",
          "Cell/Boundary conditions - core",
          "Cell/Leucine degradation",
          "Cell/TCA cycle",
          "Cell/Leucine degradation",
          "Cell/FA metabolism",
          "Cell/FA metabolism",
          "Cell/Boundary conditions - core",
          "Cell/Leucine degradation",
          "Cell/Isoleucine degradation",
          "Cell/TCA cycle",
          "Cell/Glycolysis",
          "Cell/Glycolysis/gluconeogenesis",
          "Cell/Glycolysis/gluconeogenesis",
          "Cell/Glycolysis/gluconeogenesis",
          "Cell/Glycolysis/gluconeogenesis",
          "Cell/TCA cycle",
          "Cell/Glycolysis/gluconeogenesis",
          "Cell/FA metabolism",
          "Cell/Isoleucine degradation",
          "Cell/FA metabolism",
          "Cell/Leucine degradation",
          "Cell/FA metabolism",
          "Cell/FA metabolism",
          "Cell/FA metabolism",
          "Cell/FA metabolism",
          "Cell/FA metabolism",
          "Cell/FA metabolism",
          "Cell/FA metabolism",
          "Cell/FA metabolism",
          "Cell/FA metabolism",
          "Cell/FA metabolism",
          "Cell/FA metabolism",
          "Cell/FA metabolism",
          "Cell/FA metabolism",
          "Cell/FA metabolism",
          "Cell/FA metabolism",
          "Cell",
          "Cell",
          "Cell",
          "Cell",
          "Cell",
          "Cell",
          "Cell",
          ""
         ],
         "textinfo": "label+value",
         "textposition": "middle center",
         "type": "treemap",
         "values": [
          0.004,
          0.114,
          0.27,
          2.7391194646102566,
          2.8014,
          2.8224,
          0.048,
          36.52,
          5.933800000000001,
          2.8014,
          0.3021999999999998,
          0.004,
          0.27,
          0.13,
          2.8224,
          0.27,
          0.13,
          0.3021999999999998,
          0.004,
          0.016000000000000014,
          0.27,
          0.13,
          0.2937377975921516,
          2.5076622024078485,
          0.004,
          0.10400000000000001,
          0.016,
          0.10400000000000001,
          0.016000000000000014,
          2.8014,
          0.016000000000000014,
          0.27,
          0.27,
          7.9,
          0.016,
          0.004,
          0.201,
          0.13,
          0.13,
          0.27,
          0.27,
          0.27,
          2.6444,
          0.14,
          0.27,
          0.004,
          0.27,
          0.016000000000000014,
          0.27,
          0.27,
          0.27,
          0.27,
          0.27,
          0.27,
          0.27,
          0.27,
          0.27,
          0.27,
          0.2721999999999998,
          0.27,
          0.27,
          0.27,
          0.27,
          51.0358,
          8.745719464610257,
          0.26,
          1.854,
          0.024,
          0.08000000000000004,
          19.695800000000002,
          81.69531946461026
         ]
        }
       ],
       "layout": {
        "coloraxis": {
         "colorbar": {
          "title": {
           "text": "fluxes"
          }
         },
         "colorscale": [
          [
           0,
           "rgb(5,48,97)"
          ],
          [
           0.1,
           "rgb(33,102,172)"
          ],
          [
           0.2,
           "rgb(67,147,195)"
          ],
          [
           0.3,
           "rgb(146,197,222)"
          ],
          [
           0.4,
           "rgb(209,229,240)"
          ],
          [
           0.5,
           "rgb(247,247,247)"
          ],
          [
           0.6,
           "rgb(253,219,199)"
          ],
          [
           0.7,
           "rgb(244,165,130)"
          ],
          [
           0.8,
           "rgb(214,96,77)"
          ],
          [
           0.9,
           "rgb(178,24,43)"
          ],
          [
           1,
           "rgb(103,0,31)"
          ]
         ]
        },
        "font": {
         "color": "white"
        },
        "height": 900,
        "legend": {
         "tracegroupgap": 0
        },
        "margin": {
         "t": 60
        },
        "paper_bgcolor": "#2e2d2d",
        "plot_bgcolor": "rgba(0, 0, 0, 100)",
        "template": {
         "data": {
          "bar": [
           {
            "error_x": {
             "color": "#2a3f5f"
            },
            "error_y": {
             "color": "#2a3f5f"
            },
            "marker": {
             "line": {
              "color": "#E5ECF6",
              "width": 0.5
             },
             "pattern": {
              "fillmode": "overlay",
              "size": 10,
              "solidity": 0.2
             }
            },
            "type": "bar"
           }
          ],
          "barpolar": [
           {
            "marker": {
             "line": {
              "color": "#E5ECF6",
              "width": 0.5
             },
             "pattern": {
              "fillmode": "overlay",
              "size": 10,
              "solidity": 0.2
             }
            },
            "type": "barpolar"
           }
          ],
          "carpet": [
           {
            "aaxis": {
             "endlinecolor": "#2a3f5f",
             "gridcolor": "white",
             "linecolor": "white",
             "minorgridcolor": "white",
             "startlinecolor": "#2a3f5f"
            },
            "baxis": {
             "endlinecolor": "#2a3f5f",
             "gridcolor": "white",
             "linecolor": "white",
             "minorgridcolor": "white",
             "startlinecolor": "#2a3f5f"
            },
            "type": "carpet"
           }
          ],
          "choropleth": [
           {
            "colorbar": {
             "outlinewidth": 0,
             "ticks": ""
            },
            "type": "choropleth"
           }
          ],
          "contour": [
           {
            "colorbar": {
             "outlinewidth": 0,
             "ticks": ""
            },
            "colorscale": [
             [
              0,
              "#0d0887"
             ],
             [
              0.1111111111111111,
              "#46039f"
             ],
             [
              0.2222222222222222,
              "#7201a8"
             ],
             [
              0.3333333333333333,
              "#9c179e"
             ],
             [
              0.4444444444444444,
              "#bd3786"
             ],
             [
              0.5555555555555556,
              "#d8576b"
             ],
             [
              0.6666666666666666,
              "#ed7953"
             ],
             [
              0.7777777777777778,
              "#fb9f3a"
             ],
             [
              0.8888888888888888,
              "#fdca26"
             ],
             [
              1,
              "#f0f921"
             ]
            ],
            "type": "contour"
           }
          ],
          "contourcarpet": [
           {
            "colorbar": {
             "outlinewidth": 0,
             "ticks": ""
            },
            "type": "contourcarpet"
           }
          ],
          "heatmap": [
           {
            "colorbar": {
             "outlinewidth": 0,
             "ticks": ""
            },
            "colorscale": [
             [
              0,
              "#0d0887"
             ],
             [
              0.1111111111111111,
              "#46039f"
             ],
             [
              0.2222222222222222,
              "#7201a8"
             ],
             [
              0.3333333333333333,
              "#9c179e"
             ],
             [
              0.4444444444444444,
              "#bd3786"
             ],
             [
              0.5555555555555556,
              "#d8576b"
             ],
             [
              0.6666666666666666,
              "#ed7953"
             ],
             [
              0.7777777777777778,
              "#fb9f3a"
             ],
             [
              0.8888888888888888,
              "#fdca26"
             ],
             [
              1,
              "#f0f921"
             ]
            ],
            "type": "heatmap"
           }
          ],
          "heatmapgl": [
           {
            "colorbar": {
             "outlinewidth": 0,
             "ticks": ""
            },
            "colorscale": [
             [
              0,
              "#0d0887"
             ],
             [
              0.1111111111111111,
              "#46039f"
             ],
             [
              0.2222222222222222,
              "#7201a8"
             ],
             [
              0.3333333333333333,
              "#9c179e"
             ],
             [
              0.4444444444444444,
              "#bd3786"
             ],
             [
              0.5555555555555556,
              "#d8576b"
             ],
             [
              0.6666666666666666,
              "#ed7953"
             ],
             [
              0.7777777777777778,
              "#fb9f3a"
             ],
             [
              0.8888888888888888,
              "#fdca26"
             ],
             [
              1,
              "#f0f921"
             ]
            ],
            "type": "heatmapgl"
           }
          ],
          "histogram": [
           {
            "marker": {
             "pattern": {
              "fillmode": "overlay",
              "size": 10,
              "solidity": 0.2
             }
            },
            "type": "histogram"
           }
          ],
          "histogram2d": [
           {
            "colorbar": {
             "outlinewidth": 0,
             "ticks": ""
            },
            "colorscale": [
             [
              0,
              "#0d0887"
             ],
             [
              0.1111111111111111,
              "#46039f"
             ],
             [
              0.2222222222222222,
              "#7201a8"
             ],
             [
              0.3333333333333333,
              "#9c179e"
             ],
             [
              0.4444444444444444,
              "#bd3786"
             ],
             [
              0.5555555555555556,
              "#d8576b"
             ],
             [
              0.6666666666666666,
              "#ed7953"
             ],
             [
              0.7777777777777778,
              "#fb9f3a"
             ],
             [
              0.8888888888888888,
              "#fdca26"
             ],
             [
              1,
              "#f0f921"
             ]
            ],
            "type": "histogram2d"
           }
          ],
          "histogram2dcontour": [
           {
            "colorbar": {
             "outlinewidth": 0,
             "ticks": ""
            },
            "colorscale": [
             [
              0,
              "#0d0887"
             ],
             [
              0.1111111111111111,
              "#46039f"
             ],
             [
              0.2222222222222222,
              "#7201a8"
             ],
             [
              0.3333333333333333,
              "#9c179e"
             ],
             [
              0.4444444444444444,
              "#bd3786"
             ],
             [
              0.5555555555555556,
              "#d8576b"
             ],
             [
              0.6666666666666666,
              "#ed7953"
             ],
             [
              0.7777777777777778,
              "#fb9f3a"
             ],
             [
              0.8888888888888888,
              "#fdca26"
             ],
             [
              1,
              "#f0f921"
             ]
            ],
            "type": "histogram2dcontour"
           }
          ],
          "mesh3d": [
           {
            "colorbar": {
             "outlinewidth": 0,
             "ticks": ""
            },
            "type": "mesh3d"
           }
          ],
          "parcoords": [
           {
            "line": {
             "colorbar": {
              "outlinewidth": 0,
              "ticks": ""
             }
            },
            "type": "parcoords"
           }
          ],
          "pie": [
           {
            "automargin": true,
            "type": "pie"
           }
          ],
          "scatter": [
           {
            "fillpattern": {
             "fillmode": "overlay",
             "size": 10,
             "solidity": 0.2
            },
            "type": "scatter"
           }
          ],
          "scatter3d": [
           {
            "line": {
             "colorbar": {
              "outlinewidth": 0,
              "ticks": ""
             }
            },
            "marker": {
             "colorbar": {
              "outlinewidth": 0,
              "ticks": ""
             }
            },
            "type": "scatter3d"
           }
          ],
          "scattercarpet": [
           {
            "marker": {
             "colorbar": {
              "outlinewidth": 0,
              "ticks": ""
             }
            },
            "type": "scattercarpet"
           }
          ],
          "scattergeo": [
           {
            "marker": {
             "colorbar": {
              "outlinewidth": 0,
              "ticks": ""
             }
            },
            "type": "scattergeo"
           }
          ],
          "scattergl": [
           {
            "marker": {
             "colorbar": {
              "outlinewidth": 0,
              "ticks": ""
             }
            },
            "type": "scattergl"
           }
          ],
          "scattermapbox": [
           {
            "marker": {
             "colorbar": {
              "outlinewidth": 0,
              "ticks": ""
             }
            },
            "type": "scattermapbox"
           }
          ],
          "scatterpolar": [
           {
            "marker": {
             "colorbar": {
              "outlinewidth": 0,
              "ticks": ""
             }
            },
            "type": "scatterpolar"
           }
          ],
          "scatterpolargl": [
           {
            "marker": {
             "colorbar": {
              "outlinewidth": 0,
              "ticks": ""
             }
            },
            "type": "scatterpolargl"
           }
          ],
          "scatterternary": [
           {
            "marker": {
             "colorbar": {
              "outlinewidth": 0,
              "ticks": ""
             }
            },
            "type": "scatterternary"
           }
          ],
          "surface": [
           {
            "colorbar": {
             "outlinewidth": 0,
             "ticks": ""
            },
            "colorscale": [
             [
              0,
              "#0d0887"
             ],
             [
              0.1111111111111111,
              "#46039f"
             ],
             [
              0.2222222222222222,
              "#7201a8"
             ],
             [
              0.3333333333333333,
              "#9c179e"
             ],
             [
              0.4444444444444444,
              "#bd3786"
             ],
             [
              0.5555555555555556,
              "#d8576b"
             ],
             [
              0.6666666666666666,
              "#ed7953"
             ],
             [
              0.7777777777777778,
              "#fb9f3a"
             ],
             [
              0.8888888888888888,
              "#fdca26"
             ],
             [
              1,
              "#f0f921"
             ]
            ],
            "type": "surface"
           }
          ],
          "table": [
           {
            "cells": {
             "fill": {
              "color": "#EBF0F8"
             },
             "line": {
              "color": "white"
             }
            },
            "header": {
             "fill": {
              "color": "#C8D4E3"
             },
             "line": {
              "color": "white"
             }
            },
            "type": "table"
           }
          ]
         },
         "layout": {
          "annotationdefaults": {
           "arrowcolor": "#2a3f5f",
           "arrowhead": 0,
           "arrowwidth": 1
          },
          "autotypenumbers": "strict",
          "coloraxis": {
           "colorbar": {
            "outlinewidth": 0,
            "ticks": ""
           }
          },
          "colorscale": {
           "diverging": [
            [
             0,
             "#8e0152"
            ],
            [
             0.1,
             "#c51b7d"
            ],
            [
             0.2,
             "#de77ae"
            ],
            [
             0.3,
             "#f1b6da"
            ],
            [
             0.4,
             "#fde0ef"
            ],
            [
             0.5,
             "#f7f7f7"
            ],
            [
             0.6,
             "#e6f5d0"
            ],
            [
             0.7,
             "#b8e186"
            ],
            [
             0.8,
             "#7fbc41"
            ],
            [
             0.9,
             "#4d9221"
            ],
            [
             1,
             "#276419"
            ]
           ],
           "sequential": [
            [
             0,
             "#0d0887"
            ],
            [
             0.1111111111111111,
             "#46039f"
            ],
            [
             0.2222222222222222,
             "#7201a8"
            ],
            [
             0.3333333333333333,
             "#9c179e"
            ],
            [
             0.4444444444444444,
             "#bd3786"
            ],
            [
             0.5555555555555556,
             "#d8576b"
            ],
            [
             0.6666666666666666,
             "#ed7953"
            ],
            [
             0.7777777777777778,
             "#fb9f3a"
            ],
            [
             0.8888888888888888,
             "#fdca26"
            ],
            [
             1,
             "#f0f921"
            ]
           ],
           "sequentialminus": [
            [
             0,
             "#0d0887"
            ],
            [
             0.1111111111111111,
             "#46039f"
            ],
            [
             0.2222222222222222,
             "#7201a8"
            ],
            [
             0.3333333333333333,
             "#9c179e"
            ],
            [
             0.4444444444444444,
             "#bd3786"
            ],
            [
             0.5555555555555556,
             "#d8576b"
            ],
            [
             0.6666666666666666,
             "#ed7953"
            ],
            [
             0.7777777777777778,
             "#fb9f3a"
            ],
            [
             0.8888888888888888,
             "#fdca26"
            ],
            [
             1,
             "#f0f921"
            ]
           ]
          },
          "colorway": [
           "#636efa",
           "#EF553B",
           "#00cc96",
           "#ab63fa",
           "#FFA15A",
           "#19d3f3",
           "#FF6692",
           "#B6E880",
           "#FF97FF",
           "#FECB52"
          ],
          "font": {
           "color": "#2a3f5f"
          },
          "geo": {
           "bgcolor": "white",
           "lakecolor": "white",
           "landcolor": "#E5ECF6",
           "showlakes": true,
           "showland": true,
           "subunitcolor": "white"
          },
          "hoverlabel": {
           "align": "left"
          },
          "hovermode": "closest",
          "mapbox": {
           "style": "light"
          },
          "paper_bgcolor": "white",
          "plot_bgcolor": "#E5ECF6",
          "polar": {
           "angularaxis": {
            "gridcolor": "white",
            "linecolor": "white",
            "ticks": ""
           },
           "bgcolor": "#E5ECF6",
           "radialaxis": {
            "gridcolor": "white",
            "linecolor": "white",
            "ticks": ""
           }
          },
          "scene": {
           "xaxis": {
            "backgroundcolor": "#E5ECF6",
            "gridcolor": "white",
            "gridwidth": 2,
            "linecolor": "white",
            "showbackground": true,
            "ticks": "",
            "zerolinecolor": "white"
           },
           "yaxis": {
            "backgroundcolor": "#E5ECF6",
            "gridcolor": "white",
            "gridwidth": 2,
            "linecolor": "white",
            "showbackground": true,
            "ticks": "",
            "zerolinecolor": "white"
           },
           "zaxis": {
            "backgroundcolor": "#E5ECF6",
            "gridcolor": "white",
            "gridwidth": 2,
            "linecolor": "white",
            "showbackground": true,
            "ticks": "",
            "zerolinecolor": "white"
           }
          },
          "shapedefaults": {
           "line": {
            "color": "#2a3f5f"
           }
          },
          "ternary": {
           "aaxis": {
            "gridcolor": "white",
            "linecolor": "white",
            "ticks": ""
           },
           "baxis": {
            "gridcolor": "white",
            "linecolor": "white",
            "ticks": ""
           },
           "bgcolor": "#E5ECF6",
           "caxis": {
            "gridcolor": "white",
            "linecolor": "white",
            "ticks": ""
           }
          },
          "title": {
           "x": 0.05
          },
          "xaxis": {
           "automargin": true,
           "gridcolor": "white",
           "linecolor": "white",
           "ticks": "",
           "title": {
            "standoff": 15
           },
           "zerolinecolor": "white",
           "zerolinewidth": 2
          },
          "yaxis": {
           "automargin": true,
           "gridcolor": "white",
           "linecolor": "white",
           "ticks": "",
           "title": {
            "standoff": 15
           },
           "zerolinecolor": "white",
           "zerolinewidth": 2
          }
         }
        },
        "title": {
         "text": "Treemaps of metabolic pathways for wt 65% physical intensity",
         "x": 0.5,
         "y": 0.97
        },
        "width": 1000
       }
      }
     },
     "metadata": {},
     "output_type": "display_data"
    },
    {
     "data": {
      "application/vnd.plotly.v1+json": {
       "config": {
        "plotlyServerURL": "https://plot.ly"
       },
       "data": [
        {
         "branchvalues": "total",
         "customdata": [
          [
           0.002
          ],
          [
           0.04365000000000143
          ],
          [
           0.188810092218339
          ],
          [
           0.188810092218339
          ],
          [
           2.3737807377467135
          ],
          [
           2.326780737746714
          ],
          [
           0.048
          ],
          [
           33.60713069953224
          ],
          [
           5.534561475493428
          ],
          [
           2.3057807377467134
          ],
          [
           0.232810092218339
          ],
          [
           0.002
          ],
          [
           0.27
          ],
          [
           0.13
          ],
          [
           2.356780737746714
          ],
          [
           0.27
          ],
          [
           0.13
          ],
          [
           0.232810092218339
          ],
          [
           0.002
          ],
          [
           0.046
          ],
          [
           0.188810092218339
          ],
          [
           0.13
          ],
          [
           2.6701983073183735
          ],
          [
           0.2964175695716599
          ],
          [
           0.002
          ],
          [
           0.10400000000000002
          ],
          [
           0.016
          ],
          [
           0.10400000000000002
          ],
          [
           0.016
          ],
          [
           2.3737807377467135
          ],
          [
           0.016
          ],
          [
           0.188810092218339
          ],
          [
           0.188810092218339
          ],
          [
           6.7557321210218015
          ],
          [
           0.016
          ],
          [
           0.002
          ],
          [
           0.428
          ],
          [
           0.13
          ],
          [
           0.27
          ],
          [
           0.27
          ],
          [
           0.338
          ],
          [
           0.06799999999999995
          ],
          [
           2.158130737746713
          ],
          [
           0.14
          ],
          [
           5.551115123125783e-17
          ],
          [
           0.188810092218339
          ],
          [
           0.002
          ],
          [
           0.188810092218339
          ],
          [
           0.016
          ],
          [
           0.188810092218339
          ],
          [
           0.188810092218339
          ],
          [
           0.188810092218339
          ],
          [
           0.188810092218339
          ],
          [
           0.188810092218339
          ],
          [
           0.188810092218339
          ],
          [
           0.188810092218339
          ],
          [
           0.188810092218339
          ],
          [
           0.188810092218339
          ],
          [
           0.188810092218339
          ],
          [
           0.194810092218339
          ],
          [
           0.188810092218339
          ],
          [
           0.188810092218339
          ],
          [
           0.188810092218339
          ],
          [
           0.188810092218339
          ],
          [
           25.954264330436022
          ],
          [
           0.19369130573295787
          ],
          [
           0.12999999999999995
          ],
          [
           0.2445681581685744
          ],
          [
           0.0019999999999999996
          ],
          [
           0.015999999999999997
          ],
          [
           2.282438970970215
          ],
          [
           17.710418715400472
          ]
         ],
         "domain": {
          "x": [
           0,
           1
          ],
          "y": [
           0,
           1
          ]
         },
         "hovertemplate": "Pathway or enzyme=%{label}<br>Flux=%{value}<br>Percentage=.%{percent entry}<extra></extra>",
         "ids": [
          "Cell/Isoleucine degradation/ACACT10m",
          "Cell/Boundary conditions - core/ACACt2",
          "Cell/FA metabolism/ACADLC14_MitoCore",
          "Cell/FA metabolism/ACADLC16_MitoCore",
          "Cell/TCA cycle/ACONTm",
          "Cell/TCA cycle/AKGDm",
          "Cell/Boundary conditions - core/BHBt",
          "Cell/Boundary conditions - core/Biomass_MitoCore",
          "Cell/Boundary conditions - core/CO2t",
          "Cell/TCA cycle/CSm",
          "Cell/FA metabolism/ECOAH1m",
          "Cell/Isoleucine degradation/ECOAH9m",
          "Cell/Glycolysis/gluconeogenesis/ENO",
          "Cell/Glycolysis/gluconeogenesis/FBA",
          "Cell/TCA cycle/FUMm",
          "Cell/Glycolysis/gluconeogenesis/GAPD",
          "Cell/Boundary conditions - core/GLCt1r",
          "Cell/FA metabolism/HACD1m",
          "Cell/Isoleucine degradation/HACD9m",
          "Cell/Boundary conditions - core/HCO3t_MitoCore",
          "Cell/Boundary conditions - core/HDCAtr",
          "Cell/Glycolysis/HEX1",
          "Cell/TCA cycle/ICDHxm",
          "Cell/TCA cycle/ICDHyrm",
          "Cell/Isoleucine degradation/ILETAm",
          "Cell/Glycolysis/gluconeogenesis/LDH_L",
          "Cell/Leucine degradation/LEUTAm",
          "Cell/Boundary conditions - core/L_LACt2r",
          "Cell/Leucine degradation/MCCCrm",
          "Cell/TCA cycle/MDHm",
          "Cell/Leucine degradation/MGCHrm",
          "Cell/FA metabolism/MTPC14_MitoCore",
          "Cell/FA metabolism/MTPC16_MitoCore",
          "Cell/Boundary conditions - core/O2t",
          "Cell/Leucine degradation/OIVD1m",
          "Cell/Isoleucine degradation/OIVD3m",
          "Cell/TCA cycle/PDHm",
          "Cell/Glycolysis/gluconeogenesis/PGI",
          "Cell/Glycolysis/gluconeogenesis/PGK",
          "Cell/Glycolysis/gluconeogenesis/PGM",
          "Cell/Glycolysis/gluconeogenesis/PYK",
          "Cell/TCA cycle/SUCOAS1m",
          "Cell/TCA cycle/SUCOASm",
          "Cell/Glycolysis/gluconeogenesis/TPI",
          "Cell/Glycolysis/r0122",
          "Cell/FA metabolism/r0287",
          "Cell/Isoleucine degradation/r0603",
          "Cell/FA metabolism/r0634",
          "Cell/Leucine degradation/r0655",
          "Cell/FA metabolism/r0660",
          "Cell/FA metabolism/r0722",
          "Cell/FA metabolism/r0724",
          "Cell/FA metabolism/r0726",
          "Cell/FA metabolism/r0728",
          "Cell/FA metabolism/r0730",
          "Cell/FA metabolism/r0731",
          "Cell/FA metabolism/r0732",
          "Cell/FA metabolism/r0733",
          "Cell/FA metabolism/r0734",
          "Cell/FA metabolism/r1446",
          "Cell/FA metabolism/r1447",
          "Cell/FA metabolism/r1448",
          "Cell/FA metabolism/r1450",
          "Cell/FA metabolism/r1451",
          "Cell/Boundary conditions - core",
          "Cell/FA metabolism",
          "Cell/Glycolysis",
          "Cell/Glycolysis/gluconeogenesis",
          "Cell/Isoleucine degradation",
          "Cell/Leucine degradation",
          "Cell/TCA cycle",
          "Cell"
         ],
         "labels": [
          "ACACT10m",
          "ACACt2",
          "ACADLC14_MitoCore",
          "ACADLC16_MitoCore",
          "ACONTm",
          "AKGDm",
          "BHBt",
          "Biomass_MitoCore",
          "CO2t",
          "CSm",
          "ECOAH1m",
          "ECOAH9m",
          "ENO",
          "FBA",
          "FUMm",
          "GAPD",
          "GLCt1r",
          "HACD1m",
          "HACD9m",
          "HCO3t_MitoCore",
          "HDCAtr",
          "HEX1",
          "ICDHxm",
          "ICDHyrm",
          "ILETAm",
          "LDH_L",
          "LEUTAm",
          "L_LACt2r",
          "MCCCrm",
          "MDHm",
          "MGCHrm",
          "MTPC14_MitoCore",
          "MTPC16_MitoCore",
          "O2t",
          "OIVD1m",
          "OIVD3m",
          "PDHm",
          "PGI",
          "PGK",
          "PGM",
          "PYK",
          "SUCOAS1m",
          "SUCOASm",
          "TPI",
          "r0122",
          "r0287",
          "r0603",
          "r0634",
          "r0655",
          "r0660",
          "r0722",
          "r0724",
          "r0726",
          "r0728",
          "r0730",
          "r0731",
          "r0732",
          "r0733",
          "r0734",
          "r1446",
          "r1447",
          "r1448",
          "r1450",
          "r1451",
          "Boundary conditions - core",
          "FA metabolism",
          "Glycolysis",
          "Glycolysis/gluconeogenesis",
          "Isoleucine degradation",
          "Leucine degradation",
          "TCA cycle",
          "Cell"
         ],
         "marker": {
          "coloraxis": "coloraxis",
          "colors": [
           0.002,
           0.04365000000000143,
           0.188810092218339,
           0.188810092218339,
           2.3737807377467135,
           2.326780737746714,
           0.048,
           33.60713069953224,
           5.534561475493428,
           2.3057807377467134,
           0.232810092218339,
           0.002,
           0.27,
           0.13,
           2.356780737746714,
           0.27,
           0.13,
           0.232810092218339,
           0.002,
           0.046,
           0.188810092218339,
           0.13,
           2.6701983073183735,
           0.2964175695716599,
           0.002,
           0.10400000000000002,
           0.016,
           0.10400000000000002,
           0.016,
           2.3737807377467135,
           0.016,
           0.188810092218339,
           0.188810092218339,
           6.7557321210218015,
           0.016,
           0.002,
           0.428,
           0.13,
           0.27,
           0.27,
           0.338,
           0.06799999999999995,
           2.158130737746713,
           0.14,
           5.551115123125783e-17,
           0.188810092218339,
           0.002,
           0.188810092218339,
           0.016,
           0.188810092218339,
           0.188810092218339,
           0.188810092218339,
           0.188810092218339,
           0.188810092218339,
           0.188810092218339,
           0.188810092218339,
           0.188810092218339,
           0.188810092218339,
           0.188810092218339,
           0.194810092218339,
           0.188810092218339,
           0.188810092218339,
           0.188810092218339,
           0.188810092218339,
           25.954264330436022,
           0.19369130573295787,
           0.12999999999999995,
           0.2445681581685744,
           0.0019999999999999996,
           0.015999999999999997,
           2.282438970970215,
           17.710418715400472
          ]
         },
         "name": "",
         "parents": [
          "Cell/Isoleucine degradation",
          "Cell/Boundary conditions - core",
          "Cell/FA metabolism",
          "Cell/FA metabolism",
          "Cell/TCA cycle",
          "Cell/TCA cycle",
          "Cell/Boundary conditions - core",
          "Cell/Boundary conditions - core",
          "Cell/Boundary conditions - core",
          "Cell/TCA cycle",
          "Cell/FA metabolism",
          "Cell/Isoleucine degradation",
          "Cell/Glycolysis/gluconeogenesis",
          "Cell/Glycolysis/gluconeogenesis",
          "Cell/TCA cycle",
          "Cell/Glycolysis/gluconeogenesis",
          "Cell/Boundary conditions - core",
          "Cell/FA metabolism",
          "Cell/Isoleucine degradation",
          "Cell/Boundary conditions - core",
          "Cell/Boundary conditions - core",
          "Cell/Glycolysis",
          "Cell/TCA cycle",
          "Cell/TCA cycle",
          "Cell/Isoleucine degradation",
          "Cell/Glycolysis/gluconeogenesis",
          "Cell/Leucine degradation",
          "Cell/Boundary conditions - core",
          "Cell/Leucine degradation",
          "Cell/TCA cycle",
          "Cell/Leucine degradation",
          "Cell/FA metabolism",
          "Cell/FA metabolism",
          "Cell/Boundary conditions - core",
          "Cell/Leucine degradation",
          "Cell/Isoleucine degradation",
          "Cell/TCA cycle",
          "Cell/Glycolysis/gluconeogenesis",
          "Cell/Glycolysis/gluconeogenesis",
          "Cell/Glycolysis/gluconeogenesis",
          "Cell/Glycolysis/gluconeogenesis",
          "Cell/TCA cycle",
          "Cell/TCA cycle",
          "Cell/Glycolysis/gluconeogenesis",
          "Cell/Glycolysis",
          "Cell/FA metabolism",
          "Cell/Isoleucine degradation",
          "Cell/FA metabolism",
          "Cell/Leucine degradation",
          "Cell/FA metabolism",
          "Cell/FA metabolism",
          "Cell/FA metabolism",
          "Cell/FA metabolism",
          "Cell/FA metabolism",
          "Cell/FA metabolism",
          "Cell/FA metabolism",
          "Cell/FA metabolism",
          "Cell/FA metabolism",
          "Cell/FA metabolism",
          "Cell/FA metabolism",
          "Cell/FA metabolism",
          "Cell/FA metabolism",
          "Cell/FA metabolism",
          "Cell/FA metabolism",
          "Cell",
          "Cell",
          "Cell",
          "Cell",
          "Cell",
          "Cell",
          "Cell",
          ""
         ],
         "textinfo": "label+value",
         "textposition": "middle center",
         "type": "treemap",
         "values": [
          0.002,
          0.04365000000000143,
          0.188810092218339,
          0.188810092218339,
          2.3737807377467135,
          2.326780737746714,
          0.048,
          33.60713069953224,
          5.534561475493428,
          2.3057807377467134,
          0.232810092218339,
          0.002,
          0.27,
          0.13,
          2.356780737746714,
          0.27,
          0.13,
          0.232810092218339,
          0.002,
          0.046,
          0.188810092218339,
          0.13,
          2.6701983073183735,
          0.2964175695716599,
          0.002,
          0.10400000000000001,
          0.016,
          0.10400000000000001,
          0.016,
          2.3737807377467135,
          0.016,
          0.188810092218339,
          0.188810092218339,
          6.755732121021801,
          0.016,
          0.002,
          0.42799999999999994,
          0.13,
          0.27,
          0.27,
          0.338,
          0.06799999999999995,
          2.158130737746713,
          0.14,
          5.551115123125783e-17,
          0.188810092218339,
          0.002,
          0.188810092218339,
          0.016,
          0.188810092218339,
          0.188810092218339,
          0.188810092218339,
          0.188810092218339,
          0.188810092218339,
          0.188810092218339,
          0.188810092218339,
          0.188810092218339,
          0.188810092218339,
          0.188810092218339,
          0.194810092218339,
          0.188810092218339,
          0.188810092218339,
          0.188810092218339,
          0.188810092218339,
          46.45788438826581,
          4.436632121021797,
          0.13000000000000006,
          1.9220000000000002,
          0.012,
          0.08,
          17.357650303370313,
          70.39616681265792
         ]
        }
       ],
       "layout": {
        "coloraxis": {
         "colorbar": {
          "title": {
           "text": "fluxes"
          }
         },
         "colorscale": [
          [
           0,
           "rgb(5,48,97)"
          ],
          [
           0.1,
           "rgb(33,102,172)"
          ],
          [
           0.2,
           "rgb(67,147,195)"
          ],
          [
           0.3,
           "rgb(146,197,222)"
          ],
          [
           0.4,
           "rgb(209,229,240)"
          ],
          [
           0.5,
           "rgb(247,247,247)"
          ],
          [
           0.6,
           "rgb(253,219,199)"
          ],
          [
           0.7,
           "rgb(244,165,130)"
          ],
          [
           0.8,
           "rgb(214,96,77)"
          ],
          [
           0.9,
           "rgb(178,24,43)"
          ],
          [
           1,
           "rgb(103,0,31)"
          ]
         ]
        },
        "font": {
         "color": "white"
        },
        "height": 900,
        "legend": {
         "tracegroupgap": 0
        },
        "margin": {
         "t": 60
        },
        "paper_bgcolor": "#2e2d2d",
        "plot_bgcolor": "rgba(0, 0, 0, 100)",
        "template": {
         "data": {
          "bar": [
           {
            "error_x": {
             "color": "#2a3f5f"
            },
            "error_y": {
             "color": "#2a3f5f"
            },
            "marker": {
             "line": {
              "color": "#E5ECF6",
              "width": 0.5
             },
             "pattern": {
              "fillmode": "overlay",
              "size": 10,
              "solidity": 0.2
             }
            },
            "type": "bar"
           }
          ],
          "barpolar": [
           {
            "marker": {
             "line": {
              "color": "#E5ECF6",
              "width": 0.5
             },
             "pattern": {
              "fillmode": "overlay",
              "size": 10,
              "solidity": 0.2
             }
            },
            "type": "barpolar"
           }
          ],
          "carpet": [
           {
            "aaxis": {
             "endlinecolor": "#2a3f5f",
             "gridcolor": "white",
             "linecolor": "white",
             "minorgridcolor": "white",
             "startlinecolor": "#2a3f5f"
            },
            "baxis": {
             "endlinecolor": "#2a3f5f",
             "gridcolor": "white",
             "linecolor": "white",
             "minorgridcolor": "white",
             "startlinecolor": "#2a3f5f"
            },
            "type": "carpet"
           }
          ],
          "choropleth": [
           {
            "colorbar": {
             "outlinewidth": 0,
             "ticks": ""
            },
            "type": "choropleth"
           }
          ],
          "contour": [
           {
            "colorbar": {
             "outlinewidth": 0,
             "ticks": ""
            },
            "colorscale": [
             [
              0,
              "#0d0887"
             ],
             [
              0.1111111111111111,
              "#46039f"
             ],
             [
              0.2222222222222222,
              "#7201a8"
             ],
             [
              0.3333333333333333,
              "#9c179e"
             ],
             [
              0.4444444444444444,
              "#bd3786"
             ],
             [
              0.5555555555555556,
              "#d8576b"
             ],
             [
              0.6666666666666666,
              "#ed7953"
             ],
             [
              0.7777777777777778,
              "#fb9f3a"
             ],
             [
              0.8888888888888888,
              "#fdca26"
             ],
             [
              1,
              "#f0f921"
             ]
            ],
            "type": "contour"
           }
          ],
          "contourcarpet": [
           {
            "colorbar": {
             "outlinewidth": 0,
             "ticks": ""
            },
            "type": "contourcarpet"
           }
          ],
          "heatmap": [
           {
            "colorbar": {
             "outlinewidth": 0,
             "ticks": ""
            },
            "colorscale": [
             [
              0,
              "#0d0887"
             ],
             [
              0.1111111111111111,
              "#46039f"
             ],
             [
              0.2222222222222222,
              "#7201a8"
             ],
             [
              0.3333333333333333,
              "#9c179e"
             ],
             [
              0.4444444444444444,
              "#bd3786"
             ],
             [
              0.5555555555555556,
              "#d8576b"
             ],
             [
              0.6666666666666666,
              "#ed7953"
             ],
             [
              0.7777777777777778,
              "#fb9f3a"
             ],
             [
              0.8888888888888888,
              "#fdca26"
             ],
             [
              1,
              "#f0f921"
             ]
            ],
            "type": "heatmap"
           }
          ],
          "heatmapgl": [
           {
            "colorbar": {
             "outlinewidth": 0,
             "ticks": ""
            },
            "colorscale": [
             [
              0,
              "#0d0887"
             ],
             [
              0.1111111111111111,
              "#46039f"
             ],
             [
              0.2222222222222222,
              "#7201a8"
             ],
             [
              0.3333333333333333,
              "#9c179e"
             ],
             [
              0.4444444444444444,
              "#bd3786"
             ],
             [
              0.5555555555555556,
              "#d8576b"
             ],
             [
              0.6666666666666666,
              "#ed7953"
             ],
             [
              0.7777777777777778,
              "#fb9f3a"
             ],
             [
              0.8888888888888888,
              "#fdca26"
             ],
             [
              1,
              "#f0f921"
             ]
            ],
            "type": "heatmapgl"
           }
          ],
          "histogram": [
           {
            "marker": {
             "pattern": {
              "fillmode": "overlay",
              "size": 10,
              "solidity": 0.2
             }
            },
            "type": "histogram"
           }
          ],
          "histogram2d": [
           {
            "colorbar": {
             "outlinewidth": 0,
             "ticks": ""
            },
            "colorscale": [
             [
              0,
              "#0d0887"
             ],
             [
              0.1111111111111111,
              "#46039f"
             ],
             [
              0.2222222222222222,
              "#7201a8"
             ],
             [
              0.3333333333333333,
              "#9c179e"
             ],
             [
              0.4444444444444444,
              "#bd3786"
             ],
             [
              0.5555555555555556,
              "#d8576b"
             ],
             [
              0.6666666666666666,
              "#ed7953"
             ],
             [
              0.7777777777777778,
              "#fb9f3a"
             ],
             [
              0.8888888888888888,
              "#fdca26"
             ],
             [
              1,
              "#f0f921"
             ]
            ],
            "type": "histogram2d"
           }
          ],
          "histogram2dcontour": [
           {
            "colorbar": {
             "outlinewidth": 0,
             "ticks": ""
            },
            "colorscale": [
             [
              0,
              "#0d0887"
             ],
             [
              0.1111111111111111,
              "#46039f"
             ],
             [
              0.2222222222222222,
              "#7201a8"
             ],
             [
              0.3333333333333333,
              "#9c179e"
             ],
             [
              0.4444444444444444,
              "#bd3786"
             ],
             [
              0.5555555555555556,
              "#d8576b"
             ],
             [
              0.6666666666666666,
              "#ed7953"
             ],
             [
              0.7777777777777778,
              "#fb9f3a"
             ],
             [
              0.8888888888888888,
              "#fdca26"
             ],
             [
              1,
              "#f0f921"
             ]
            ],
            "type": "histogram2dcontour"
           }
          ],
          "mesh3d": [
           {
            "colorbar": {
             "outlinewidth": 0,
             "ticks": ""
            },
            "type": "mesh3d"
           }
          ],
          "parcoords": [
           {
            "line": {
             "colorbar": {
              "outlinewidth": 0,
              "ticks": ""
             }
            },
            "type": "parcoords"
           }
          ],
          "pie": [
           {
            "automargin": true,
            "type": "pie"
           }
          ],
          "scatter": [
           {
            "fillpattern": {
             "fillmode": "overlay",
             "size": 10,
             "solidity": 0.2
            },
            "type": "scatter"
           }
          ],
          "scatter3d": [
           {
            "line": {
             "colorbar": {
              "outlinewidth": 0,
              "ticks": ""
             }
            },
            "marker": {
             "colorbar": {
              "outlinewidth": 0,
              "ticks": ""
             }
            },
            "type": "scatter3d"
           }
          ],
          "scattercarpet": [
           {
            "marker": {
             "colorbar": {
              "outlinewidth": 0,
              "ticks": ""
             }
            },
            "type": "scattercarpet"
           }
          ],
          "scattergeo": [
           {
            "marker": {
             "colorbar": {
              "outlinewidth": 0,
              "ticks": ""
             }
            },
            "type": "scattergeo"
           }
          ],
          "scattergl": [
           {
            "marker": {
             "colorbar": {
              "outlinewidth": 0,
              "ticks": ""
             }
            },
            "type": "scattergl"
           }
          ],
          "scattermapbox": [
           {
            "marker": {
             "colorbar": {
              "outlinewidth": 0,
              "ticks": ""
             }
            },
            "type": "scattermapbox"
           }
          ],
          "scatterpolar": [
           {
            "marker": {
             "colorbar": {
              "outlinewidth": 0,
              "ticks": ""
             }
            },
            "type": "scatterpolar"
           }
          ],
          "scatterpolargl": [
           {
            "marker": {
             "colorbar": {
              "outlinewidth": 0,
              "ticks": ""
             }
            },
            "type": "scatterpolargl"
           }
          ],
          "scatterternary": [
           {
            "marker": {
             "colorbar": {
              "outlinewidth": 0,
              "ticks": ""
             }
            },
            "type": "scatterternary"
           }
          ],
          "surface": [
           {
            "colorbar": {
             "outlinewidth": 0,
             "ticks": ""
            },
            "colorscale": [
             [
              0,
              "#0d0887"
             ],
             [
              0.1111111111111111,
              "#46039f"
             ],
             [
              0.2222222222222222,
              "#7201a8"
             ],
             [
              0.3333333333333333,
              "#9c179e"
             ],
             [
              0.4444444444444444,
              "#bd3786"
             ],
             [
              0.5555555555555556,
              "#d8576b"
             ],
             [
              0.6666666666666666,
              "#ed7953"
             ],
             [
              0.7777777777777778,
              "#fb9f3a"
             ],
             [
              0.8888888888888888,
              "#fdca26"
             ],
             [
              1,
              "#f0f921"
             ]
            ],
            "type": "surface"
           }
          ],
          "table": [
           {
            "cells": {
             "fill": {
              "color": "#EBF0F8"
             },
             "line": {
              "color": "white"
             }
            },
            "header": {
             "fill": {
              "color": "#C8D4E3"
             },
             "line": {
              "color": "white"
             }
            },
            "type": "table"
           }
          ]
         },
         "layout": {
          "annotationdefaults": {
           "arrowcolor": "#2a3f5f",
           "arrowhead": 0,
           "arrowwidth": 1
          },
          "autotypenumbers": "strict",
          "coloraxis": {
           "colorbar": {
            "outlinewidth": 0,
            "ticks": ""
           }
          },
          "colorscale": {
           "diverging": [
            [
             0,
             "#8e0152"
            ],
            [
             0.1,
             "#c51b7d"
            ],
            [
             0.2,
             "#de77ae"
            ],
            [
             0.3,
             "#f1b6da"
            ],
            [
             0.4,
             "#fde0ef"
            ],
            [
             0.5,
             "#f7f7f7"
            ],
            [
             0.6,
             "#e6f5d0"
            ],
            [
             0.7,
             "#b8e186"
            ],
            [
             0.8,
             "#7fbc41"
            ],
            [
             0.9,
             "#4d9221"
            ],
            [
             1,
             "#276419"
            ]
           ],
           "sequential": [
            [
             0,
             "#0d0887"
            ],
            [
             0.1111111111111111,
             "#46039f"
            ],
            [
             0.2222222222222222,
             "#7201a8"
            ],
            [
             0.3333333333333333,
             "#9c179e"
            ],
            [
             0.4444444444444444,
             "#bd3786"
            ],
            [
             0.5555555555555556,
             "#d8576b"
            ],
            [
             0.6666666666666666,
             "#ed7953"
            ],
            [
             0.7777777777777778,
             "#fb9f3a"
            ],
            [
             0.8888888888888888,
             "#fdca26"
            ],
            [
             1,
             "#f0f921"
            ]
           ],
           "sequentialminus": [
            [
             0,
             "#0d0887"
            ],
            [
             0.1111111111111111,
             "#46039f"
            ],
            [
             0.2222222222222222,
             "#7201a8"
            ],
            [
             0.3333333333333333,
             "#9c179e"
            ],
            [
             0.4444444444444444,
             "#bd3786"
            ],
            [
             0.5555555555555556,
             "#d8576b"
            ],
            [
             0.6666666666666666,
             "#ed7953"
            ],
            [
             0.7777777777777778,
             "#fb9f3a"
            ],
            [
             0.8888888888888888,
             "#fdca26"
            ],
            [
             1,
             "#f0f921"
            ]
           ]
          },
          "colorway": [
           "#636efa",
           "#EF553B",
           "#00cc96",
           "#ab63fa",
           "#FFA15A",
           "#19d3f3",
           "#FF6692",
           "#B6E880",
           "#FF97FF",
           "#FECB52"
          ],
          "font": {
           "color": "#2a3f5f"
          },
          "geo": {
           "bgcolor": "white",
           "lakecolor": "white",
           "landcolor": "#E5ECF6",
           "showlakes": true,
           "showland": true,
           "subunitcolor": "white"
          },
          "hoverlabel": {
           "align": "left"
          },
          "hovermode": "closest",
          "mapbox": {
           "style": "light"
          },
          "paper_bgcolor": "white",
          "plot_bgcolor": "#E5ECF6",
          "polar": {
           "angularaxis": {
            "gridcolor": "white",
            "linecolor": "white",
            "ticks": ""
           },
           "bgcolor": "#E5ECF6",
           "radialaxis": {
            "gridcolor": "white",
            "linecolor": "white",
            "ticks": ""
           }
          },
          "scene": {
           "xaxis": {
            "backgroundcolor": "#E5ECF6",
            "gridcolor": "white",
            "gridwidth": 2,
            "linecolor": "white",
            "showbackground": true,
            "ticks": "",
            "zerolinecolor": "white"
           },
           "yaxis": {
            "backgroundcolor": "#E5ECF6",
            "gridcolor": "white",
            "gridwidth": 2,
            "linecolor": "white",
            "showbackground": true,
            "ticks": "",
            "zerolinecolor": "white"
           },
           "zaxis": {
            "backgroundcolor": "#E5ECF6",
            "gridcolor": "white",
            "gridwidth": 2,
            "linecolor": "white",
            "showbackground": true,
            "ticks": "",
            "zerolinecolor": "white"
           }
          },
          "shapedefaults": {
           "line": {
            "color": "#2a3f5f"
           }
          },
          "ternary": {
           "aaxis": {
            "gridcolor": "white",
            "linecolor": "white",
            "ticks": ""
           },
           "baxis": {
            "gridcolor": "white",
            "linecolor": "white",
            "ticks": ""
           },
           "bgcolor": "#E5ECF6",
           "caxis": {
            "gridcolor": "white",
            "linecolor": "white",
            "ticks": ""
           }
          },
          "title": {
           "x": 0.05
          },
          "xaxis": {
           "automargin": true,
           "gridcolor": "white",
           "linecolor": "white",
           "ticks": "",
           "title": {
            "standoff": 15
           },
           "zerolinecolor": "white",
           "zerolinewidth": 2
          },
          "yaxis": {
           "automargin": true,
           "gridcolor": "white",
           "linecolor": "white",
           "ticks": "",
           "title": {
            "standoff": 15
           },
           "zerolinecolor": "white",
           "zerolinewidth": 2
          }
         }
        },
        "title": {
         "text": "Treemaps of metabolic pathways for calpain 65% physical intensity",
         "x": 0.5,
         "y": 0.97
        },
        "width": 1000
       }
      }
     },
     "metadata": {},
     "output_type": "display_data"
    }
   ],
   "source": [
    "mal.display_treemap(dt65, 'wt 65')\n",
    "mal.display_treemap(dt65_calpain, 'calpain 65')"
   ]
  },
  {
   "attachments": {},
   "cell_type": "markdown",
   "id": "736ff9aa",
   "metadata": {},
   "source": [
    "## 85% d'intensité"
   ]
  },
  {
   "cell_type": "code",
   "execution_count": 156,
   "id": "b9dbf548",
   "metadata": {},
   "outputs": [],
   "source": [
    "df_pathways_comparison_85 = pd.DataFrame(columns=['CAPN3+', 'CAPN3-KO'])\n",
    "df_pathways_comparison_85['CAPN3+'] = df_metabolic_pathways['85%']\n",
    "df_pathways_comparison_85['CAPN3-KO'] = df_metabolic_pathways_calpain['85%']"
   ]
  },
  {
   "cell_type": "code",
   "execution_count": 157,
   "id": "56080acd",
   "metadata": {},
   "outputs": [
    {
     "data": {
      "image/png": "[encoded data removed]",
      "text/plain": [
       "<Figure size 250x500 with 1 Axes>"
      ]
     },
     "metadata": {},
     "output_type": "display_data"
    },
    {
     "data": {
      "text/plain": [
       "<module 'matplotlib.pyplot' from '/home/csiharath/.conda/envs/mitoenv/lib/python3.8/site-packages/matplotlib/pyplot.py'>"
      ]
     },
     "execution_count": 157,
     "metadata": {},
     "output_type": "execute_result"
    }
   ],
   "source": [
    "mal.barplot_pathways(df_pathways_comparison_85, \"plot_comparaison_wt_vs_calpain_85.png\", keys=['glycolysis', 'beta oxidation', 'Ketone bodies', 'Leucine degradation', 'Isoleucine degradation'], prop=True, figsize=(2.5,5))"
   ]
  },
  {
   "cell_type": "code",
   "execution_count": 158,
   "id": "83485bf8",
   "metadata": {},
   "outputs": [
    {
     "data": {
      "image/png": "[encoded data removed]",
      "text/plain": [
       "<Figure size 250x500 with 1 Axes>"
      ]
     },
     "metadata": {},
     "output_type": "display_data"
    },
    {
     "data": {
      "text/plain": [
       "<module 'matplotlib.pyplot' from '/home/csiharath/.conda/envs/mitoenv/lib/python3.8/site-packages/matplotlib/pyplot.py'>"
      ]
     },
     "execution_count": 158,
     "metadata": {},
     "output_type": "execute_result"
    }
   ],
   "source": [
    "proportion_wt_calpain_25 = mal.build_df_proportion(df_pathways_comparison_25)\n",
    "mal.barplot_pathways(proportion_wt_calpain_25, \"plot_proportion_wt_calpain_85.png\", keys=['glycolysis', 'beta oxidation', 'Ketone bodies', 'Leucine degradation', 'Isoleucine degradation'], prop=True, figsize=(2.5,5))"
   ]
  },
  {
   "cell_type": "code",
   "execution_count": 159,
   "id": "72346560",
   "metadata": {},
   "outputs": [
    {
     "data": {
      "application/vnd.plotly.v1+json": {
       "config": {
        "plotlyServerURL": "https://plot.ly"
       },
       "data": [
        {
         "branchvalues": "total",
         "customdata": [
          [
           0.004
          ],
          [
           0.3
          ],
          [
           1.1329128965863444
          ],
          [
           3.7688333333333337
          ],
          [
           3.7898333333333336
          ],
          [
           54.8
          ],
          [
           9.1505
          ],
          [
           3.7688333333333337
          ],
          [
           0.32999999999999996
          ],
          [
           0.004
          ],
          [
           1.21
          ],
          [
           0.6
          ],
          [
           3.8048333333333337
          ],
          [
           1.21
          ],
          [
           0.6
          ],
          [
           0.32999999999999996
          ],
          [
           0.004
          ],
          [
           0.015
          ],
          [
           0.3
          ],
          [
           0.6
          ],
          [
           3.1975873493975873
          ],
          [
           0.571245983935746
          ],
          [
           0.004
          ],
          [
           0.14116666666666644
          ],
          [
           3.885780586188048e-16
          ],
          [
           0.14116666666666644
          ],
          [
           3.7688333333333337
          ],
          [
           0.3
          ],
          [
           0.3
          ],
          [
           11.1
          ],
          [
           3.885780586188048e-16
          ],
          [
           0.004
          ],
          [
           1.3048333333333335
          ],
          [
           0.6
          ],
          [
           0.6
          ],
          [
           1.21
          ],
          [
           1.21
          ],
          [
           1.21
          ],
          [
           3.8048333333333337
          ],
          [
           0.61
          ],
          [
           0.164
          ],
          [
           0.3
          ],
          [
           0.004
          ],
          [
           0.3
          ],
          [
           0.3
          ],
          [
           0.3
          ],
          [
           0.3
          ],
          [
           0.3
          ],
          [
           0.3
          ],
          [
           0.3
          ],
          [
           0.3
          ],
          [
           0.3
          ],
          [
           0.3
          ],
          [
           0.3
          ],
          [
           0.3
          ],
          [
           0.3
          ],
          [
           0.3
          ],
          [
           0.3
          ],
          [
           0.3
          ],
          [
           42.18358185806471
          ],
          [
           0.42362742597800346
          ],
          [
           0.5475777126099707
          ],
          [
           1.0539123079273163
          ],
          [
           0.003999999999999999
          ],
          [
           3.885780586188048e-16
          ],
          [
           3.534316743384298
          ],
          [
           27.43171960798112
          ]
         ],
         "domain": {
          "x": [
           0,
           1
          ],
          "y": [
           0,
           1
          ]
         },
         "hovertemplate": "Pathway or enzyme=%{label}<br>Flux=%{value}<br>Percentage=.%{percent entry}<extra></extra>",
         "ids": [
          "Cell/Isoleucine degradation/ACACT10m",
          "Cell/FA metabolism/ACADLC14_MitoCore",
          "Cell/FA metabolism/ACADLC16_MitoCore",
          "Cell/TCA cycle/ACONTm",
          "Cell/TCA cycle/AKGDm",
          "Cell/Boundary conditions - core/Biomass_MitoCore",
          "Cell/Boundary conditions - core/CO2t",
          "Cell/TCA cycle/CSm",
          "Cell/FA metabolism/ECOAH1m",
          "Cell/Isoleucine degradation/ECOAH9m",
          "Cell/Glycolysis/gluconeogenesis/ENO",
          "Cell/Glycolysis/gluconeogenesis/FBA",
          "Cell/TCA cycle/FUMm",
          "Cell/Glycolysis/gluconeogenesis/GAPD",
          "Cell/Boundary conditions - core/GLCt1r",
          "Cell/FA metabolism/HACD1m",
          "Cell/Isoleucine degradation/HACD9m",
          "Cell/Boundary conditions - core/HCO3t_MitoCore",
          "Cell/Boundary conditions - core/HDCAtr",
          "Cell/Glycolysis/HEX1",
          "Cell/TCA cycle/ICDHxm",
          "Cell/TCA cycle/ICDHyrm",
          "Cell/Isoleucine degradation/ILETAm",
          "Cell/Glycolysis/gluconeogenesis/LDH_L",
          "Cell/Leucine degradation/LEUTAm",
          "Cell/Boundary conditions - core/L_LACt2r",
          "Cell/TCA cycle/MDHm",
          "Cell/FA metabolism/MTPC14_MitoCore",
          "Cell/FA metabolism/MTPC16_MitoCore",
          "Cell/Boundary conditions - core/O2t",
          "Cell/Leucine degradation/OIVD1m",
          "Cell/Isoleucine degradation/OIVD3m",
          "Cell/TCA cycle/PDHm",
          "Cell/Glycolysis/PFK",
          "Cell/Glycolysis/gluconeogenesis/PGI",
          "Cell/Glycolysis/gluconeogenesis/PGK",
          "Cell/Glycolysis/gluconeogenesis/PGM",
          "Cell/Glycolysis/gluconeogenesis/PYK",
          "Cell/TCA cycle/SUCOASm",
          "Cell/Glycolysis/gluconeogenesis/TPI",
          "Cell/Glycolysis/r0122",
          "Cell/FA metabolism/r0287",
          "Cell/Isoleucine degradation/r0603",
          "Cell/FA metabolism/r0634",
          "Cell/FA metabolism/r0660",
          "Cell/FA metabolism/r0722",
          "Cell/FA metabolism/r0724",
          "Cell/FA metabolism/r0726",
          "Cell/FA metabolism/r0728",
          "Cell/FA metabolism/r0730",
          "Cell/FA metabolism/r0731",
          "Cell/FA metabolism/r0732",
          "Cell/FA metabolism/r0733",
          "Cell/FA metabolism/r0734",
          "Cell/FA metabolism/r1446",
          "Cell/FA metabolism/r1447",
          "Cell/FA metabolism/r1448",
          "Cell/FA metabolism/r1450",
          "Cell/FA metabolism/r1451",
          "Cell/Boundary conditions - core",
          "Cell/FA metabolism",
          "Cell/Glycolysis",
          "Cell/Glycolysis/gluconeogenesis",
          "Cell/Isoleucine degradation",
          "Cell/Leucine degradation",
          "Cell/TCA cycle",
          "Cell"
         ],
         "labels": [
          "ACACT10m",
          "ACADLC14_MitoCore",
          "ACADLC16_MitoCore",
          "ACONTm",
          "AKGDm",
          "Biomass_MitoCore",
          "CO2t",
          "CSm",
          "ECOAH1m",
          "ECOAH9m",
          "ENO",
          "FBA",
          "FUMm",
          "GAPD",
          "GLCt1r",
          "HACD1m",
          "HACD9m",
          "HCO3t_MitoCore",
          "HDCAtr",
          "HEX1",
          "ICDHxm",
          "ICDHyrm",
          "ILETAm",
          "LDH_L",
          "LEUTAm",
          "L_LACt2r",
          "MDHm",
          "MTPC14_MitoCore",
          "MTPC16_MitoCore",
          "O2t",
          "OIVD1m",
          "OIVD3m",
          "PDHm",
          "PFK",
          "PGI",
          "PGK",
          "PGM",
          "PYK",
          "SUCOASm",
          "TPI",
          "r0122",
          "r0287",
          "r0603",
          "r0634",
          "r0660",
          "r0722",
          "r0724",
          "r0726",
          "r0728",
          "r0730",
          "r0731",
          "r0732",
          "r0733",
          "r0734",
          "r1446",
          "r1447",
          "r1448",
          "r1450",
          "r1451",
          "Boundary conditions - core",
          "FA metabolism",
          "Glycolysis",
          "Glycolysis/gluconeogenesis",
          "Isoleucine degradation",
          "Leucine degradation",
          "TCA cycle",
          "Cell"
         ],
         "marker": {
          "coloraxis": "coloraxis",
          "colors": [
           0.004,
           0.3,
           1.1329128965863444,
           3.7688333333333337,
           3.7898333333333336,
           54.8,
           9.1505,
           3.7688333333333337,
           0.32999999999999996,
           0.004,
           1.21,
           0.6,
           3.8048333333333337,
           1.21,
           0.6,
           0.32999999999999996,
           0.004,
           0.015,
           0.3,
           0.6,
           3.1975873493975873,
           0.571245983935746,
           0.004,
           0.14116666666666644,
           3.885780586188048e-16,
           0.14116666666666644,
           3.7688333333333337,
           0.3,
           0.3,
           11.1,
           3.885780586188048e-16,
           0.004,
           1.3048333333333335,
           0.6,
           0.6,
           1.21,
           1.21,
           1.21,
           3.8048333333333337,
           0.61,
           0.164,
           0.3,
           0.004,
           0.3,
           0.3,
           0.3,
           0.3,
           0.3,
           0.3,
           0.3,
           0.3,
           0.3,
           0.3,
           0.3,
           0.3,
           0.3,
           0.3,
           0.3,
           0.3,
           42.18358185806471,
           0.42362742597800346,
           0.5475777126099707,
           1.0539123079273163,
           0.003999999999999999,
           3.885780586188048e-16,
           3.534316743384298,
           27.43171960798112
          ]
         },
         "name": "",
         "parents": [
          "Cell/Isoleucine degradation",
          "Cell/FA metabolism",
          "Cell/FA metabolism",
          "Cell/TCA cycle",
          "Cell/TCA cycle",
          "Cell/Boundary conditions - core",
          "Cell/Boundary conditions - core",
          "Cell/TCA cycle",
          "Cell/FA metabolism",
          "Cell/Isoleucine degradation",
          "Cell/Glycolysis/gluconeogenesis",
          "Cell/Glycolysis/gluconeogenesis",
          "Cell/TCA cycle",
          "Cell/Glycolysis/gluconeogenesis",
          "Cell/Boundary conditions - core",
          "Cell/FA metabolism",
          "Cell/Isoleucine degradation",
          "Cell/Boundary conditions - core",
          "Cell/Boundary conditions - core",
          "Cell/Glycolysis",
          "Cell/TCA cycle",
          "Cell/TCA cycle",
          "Cell/Isoleucine degradation",
          "Cell/Glycolysis/gluconeogenesis",
          "Cell/Leucine degradation",
          "Cell/Boundary conditions - core",
          "Cell/TCA cycle",
          "Cell/FA metabolism",
          "Cell/FA metabolism",
          "Cell/Boundary conditions - core",
          "Cell/Leucine degradation",
          "Cell/Isoleucine degradation",
          "Cell/TCA cycle",
          "Cell/Glycolysis",
          "Cell/Glycolysis/gluconeogenesis",
          "Cell/Glycolysis/gluconeogenesis",
          "Cell/Glycolysis/gluconeogenesis",
          "Cell/Glycolysis/gluconeogenesis",
          "Cell/TCA cycle",
          "Cell/Glycolysis/gluconeogenesis",
          "Cell/Glycolysis",
          "Cell/FA metabolism",
          "Cell/Isoleucine degradation",
          "Cell/FA metabolism",
          "Cell/FA metabolism",
          "Cell/FA metabolism",
          "Cell/FA metabolism",
          "Cell/FA metabolism",
          "Cell/FA metabolism",
          "Cell/FA metabolism",
          "Cell/FA metabolism",
          "Cell/FA metabolism",
          "Cell/FA metabolism",
          "Cell/FA metabolism",
          "Cell/FA metabolism",
          "Cell/FA metabolism",
          "Cell/FA metabolism",
          "Cell/FA metabolism",
          "Cell/FA metabolism",
          "Cell",
          "Cell",
          "Cell",
          "Cell",
          "Cell",
          "Cell",
          "Cell",
          ""
         ],
         "textinfo": "label+value",
         "textposition": "middle center",
         "type": "treemap",
         "values": [
          0.004,
          0.3,
          1.1329128965863444,
          3.7688333333333337,
          3.7898333333333336,
          54.8,
          9.1505,
          3.7688333333333337,
          0.32999999999999996,
          0.004,
          1.21,
          0.6,
          3.8048333333333337,
          1.21,
          0.6,
          0.32999999999999996,
          0.004,
          0.015,
          0.3,
          0.6,
          3.1975873493975877,
          0.571245983935746,
          0.004,
          0.14116666666666644,
          3.885780586188048e-16,
          0.14116666666666644,
          3.7688333333333337,
          0.3,
          0.3,
          11.1,
          3.885780586188048e-16,
          0.004,
          1.3048333333333335,
          0.6,
          0.6,
          1.21,
          1.21,
          1.21,
          3.8048333333333337,
          0.61,
          0.164,
          0.3,
          0.004,
          0.3,
          0.3,
          0.3,
          0.3,
          0.3,
          0.3,
          0.3,
          0.3,
          0.3,
          0.3,
          0.3,
          0.3,
          0.3,
          0.3,
          0.3,
          0.3,
          76.10666666666667,
          7.792912896586344,
          1.3639999999999999,
          8.001166666666666,
          0.024,
          7.771561172376096e-16,
          27.77966666666667,
          121.06841289658635
         ]
        }
       ],
       "layout": {
        "coloraxis": {
         "colorbar": {
          "title": {
           "text": "fluxes"
          }
         },
         "colorscale": [
          [
           0,
           "rgb(5,48,97)"
          ],
          [
           0.1,
           "rgb(33,102,172)"
          ],
          [
           0.2,
           "rgb(67,147,195)"
          ],
          [
           0.3,
           "rgb(146,197,222)"
          ],
          [
           0.4,
           "rgb(209,229,240)"
          ],
          [
           0.5,
           "rgb(247,247,247)"
          ],
          [
           0.6,
           "rgb(253,219,199)"
          ],
          [
           0.7,
           "rgb(244,165,130)"
          ],
          [
           0.8,
           "rgb(214,96,77)"
          ],
          [
           0.9,
           "rgb(178,24,43)"
          ],
          [
           1,
           "rgb(103,0,31)"
          ]
         ]
        },
        "font": {
         "color": "white"
        },
        "height": 900,
        "legend": {
         "tracegroupgap": 0
        },
        "margin": {
         "t": 60
        },
        "paper_bgcolor": "#2e2d2d",
        "plot_bgcolor": "rgba(0, 0, 0, 100)",
        "template": {
         "data": {
          "bar": [
           {
            "error_x": {
             "color": "#2a3f5f"
            },
            "error_y": {
             "color": "#2a3f5f"
            },
            "marker": {
             "line": {
              "color": "#E5ECF6",
              "width": 0.5
             },
             "pattern": {
              "fillmode": "overlay",
              "size": 10,
              "solidity": 0.2
             }
            },
            "type": "bar"
           }
          ],
          "barpolar": [
           {
            "marker": {
             "line": {
              "color": "#E5ECF6",
              "width": 0.5
             },
             "pattern": {
              "fillmode": "overlay",
              "size": 10,
              "solidity": 0.2
             }
            },
            "type": "barpolar"
           }
          ],
          "carpet": [
           {
            "aaxis": {
             "endlinecolor": "#2a3f5f",
             "gridcolor": "white",
             "linecolor": "white",
             "minorgridcolor": "white",
             "startlinecolor": "#2a3f5f"
            },
            "baxis": {
             "endlinecolor": "#2a3f5f",
             "gridcolor": "white",
             "linecolor": "white",
             "minorgridcolor": "white",
             "startlinecolor": "#2a3f5f"
            },
            "type": "carpet"
           }
          ],
          "choropleth": [
           {
            "colorbar": {
             "outlinewidth": 0,
             "ticks": ""
            },
            "type": "choropleth"
           }
          ],
          "contour": [
           {
            "colorbar": {
             "outlinewidth": 0,
             "ticks": ""
            },
            "colorscale": [
             [
              0,
              "#0d0887"
             ],
             [
              0.1111111111111111,
              "#46039f"
             ],
             [
              0.2222222222222222,
              "#7201a8"
             ],
             [
              0.3333333333333333,
              "#9c179e"
             ],
             [
              0.4444444444444444,
              "#bd3786"
             ],
             [
              0.5555555555555556,
              "#d8576b"
             ],
             [
              0.6666666666666666,
              "#ed7953"
             ],
             [
              0.7777777777777778,
              "#fb9f3a"
             ],
             [
              0.8888888888888888,
              "#fdca26"
             ],
             [
              1,
              "#f0f921"
             ]
            ],
            "type": "contour"
           }
          ],
          "contourcarpet": [
           {
            "colorbar": {
             "outlinewidth": 0,
             "ticks": ""
            },
            "type": "contourcarpet"
           }
          ],
          "heatmap": [
           {
            "colorbar": {
             "outlinewidth": 0,
             "ticks": ""
            },
            "colorscale": [
             [
              0,
              "#0d0887"
             ],
             [
              0.1111111111111111,
              "#46039f"
             ],
             [
              0.2222222222222222,
              "#7201a8"
             ],
             [
              0.3333333333333333,
              "#9c179e"
             ],
             [
              0.4444444444444444,
              "#bd3786"
             ],
             [
              0.5555555555555556,
              "#d8576b"
             ],
             [
              0.6666666666666666,
              "#ed7953"
             ],
             [
              0.7777777777777778,
              "#fb9f3a"
             ],
             [
              0.8888888888888888,
              "#fdca26"
             ],
             [
              1,
              "#f0f921"
             ]
            ],
            "type": "heatmap"
           }
          ],
          "heatmapgl": [
           {
            "colorbar": {
             "outlinewidth": 0,
             "ticks": ""
            },
            "colorscale": [
             [
              0,
              "#0d0887"
             ],
             [
              0.1111111111111111,
              "#46039f"
             ],
             [
              0.2222222222222222,
              "#7201a8"
             ],
             [
              0.3333333333333333,
              "#9c179e"
             ],
             [
              0.4444444444444444,
              "#bd3786"
             ],
             [
              0.5555555555555556,
              "#d8576b"
             ],
             [
              0.6666666666666666,
              "#ed7953"
             ],
             [
              0.7777777777777778,
              "#fb9f3a"
             ],
             [
              0.8888888888888888,
              "#fdca26"
             ],
             [
              1,
              "#f0f921"
             ]
            ],
            "type": "heatmapgl"
           }
          ],
          "histogram": [
           {
            "marker": {
             "pattern": {
              "fillmode": "overlay",
              "size": 10,
              "solidity": 0.2
             }
            },
            "type": "histogram"
           }
          ],
          "histogram2d": [
           {
            "colorbar": {
             "outlinewidth": 0,
             "ticks": ""
            },
            "colorscale": [
             [
              0,
              "#0d0887"
             ],
             [
              0.1111111111111111,
              "#46039f"
             ],
             [
              0.2222222222222222,
              "#7201a8"
             ],
             [
              0.3333333333333333,
              "#9c179e"
             ],
             [
              0.4444444444444444,
              "#bd3786"
             ],
             [
              0.5555555555555556,
              "#d8576b"
             ],
             [
              0.6666666666666666,
              "#ed7953"
             ],
             [
              0.7777777777777778,
              "#fb9f3a"
             ],
             [
              0.8888888888888888,
              "#fdca26"
             ],
             [
              1,
              "#f0f921"
             ]
            ],
            "type": "histogram2d"
           }
          ],
          "histogram2dcontour": [
           {
            "colorbar": {
             "outlinewidth": 0,
             "ticks": ""
            },
            "colorscale": [
             [
              0,
              "#0d0887"
             ],
             [
              0.1111111111111111,
              "#46039f"
             ],
             [
              0.2222222222222222,
              "#7201a8"
             ],
             [
              0.3333333333333333,
              "#9c179e"
             ],
             [
              0.4444444444444444,
              "#bd3786"
             ],
             [
              0.5555555555555556,
              "#d8576b"
             ],
             [
              0.6666666666666666,
              "#ed7953"
             ],
             [
              0.7777777777777778,
              "#fb9f3a"
             ],
             [
              0.8888888888888888,
              "#fdca26"
             ],
             [
              1,
              "#f0f921"
             ]
            ],
            "type": "histogram2dcontour"
           }
          ],
          "mesh3d": [
           {
            "colorbar": {
             "outlinewidth": 0,
             "ticks": ""
            },
            "type": "mesh3d"
           }
          ],
          "parcoords": [
           {
            "line": {
             "colorbar": {
              "outlinewidth": 0,
              "ticks": ""
             }
            },
            "type": "parcoords"
           }
          ],
          "pie": [
           {
            "automargin": true,
            "type": "pie"
           }
          ],
          "scatter": [
           {
            "fillpattern": {
             "fillmode": "overlay",
             "size": 10,
             "solidity": 0.2
            },
            "type": "scatter"
           }
          ],
          "scatter3d": [
           {
            "line": {
             "colorbar": {
              "outlinewidth": 0,
              "ticks": ""
             }
            },
            "marker": {
             "colorbar": {
              "outlinewidth": 0,
              "ticks": ""
             }
            },
            "type": "scatter3d"
           }
          ],
          "scattercarpet": [
           {
            "marker": {
             "colorbar": {
              "outlinewidth": 0,
              "ticks": ""
             }
            },
            "type": "scattercarpet"
           }
          ],
          "scattergeo": [
           {
            "marker": {
             "colorbar": {
              "outlinewidth": 0,
              "ticks": ""
             }
            },
            "type": "scattergeo"
           }
          ],
          "scattergl": [
           {
            "marker": {
             "colorbar": {
              "outlinewidth": 0,
              "ticks": ""
             }
            },
            "type": "scattergl"
           }
          ],
          "scattermapbox": [
           {
            "marker": {
             "colorbar": {
              "outlinewidth": 0,
              "ticks": ""
             }
            },
            "type": "scattermapbox"
           }
          ],
          "scatterpolar": [
           {
            "marker": {
             "colorbar": {
              "outlinewidth": 0,
              "ticks": ""
             }
            },
            "type": "scatterpolar"
           }
          ],
          "scatterpolargl": [
           {
            "marker": {
             "colorbar": {
              "outlinewidth": 0,
              "ticks": ""
             }
            },
            "type": "scatterpolargl"
           }
          ],
          "scatterternary": [
           {
            "marker": {
             "colorbar": {
              "outlinewidth": 0,
              "ticks": ""
             }
            },
            "type": "scatterternary"
           }
          ],
          "surface": [
           {
            "colorbar": {
             "outlinewidth": 0,
             "ticks": ""
            },
            "colorscale": [
             [
              0,
              "#0d0887"
             ],
             [
              0.1111111111111111,
              "#46039f"
             ],
             [
              0.2222222222222222,
              "#7201a8"
             ],
             [
              0.3333333333333333,
              "#9c179e"
             ],
             [
              0.4444444444444444,
              "#bd3786"
             ],
             [
              0.5555555555555556,
              "#d8576b"
             ],
             [
              0.6666666666666666,
              "#ed7953"
             ],
             [
              0.7777777777777778,
              "#fb9f3a"
             ],
             [
              0.8888888888888888,
              "#fdca26"
             ],
             [
              1,
              "#f0f921"
             ]
            ],
            "type": "surface"
           }
          ],
          "table": [
           {
            "cells": {
             "fill": {
              "color": "#EBF0F8"
             },
             "line": {
              "color": "white"
             }
            },
            "header": {
             "fill": {
              "color": "#C8D4E3"
             },
             "line": {
              "color": "white"
             }
            },
            "type": "table"
           }
          ]
         },
         "layout": {
          "annotationdefaults": {
           "arrowcolor": "#2a3f5f",
           "arrowhead": 0,
           "arrowwidth": 1
          },
          "autotypenumbers": "strict",
          "coloraxis": {
           "colorbar": {
            "outlinewidth": 0,
            "ticks": ""
           }
          },
          "colorscale": {
           "diverging": [
            [
             0,
             "#8e0152"
            ],
            [
             0.1,
             "#c51b7d"
            ],
            [
             0.2,
             "#de77ae"
            ],
            [
             0.3,
             "#f1b6da"
            ],
            [
             0.4,
             "#fde0ef"
            ],
            [
             0.5,
             "#f7f7f7"
            ],
            [
             0.6,
             "#e6f5d0"
            ],
            [
             0.7,
             "#b8e186"
            ],
            [
             0.8,
             "#7fbc41"
            ],
            [
             0.9,
             "#4d9221"
            ],
            [
             1,
             "#276419"
            ]
           ],
           "sequential": [
            [
             0,
             "#0d0887"
            ],
            [
             0.1111111111111111,
             "#46039f"
            ],
            [
             0.2222222222222222,
             "#7201a8"
            ],
            [
             0.3333333333333333,
             "#9c179e"
            ],
            [
             0.4444444444444444,
             "#bd3786"
            ],
            [
             0.5555555555555556,
             "#d8576b"
            ],
            [
             0.6666666666666666,
             "#ed7953"
            ],
            [
             0.7777777777777778,
             "#fb9f3a"
            ],
            [
             0.8888888888888888,
             "#fdca26"
            ],
            [
             1,
             "#f0f921"
            ]
           ],
           "sequentialminus": [
            [
             0,
             "#0d0887"
            ],
            [
             0.1111111111111111,
             "#46039f"
            ],
            [
             0.2222222222222222,
             "#7201a8"
            ],
            [
             0.3333333333333333,
             "#9c179e"
            ],
            [
             0.4444444444444444,
             "#bd3786"
            ],
            [
             0.5555555555555556,
             "#d8576b"
            ],
            [
             0.6666666666666666,
             "#ed7953"
            ],
            [
             0.7777777777777778,
             "#fb9f3a"
            ],
            [
             0.8888888888888888,
             "#fdca26"
            ],
            [
             1,
             "#f0f921"
            ]
           ]
          },
          "colorway": [
           "#636efa",
           "#EF553B",
           "#00cc96",
           "#ab63fa",
           "#FFA15A",
           "#19d3f3",
           "#FF6692",
           "#B6E880",
           "#FF97FF",
           "#FECB52"
          ],
          "font": {
           "color": "#2a3f5f"
          },
          "geo": {
           "bgcolor": "white",
           "lakecolor": "white",
           "landcolor": "#E5ECF6",
           "showlakes": true,
           "showland": true,
           "subunitcolor": "white"
          },
          "hoverlabel": {
           "align": "left"
          },
          "hovermode": "closest",
          "mapbox": {
           "style": "light"
          },
          "paper_bgcolor": "white",
          "plot_bgcolor": "#E5ECF6",
          "polar": {
           "angularaxis": {
            "gridcolor": "white",
            "linecolor": "white",
            "ticks": ""
           },
           "bgcolor": "#E5ECF6",
           "radialaxis": {
            "gridcolor": "white",
            "linecolor": "white",
            "ticks": ""
           }
          },
          "scene": {
           "xaxis": {
            "backgroundcolor": "#E5ECF6",
            "gridcolor": "white",
            "gridwidth": 2,
            "linecolor": "white",
            "showbackground": true,
            "ticks": "",
            "zerolinecolor": "white"
           },
           "yaxis": {
            "backgroundcolor": "#E5ECF6",
            "gridcolor": "white",
            "gridwidth": 2,
            "linecolor": "white",
            "showbackground": true,
            "ticks": "",
            "zerolinecolor": "white"
           },
           "zaxis": {
            "backgroundcolor": "#E5ECF6",
            "gridcolor": "white",
            "gridwidth": 2,
            "linecolor": "white",
            "showbackground": true,
            "ticks": "",
            "zerolinecolor": "white"
           }
          },
          "shapedefaults": {
           "line": {
            "color": "#2a3f5f"
           }
          },
          "ternary": {
           "aaxis": {
            "gridcolor": "white",
            "linecolor": "white",
            "ticks": ""
           },
           "baxis": {
            "gridcolor": "white",
            "linecolor": "white",
            "ticks": ""
           },
           "bgcolor": "#E5ECF6",
           "caxis": {
            "gridcolor": "white",
            "linecolor": "white",
            "ticks": ""
           }
          },
          "title": {
           "x": 0.05
          },
          "xaxis": {
           "automargin": true,
           "gridcolor": "white",
           "linecolor": "white",
           "ticks": "",
           "title": {
            "standoff": 15
           },
           "zerolinecolor": "white",
           "zerolinewidth": 2
          },
          "yaxis": {
           "automargin": true,
           "gridcolor": "white",
           "linecolor": "white",
           "ticks": "",
           "title": {
            "standoff": 15
           },
           "zerolinecolor": "white",
           "zerolinewidth": 2
          }
         }
        },
        "title": {
         "text": "Treemaps of metabolic pathways for wt 85% physical intensity",
         "x": 0.5,
         "y": 0.97
        },
        "width": 1000
       }
      }
     },
     "metadata": {},
     "output_type": "display_data"
    },
    {
     "data": {
      "application/vnd.plotly.v1+json": {
       "config": {
        "plotlyServerURL": "https://plot.ly"
       },
       "data": [
        {
         "branchvalues": "total",
         "customdata": [
          [
           0.002
          ],
          [
           0.05965000000000099
          ],
          [
           0.12056368824360497
          ],
          [
           0.12056368824360468
          ],
          [
           2.7511428392821733
          ],
          [
           2.6721428392821736
          ],
          [
           0.048
          ],
          [
           40.88461352128791
          ],
          [
           7.04611901189768
          ],
          [
           2.6511428392821736
          ],
          [
           0.15856368824360473
          ],
          [
           0.002
          ],
          [
           1.21
          ],
          [
           0.6
          ],
          [
           2.6971428392821735
          ],
          [
           1.21
          ],
          [
           0.6
          ],
          [
           0.15856368824360473
          ],
          [
           0.002
          ],
          [
           0.025000000000000005
          ],
          [
           0.12056368824360468
          ],
          [
           0.6
          ],
          [
           2.7511428392821733
          ],
          [
           0.002
          ],
          [
           0.14116666666666644
          ],
          [
           0.14116666666666644
          ],
          [
           3.5359761726155075
          ],
          [
           0.12056368824360497
          ],
          [
           0.12056368824360468
          ],
          [
           7.7820648296029145
          ],
          [
           0.002
          ],
          [
           1.3473333333333333
          ],
          [
           0.6
          ],
          [
           1.21
          ],
          [
           1.21
          ],
          [
           1.31
          ],
          [
           0.10000000000000002
          ],
          [
           2.4664928392821723
          ],
          [
           0.61
          ],
          [
           0.12056368824360472
          ],
          [
           0.002
          ],
          [
           0.12056368824360497
          ],
          [
           0.12056368824360497
          ],
          [
           0.12056368824360497
          ],
          [
           0.12056368824360497
          ],
          [
           0.12056368824360497
          ],
          [
           0.12056368824360497
          ],
          [
           0.12056368824360497
          ],
          [
           0.12056368824360497
          ],
          [
           0.12056368824360475
          ],
          [
           0.12056368824360475
          ],
          [
           0.12056368824360475
          ],
          [
           0.12056368824360472
          ],
          [
           0.12056368824360497
          ],
          [
           0.12056368824360497
          ],
          [
           0.12056368824360475
          ],
          [
           0.12056368824360497
          ],
          [
           31.427430731119255
          ],
          [
           0.12479358963841906
          ],
          [
           0.6
          ],
          [
           1.0720095493790334
          ],
          [
           0.0019999999999999996
          ],
          [
           2.717512725048805
          ],
          [
           20.71398751854719
          ]
         ],
         "domain": {
          "x": [
           0,
           1
          ],
          "y": [
           0,
           1
          ]
         },
         "hovertemplate": "Pathway or enzyme=%{label}<br>Flux=%{value}<br>Percentage=.%{percent entry}<extra></extra>",
         "ids": [
          "Cell/Isoleucine degradation/ACACT10m",
          "Cell/Boundary conditions - core/ACACt2",
          "Cell/FA metabolism/ACADLC14_MitoCore",
          "Cell/FA metabolism/ACADLC16_MitoCore",
          "Cell/TCA cycle/ACONTm",
          "Cell/TCA cycle/AKGDm",
          "Cell/Boundary conditions - core/BHBt",
          "Cell/Boundary conditions - core/Biomass_MitoCore",
          "Cell/Boundary conditions - core/CO2t",
          "Cell/TCA cycle/CSm",
          "Cell/FA metabolism/ECOAH1m",
          "Cell/Isoleucine degradation/ECOAH9m",
          "Cell/Glycolysis/gluconeogenesis/ENO",
          "Cell/Glycolysis/gluconeogenesis/FBA",
          "Cell/TCA cycle/FUMm",
          "Cell/Glycolysis/gluconeogenesis/GAPD",
          "Cell/Boundary conditions - core/GLCt1r",
          "Cell/FA metabolism/HACD1m",
          "Cell/Isoleucine degradation/HACD9m",
          "Cell/Boundary conditions - core/HCO3t_MitoCore",
          "Cell/Boundary conditions - core/HDCAtr",
          "Cell/Glycolysis/HEX1",
          "Cell/TCA cycle/ICDHxm",
          "Cell/Isoleucine degradation/ILETAm",
          "Cell/Glycolysis/gluconeogenesis/LDH_L",
          "Cell/Boundary conditions - core/L_LACt2r",
          "Cell/TCA cycle/MDHm",
          "Cell/FA metabolism/MTPC14_MitoCore",
          "Cell/FA metabolism/MTPC16_MitoCore",
          "Cell/Boundary conditions - core/O2t",
          "Cell/Isoleucine degradation/OIVD3m",
          "Cell/TCA cycle/PDHm",
          "Cell/Glycolysis/gluconeogenesis/PGI",
          "Cell/Glycolysis/gluconeogenesis/PGK",
          "Cell/Glycolysis/gluconeogenesis/PGM",
          "Cell/Glycolysis/gluconeogenesis/PYK",
          "Cell/TCA cycle/SUCOAS1m",
          "Cell/TCA cycle/SUCOASm",
          "Cell/Glycolysis/gluconeogenesis/TPI",
          "Cell/FA metabolism/r0287",
          "Cell/Isoleucine degradation/r0603",
          "Cell/FA metabolism/r0634",
          "Cell/FA metabolism/r0660",
          "Cell/FA metabolism/r0722",
          "Cell/FA metabolism/r0724",
          "Cell/FA metabolism/r0726",
          "Cell/FA metabolism/r0728",
          "Cell/FA metabolism/r0730",
          "Cell/FA metabolism/r0731",
          "Cell/FA metabolism/r0732",
          "Cell/FA metabolism/r0733",
          "Cell/FA metabolism/r0734",
          "Cell/FA metabolism/r1446",
          "Cell/FA metabolism/r1447",
          "Cell/FA metabolism/r1448",
          "Cell/FA metabolism/r1450",
          "Cell/FA metabolism/r1451",
          "Cell/Boundary conditions - core",
          "Cell/FA metabolism",
          "Cell/Glycolysis",
          "Cell/Glycolysis/gluconeogenesis",
          "Cell/Isoleucine degradation",
          "Cell/TCA cycle",
          "Cell"
         ],
         "labels": [
          "ACACT10m",
          "ACACt2",
          "ACADLC14_MitoCore",
          "ACADLC16_MitoCore",
          "ACONTm",
          "AKGDm",
          "BHBt",
          "Biomass_MitoCore",
          "CO2t",
          "CSm",
          "ECOAH1m",
          "ECOAH9m",
          "ENO",
          "FBA",
          "FUMm",
          "GAPD",
          "GLCt1r",
          "HACD1m",
          "HACD9m",
          "HCO3t_MitoCore",
          "HDCAtr",
          "HEX1",
          "ICDHxm",
          "ILETAm",
          "LDH_L",
          "L_LACt2r",
          "MDHm",
          "MTPC14_MitoCore",
          "MTPC16_MitoCore",
          "O2t",
          "OIVD3m",
          "PDHm",
          "PGI",
          "PGK",
          "PGM",
          "PYK",
          "SUCOAS1m",
          "SUCOASm",
          "TPI",
          "r0287",
          "r0603",
          "r0634",
          "r0660",
          "r0722",
          "r0724",
          "r0726",
          "r0728",
          "r0730",
          "r0731",
          "r0732",
          "r0733",
          "r0734",
          "r1446",
          "r1447",
          "r1448",
          "r1450",
          "r1451",
          "Boundary conditions - core",
          "FA metabolism",
          "Glycolysis",
          "Glycolysis/gluconeogenesis",
          "Isoleucine degradation",
          "TCA cycle",
          "Cell"
         ],
         "marker": {
          "coloraxis": "coloraxis",
          "colors": [
           0.002,
           0.05965000000000099,
           0.12056368824360497,
           0.12056368824360468,
           2.7511428392821733,
           2.6721428392821736,
           0.048,
           40.88461352128791,
           7.04611901189768,
           2.6511428392821736,
           0.15856368824360473,
           0.002,
           1.21,
           0.6,
           2.6971428392821735,
           1.21,
           0.6,
           0.15856368824360473,
           0.002,
           0.025000000000000005,
           0.12056368824360468,
           0.6,
           2.7511428392821733,
           0.002,
           0.14116666666666644,
           0.14116666666666644,
           3.5359761726155075,
           0.12056368824360497,
           0.12056368824360468,
           7.7820648296029145,
           0.002,
           1.3473333333333333,
           0.6,
           1.21,
           1.21,
           1.31,
           0.10000000000000002,
           2.4664928392821723,
           0.61,
           0.12056368824360472,
           0.002,
           0.12056368824360497,
           0.12056368824360497,
           0.12056368824360497,
           0.12056368824360497,
           0.12056368824360497,
           0.12056368824360497,
           0.12056368824360497,
           0.12056368824360497,
           0.12056368824360475,
           0.12056368824360475,
           0.12056368824360475,
           0.12056368824360472,
           0.12056368824360497,
           0.12056368824360497,
           0.12056368824360475,
           0.12056368824360497,
           31.427430731119255,
           0.12479358963841906,
           0.6,
           1.0720095493790334,
           0.0019999999999999996,
           2.717512725048805,
           20.71398751854719
          ]
         },
         "name": "",
         "parents": [
          "Cell/Isoleucine degradation",
          "Cell/Boundary conditions - core",
          "Cell/FA metabolism",
          "Cell/FA metabolism",
          "Cell/TCA cycle",
          "Cell/TCA cycle",
          "Cell/Boundary conditions - core",
          "Cell/Boundary conditions - core",
          "Cell/Boundary conditions - core",
          "Cell/TCA cycle",
          "Cell/FA metabolism",
          "Cell/Isoleucine degradation",
          "Cell/Glycolysis/gluconeogenesis",
          "Cell/Glycolysis/gluconeogenesis",
          "Cell/TCA cycle",
          "Cell/Glycolysis/gluconeogenesis",
          "Cell/Boundary conditions - core",
          "Cell/FA metabolism",
          "Cell/Isoleucine degradation",
          "Cell/Boundary conditions - core",
          "Cell/Boundary conditions - core",
          "Cell/Glycolysis",
          "Cell/TCA cycle",
          "Cell/Isoleucine degradation",
          "Cell/Glycolysis/gluconeogenesis",
          "Cell/Boundary conditions - core",
          "Cell/TCA cycle",
          "Cell/FA metabolism",
          "Cell/FA metabolism",
          "Cell/Boundary conditions - core",
          "Cell/Isoleucine degradation",
          "Cell/TCA cycle",
          "Cell/Glycolysis/gluconeogenesis",
          "Cell/Glycolysis/gluconeogenesis",
          "Cell/Glycolysis/gluconeogenesis",
          "Cell/Glycolysis/gluconeogenesis",
          "Cell/TCA cycle",
          "Cell/TCA cycle",
          "Cell/Glycolysis/gluconeogenesis",
          "Cell/FA metabolism",
          "Cell/Isoleucine degradation",
          "Cell/FA metabolism",
          "Cell/FA metabolism",
          "Cell/FA metabolism",
          "Cell/FA metabolism",
          "Cell/FA metabolism",
          "Cell/FA metabolism",
          "Cell/FA metabolism",
          "Cell/FA metabolism",
          "Cell/FA metabolism",
          "Cell/FA metabolism",
          "Cell/FA metabolism",
          "Cell/FA metabolism",
          "Cell/FA metabolism",
          "Cell/FA metabolism",
          "Cell/FA metabolism",
          "Cell/FA metabolism",
          "Cell",
          "Cell",
          "Cell",
          "Cell",
          "Cell",
          "Cell",
          ""
         ],
         "textinfo": "label+value",
         "textposition": "middle center",
         "type": "treemap",
         "values": [
          0.002,
          0.05965000000000099,
          0.12056368824360497,
          0.12056368824360468,
          2.7511428392821733,
          2.6721428392821736,
          0.048,
          40.88461352128791,
          7.04611901189768,
          2.6511428392821736,
          0.15856368824360473,
          0.002,
          1.21,
          0.6,
          2.6971428392821735,
          1.21,
          0.6,
          0.15856368824360473,
          0.002,
          0.025,
          0.12056368824360468,
          0.6,
          2.7511428392821733,
          0.002,
          0.14116666666666644,
          0.14116666666666644,
          3.535976172615507,
          0.12056368824360497,
          0.12056368824360468,
          7.7820648296029145,
          0.002,
          1.3473333333333333,
          0.6,
          1.21,
          1.21,
          1.31,
          0.1,
          2.4664928392821723,
          0.61,
          0.12056368824360472,
          0.002,
          0.12056368824360497,
          0.12056368824360497,
          0.12056368824360497,
          0.12056368824360497,
          0.12056368824360497,
          0.12056368824360497,
          0.12056368824360497,
          0.12056368824360497,
          0.12056368824360475,
          0.12056368824360475,
          0.12056368824360475,
          0.12056368824360472,
          0.12056368824360497,
          0.12056368824360497,
          0.12056368824360475,
          0.12056368824360497,
          56.70717771769878,
          2.8489648296029118,
          0.6,
          8.101166666666666,
          0.012,
          20.97251654164188,
          89.24182575561024
         ]
        }
       ],
       "layout": {
        "coloraxis": {
         "colorbar": {
          "title": {
           "text": "fluxes"
          }
         },
         "colorscale": [
          [
           0,
           "rgb(5,48,97)"
          ],
          [
           0.1,
           "rgb(33,102,172)"
          ],
          [
           0.2,
           "rgb(67,147,195)"
          ],
          [
           0.3,
           "rgb(146,197,222)"
          ],
          [
           0.4,
           "rgb(209,229,240)"
          ],
          [
           0.5,
           "rgb(247,247,247)"
          ],
          [
           0.6,
           "rgb(253,219,199)"
          ],
          [
           0.7,
           "rgb(244,165,130)"
          ],
          [
           0.8,
           "rgb(214,96,77)"
          ],
          [
           0.9,
           "rgb(178,24,43)"
          ],
          [
           1,
           "rgb(103,0,31)"
          ]
         ]
        },
        "font": {
         "color": "white"
        },
        "height": 900,
        "legend": {
         "tracegroupgap": 0
        },
        "margin": {
         "t": 60
        },
        "paper_bgcolor": "#2e2d2d",
        "plot_bgcolor": "rgba(0, 0, 0, 100)",
        "template": {
         "data": {
          "bar": [
           {
            "error_x": {
             "color": "#2a3f5f"
            },
            "error_y": {
             "color": "#2a3f5f"
            },
            "marker": {
             "line": {
              "color": "#E5ECF6",
              "width": 0.5
             },
             "pattern": {
              "fillmode": "overlay",
              "size": 10,
              "solidity": 0.2
             }
            },
            "type": "bar"
           }
          ],
          "barpolar": [
           {
            "marker": {
             "line": {
              "color": "#E5ECF6",
              "width": 0.5
             },
             "pattern": {
              "fillmode": "overlay",
              "size": 10,
              "solidity": 0.2
             }
            },
            "type": "barpolar"
           }
          ],
          "carpet": [
           {
            "aaxis": {
             "endlinecolor": "#2a3f5f",
             "gridcolor": "white",
             "linecolor": "white",
             "minorgridcolor": "white",
             "startlinecolor": "#2a3f5f"
            },
            "baxis": {
             "endlinecolor": "#2a3f5f",
             "gridcolor": "white",
             "linecolor": "white",
             "minorgridcolor": "white",
             "startlinecolor": "#2a3f5f"
            },
            "type": "carpet"
           }
          ],
          "choropleth": [
           {
            "colorbar": {
             "outlinewidth": 0,
             "ticks": ""
            },
            "type": "choropleth"
           }
          ],
          "contour": [
           {
            "colorbar": {
             "outlinewidth": 0,
             "ticks": ""
            },
            "colorscale": [
             [
              0,
              "#0d0887"
             ],
             [
              0.1111111111111111,
              "#46039f"
             ],
             [
              0.2222222222222222,
              "#7201a8"
             ],
             [
              0.3333333333333333,
              "#9c179e"
             ],
             [
              0.4444444444444444,
              "#bd3786"
             ],
             [
              0.5555555555555556,
              "#d8576b"
             ],
             [
              0.6666666666666666,
              "#ed7953"
             ],
             [
              0.7777777777777778,
              "#fb9f3a"
             ],
             [
              0.8888888888888888,
              "#fdca26"
             ],
             [
              1,
              "#f0f921"
             ]
            ],
            "type": "contour"
           }
          ],
          "contourcarpet": [
           {
            "colorbar": {
             "outlinewidth": 0,
             "ticks": ""
            },
            "type": "contourcarpet"
           }
          ],
          "heatmap": [
           {
            "colorbar": {
             "outlinewidth": 0,
             "ticks": ""
            },
            "colorscale": [
             [
              0,
              "#0d0887"
             ],
             [
              0.1111111111111111,
              "#46039f"
             ],
             [
              0.2222222222222222,
              "#7201a8"
             ],
             [
              0.3333333333333333,
              "#9c179e"
             ],
             [
              0.4444444444444444,
              "#bd3786"
             ],
             [
              0.5555555555555556,
              "#d8576b"
             ],
             [
              0.6666666666666666,
              "#ed7953"
             ],
             [
              0.7777777777777778,
              "#fb9f3a"
             ],
             [
              0.8888888888888888,
              "#fdca26"
             ],
             [
              1,
              "#f0f921"
             ]
            ],
            "type": "heatmap"
           }
          ],
          "heatmapgl": [
           {
            "colorbar": {
             "outlinewidth": 0,
             "ticks": ""
            },
            "colorscale": [
             [
              0,
              "#0d0887"
             ],
             [
              0.1111111111111111,
              "#46039f"
             ],
             [
              0.2222222222222222,
              "#7201a8"
             ],
             [
              0.3333333333333333,
              "#9c179e"
             ],
             [
              0.4444444444444444,
              "#bd3786"
             ],
             [
              0.5555555555555556,
              "#d8576b"
             ],
             [
              0.6666666666666666,
              "#ed7953"
             ],
             [
              0.7777777777777778,
              "#fb9f3a"
             ],
             [
              0.8888888888888888,
              "#fdca26"
             ],
             [
              1,
              "#f0f921"
             ]
            ],
            "type": "heatmapgl"
           }
          ],
          "histogram": [
           {
            "marker": {
             "pattern": {
              "fillmode": "overlay",
              "size": 10,
              "solidity": 0.2
             }
            },
            "type": "histogram"
           }
          ],
          "histogram2d": [
           {
            "colorbar": {
             "outlinewidth": 0,
             "ticks": ""
            },
            "colorscale": [
             [
              0,
              "#0d0887"
             ],
             [
              0.1111111111111111,
              "#46039f"
             ],
             [
              0.2222222222222222,
              "#7201a8"
             ],
             [
              0.3333333333333333,
              "#9c179e"
             ],
             [
              0.4444444444444444,
              "#bd3786"
             ],
             [
              0.5555555555555556,
              "#d8576b"
             ],
             [
              0.6666666666666666,
              "#ed7953"
             ],
             [
              0.7777777777777778,
              "#fb9f3a"
             ],
             [
              0.8888888888888888,
              "#fdca26"
             ],
             [
              1,
              "#f0f921"
             ]
            ],
            "type": "histogram2d"
           }
          ],
          "histogram2dcontour": [
           {
            "colorbar": {
             "outlinewidth": 0,
             "ticks": ""
            },
            "colorscale": [
             [
              0,
              "#0d0887"
             ],
             [
              0.1111111111111111,
              "#46039f"
             ],
             [
              0.2222222222222222,
              "#7201a8"
             ],
             [
              0.3333333333333333,
              "#9c179e"
             ],
             [
              0.4444444444444444,
              "#bd3786"
             ],
             [
              0.5555555555555556,
              "#d8576b"
             ],
             [
              0.6666666666666666,
              "#ed7953"
             ],
             [
              0.7777777777777778,
              "#fb9f3a"
             ],
             [
              0.8888888888888888,
              "#fdca26"
             ],
             [
              1,
              "#f0f921"
             ]
            ],
            "type": "histogram2dcontour"
           }
          ],
          "mesh3d": [
           {
            "colorbar": {
             "outlinewidth": 0,
             "ticks": ""
            },
            "type": "mesh3d"
           }
          ],
          "parcoords": [
           {
            "line": {
             "colorbar": {
              "outlinewidth": 0,
              "ticks": ""
             }
            },
            "type": "parcoords"
           }
          ],
          "pie": [
           {
            "automargin": true,
            "type": "pie"
           }
          ],
          "scatter": [
           {
            "fillpattern": {
             "fillmode": "overlay",
             "size": 10,
             "solidity": 0.2
            },
            "type": "scatter"
           }
          ],
          "scatter3d": [
           {
            "line": {
             "colorbar": {
              "outlinewidth": 0,
              "ticks": ""
             }
            },
            "marker": {
             "colorbar": {
              "outlinewidth": 0,
              "ticks": ""
             }
            },
            "type": "scatter3d"
           }
          ],
          "scattercarpet": [
           {
            "marker": {
             "colorbar": {
              "outlinewidth": 0,
              "ticks": ""
             }
            },
            "type": "scattercarpet"
           }
          ],
          "scattergeo": [
           {
            "marker": {
             "colorbar": {
              "outlinewidth": 0,
              "ticks": ""
             }
            },
            "type": "scattergeo"
           }
          ],
          "scattergl": [
           {
            "marker": {
             "colorbar": {
              "outlinewidth": 0,
              "ticks": ""
             }
            },
            "type": "scattergl"
           }
          ],
          "scattermapbox": [
           {
            "marker": {
             "colorbar": {
              "outlinewidth": 0,
              "ticks": ""
             }
            },
            "type": "scattermapbox"
           }
          ],
          "scatterpolar": [
           {
            "marker": {
             "colorbar": {
              "outlinewidth": 0,
              "ticks": ""
             }
            },
            "type": "scatterpolar"
           }
          ],
          "scatterpolargl": [
           {
            "marker": {
             "colorbar": {
              "outlinewidth": 0,
              "ticks": ""
             }
            },
            "type": "scatterpolargl"
           }
          ],
          "scatterternary": [
           {
            "marker": {
             "colorbar": {
              "outlinewidth": 0,
              "ticks": ""
             }
            },
            "type": "scatterternary"
           }
          ],
          "surface": [
           {
            "colorbar": {
             "outlinewidth": 0,
             "ticks": ""
            },
            "colorscale": [
             [
              0,
              "#0d0887"
             ],
             [
              0.1111111111111111,
              "#46039f"
             ],
             [
              0.2222222222222222,
              "#7201a8"
             ],
             [
              0.3333333333333333,
              "#9c179e"
             ],
             [
              0.4444444444444444,
              "#bd3786"
             ],
             [
              0.5555555555555556,
              "#d8576b"
             ],
             [
              0.6666666666666666,
              "#ed7953"
             ],
             [
              0.7777777777777778,
              "#fb9f3a"
             ],
             [
              0.8888888888888888,
              "#fdca26"
             ],
             [
              1,
              "#f0f921"
             ]
            ],
            "type": "surface"
           }
          ],
          "table": [
           {
            "cells": {
             "fill": {
              "color": "#EBF0F8"
             },
             "line": {
              "color": "white"
             }
            },
            "header": {
             "fill": {
              "color": "#C8D4E3"
             },
             "line": {
              "color": "white"
             }
            },
            "type": "table"
           }
          ]
         },
         "layout": {
          "annotationdefaults": {
           "arrowcolor": "#2a3f5f",
           "arrowhead": 0,
           "arrowwidth": 1
          },
          "autotypenumbers": "strict",
          "coloraxis": {
           "colorbar": {
            "outlinewidth": 0,
            "ticks": ""
           }
          },
          "colorscale": {
           "diverging": [
            [
             0,
             "#8e0152"
            ],
            [
             0.1,
             "#c51b7d"
            ],
            [
             0.2,
             "#de77ae"
            ],
            [
             0.3,
             "#f1b6da"
            ],
            [
             0.4,
             "#fde0ef"
            ],
            [
             0.5,
             "#f7f7f7"
            ],
            [
             0.6,
             "#e6f5d0"
            ],
            [
             0.7,
             "#b8e186"
            ],
            [
             0.8,
             "#7fbc41"
            ],
            [
             0.9,
             "#4d9221"
            ],
            [
             1,
             "#276419"
            ]
           ],
           "sequential": [
            [
             0,
             "#0d0887"
            ],
            [
             0.1111111111111111,
             "#46039f"
            ],
            [
             0.2222222222222222,
             "#7201a8"
            ],
            [
             0.3333333333333333,
             "#9c179e"
            ],
            [
             0.4444444444444444,
             "#bd3786"
            ],
            [
             0.5555555555555556,
             "#d8576b"
            ],
            [
             0.6666666666666666,
             "#ed7953"
            ],
            [
             0.7777777777777778,
             "#fb9f3a"
            ],
            [
             0.8888888888888888,
             "#fdca26"
            ],
            [
             1,
             "#f0f921"
            ]
           ],
           "sequentialminus": [
            [
             0,
             "#0d0887"
            ],
            [
             0.1111111111111111,
             "#46039f"
            ],
            [
             0.2222222222222222,
             "#7201a8"
            ],
            [
             0.3333333333333333,
             "#9c179e"
            ],
            [
             0.4444444444444444,
             "#bd3786"
            ],
            [
             0.5555555555555556,
             "#d8576b"
            ],
            [
             0.6666666666666666,
             "#ed7953"
            ],
            [
             0.7777777777777778,
             "#fb9f3a"
            ],
            [
             0.8888888888888888,
             "#fdca26"
            ],
            [
             1,
             "#f0f921"
            ]
           ]
          },
          "colorway": [
           "#636efa",
           "#EF553B",
           "#00cc96",
           "#ab63fa",
           "#FFA15A",
           "#19d3f3",
           "#FF6692",
           "#B6E880",
           "#FF97FF",
           "#FECB52"
          ],
          "font": {
           "color": "#2a3f5f"
          },
          "geo": {
           "bgcolor": "white",
           "lakecolor": "white",
           "landcolor": "#E5ECF6",
           "showlakes": true,
           "showland": true,
           "subunitcolor": "white"
          },
          "hoverlabel": {
           "align": "left"
          },
          "hovermode": "closest",
          "mapbox": {
           "style": "light"
          },
          "paper_bgcolor": "white",
          "plot_bgcolor": "#E5ECF6",
          "polar": {
           "angularaxis": {
            "gridcolor": "white",
            "linecolor": "white",
            "ticks": ""
           },
           "bgcolor": "#E5ECF6",
           "radialaxis": {
            "gridcolor": "white",
            "linecolor": "white",
            "ticks": ""
           }
          },
          "scene": {
           "xaxis": {
            "backgroundcolor": "#E5ECF6",
            "gridcolor": "white",
            "gridwidth": 2,
            "linecolor": "white",
            "showbackground": true,
            "ticks": "",
            "zerolinecolor": "white"
           },
           "yaxis": {
            "backgroundcolor": "#E5ECF6",
            "gridcolor": "white",
            "gridwidth": 2,
            "linecolor": "white",
            "showbackground": true,
            "ticks": "",
            "zerolinecolor": "white"
           },
           "zaxis": {
            "backgroundcolor": "#E5ECF6",
            "gridcolor": "white",
            "gridwidth": 2,
            "linecolor": "white",
            "showbackground": true,
            "ticks": "",
            "zerolinecolor": "white"
           }
          },
          "shapedefaults": {
           "line": {
            "color": "#2a3f5f"
           }
          },
          "ternary": {
           "aaxis": {
            "gridcolor": "white",
            "linecolor": "white",
            "ticks": ""
           },
           "baxis": {
            "gridcolor": "white",
            "linecolor": "white",
            "ticks": ""
           },
           "bgcolor": "#E5ECF6",
           "caxis": {
            "gridcolor": "white",
            "linecolor": "white",
            "ticks": ""
           }
          },
          "title": {
           "x": 0.05
          },
          "xaxis": {
           "automargin": true,
           "gridcolor": "white",
           "linecolor": "white",
           "ticks": "",
           "title": {
            "standoff": 15
           },
           "zerolinecolor": "white",
           "zerolinewidth": 2
          },
          "yaxis": {
           "automargin": true,
           "gridcolor": "white",
           "linecolor": "white",
           "ticks": "",
           "title": {
            "standoff": 15
           },
           "zerolinecolor": "white",
           "zerolinewidth": 2
          }
         }
        },
        "title": {
         "text": "Treemaps of metabolic pathways for calpain 85% physical intensity",
         "x": 0.5,
         "y": 0.97
        },
        "width": 1000
       }
      }
     },
     "metadata": {},
     "output_type": "display_data"
    }
   ],
   "source": [
    "mal.display_treemap(dt85, 'wt 85')\n",
    "mal.display_treemap(dt85_calpain, 'calpain 85')"
   ]
  },
  {
   "attachments": {},
   "cell_type": "markdown",
   "id": "ebd00292",
   "metadata": {},
   "source": [
    "## 100% d'intensité"
   ]
  },
  {
   "cell_type": "code",
   "execution_count": 160,
   "id": "769fab93",
   "metadata": {},
   "outputs": [],
   "source": [
    "df_pathways_comparison_100 = pd.DataFrame(columns=['CAPN3+', 'CAPN3-KO'])\n",
    "df_pathways_comparison_100['CAPN3+'] = df_metabolic_pathways['100%']\n",
    "df_pathways_comparison_100['CAPN3-KO'] = df_metabolic_pathways_calpain['100%']"
   ]
  },
  {
   "cell_type": "code",
   "execution_count": 161,
   "id": "95d10214",
   "metadata": {},
   "outputs": [
    {
     "data": {
      "image/png": "[encoded data removed]",
      "text/plain": [
       "<Figure size 250x500 with 1 Axes>"
      ]
     },
     "metadata": {},
     "output_type": "display_data"
    },
    {
     "data": {
      "text/plain": [
       "<module 'matplotlib.pyplot' from '/home/csiharath/.conda/envs/mitoenv/lib/python3.8/site-packages/matplotlib/pyplot.py'>"
      ]
     },
     "execution_count": 161,
     "metadata": {},
     "output_type": "execute_result"
    }
   ],
   "source": [
    "mal.barplot_pathways(df_pathways_comparison_100, \"plot_comparaison_wt_vs_calpain_100.png\", keys=['glycolysis', 'beta oxidation', 'Ketone bodies', 'Leucine degradation', 'Isoleucine degradation'], prop=True, figsize=(2.5,5))"
   ]
  },
  {
   "cell_type": "code",
   "execution_count": 162,
   "id": "271d67d9",
   "metadata": {},
   "outputs": [
    {
     "data": {
      "image/png": "[encoded data removed]",
      "text/plain": [
       "<Figure size 250x500 with 1 Axes>"
      ]
     },
     "metadata": {},
     "output_type": "display_data"
    },
    {
     "data": {
      "text/plain": [
       "<module 'matplotlib.pyplot' from '/home/csiharath/.conda/envs/mitoenv/lib/python3.8/site-packages/matplotlib/pyplot.py'>"
      ]
     },
     "execution_count": 162,
     "metadata": {},
     "output_type": "execute_result"
    }
   ],
   "source": [
    "proportion_wt_calpain_100 = mal.build_df_proportion(df_pathways_comparison_100)\n",
    "mal.barplot_pathways(proportion_wt_calpain_100, \"plot_proportion_wt_calpain_100.png\", keys=['glycolysis', 'beta oxidation', 'Ketone bodies', 'Leucine degradation', 'Isoleucine degradation'], prop=True, figsize=(2.5,5))"
   ]
  }
 ],
 "metadata": {
  "kernelspec": {
   "display_name": "mitoenv",
   "language": "python",
   "name": "mitoenv"
  },
  "language_info": {
   "codemirror_mode": {
    "name": "ipython",
    "version": 3
   },
   "file_extension": ".py",
   "mimetype": "text/x-python",
   "name": "python",
   "nbconvert_exporter": "python",
   "pygments_lexer": "ipython3",
   "version": "3.8.0"
  },
  "vscode": {
   "interpreter": {
    "hash": "ac468e55ad2ef5f5125ff5ce5a3ec3c4aad5a0304b07ccdad5a9ba313e5a64c2"
   }
  }
 },
 "nbformat": 4,
 "nbformat_minor": 5
}
